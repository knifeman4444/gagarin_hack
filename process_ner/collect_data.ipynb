{
 "cells": [
  {
   "cell_type": "code",
   "id": "initial_id",
   "metadata": {
    "collapsed": true,
    "ExecuteTime": {
     "end_time": "2024-04-14T03:55:30.756062Z",
     "start_time": "2024-04-14T03:55:27.802454Z"
    }
   },
   "source": [
    "import os\n",
    "os.environ['HACK_DATA_PATH'] = '../data/sentiment_dataset'\n",
    "\n",
    "from ChatGPTRequestManager import RequestManager\n",
    "import numpy as np\n",
    "import pandas as pd\n",
    "import final_solution"
   ],
   "outputs": [],
   "execution_count": 6
  },
  {
   "metadata": {
    "ExecuteTime": {
     "end_time": "2024-04-14T04:18:57.311599Z",
     "start_time": "2024-04-14T04:18:57.301402Z"
    }
   },
   "cell_type": "code",
   "source": [
    "generated_dataset = pd.DataFrame(columns=['text', 'entity_idx', 'start_pos', 'end_pos', 'score'])\n",
    "if not os.path.exists('generated.csv'):\n",
    "    generated_dataset.to_csv('generated_dataset.csv', index=False)\n",
    "else:\n",
    "    generated_dataset = pd.read_csv('generated_dataset.csv')"
   ],
   "id": "f176f4870ecf62e4",
   "outputs": [],
   "execution_count": 22
  },
  {
   "metadata": {
    "ExecuteTime": {
     "end_time": "2024-04-14T04:18:59.602063Z",
     "start_time": "2024-04-14T04:18:58.088494Z"
    }
   },
   "cell_type": "code",
   "source": [
    "manager = RequestManager()\n",
    "\n",
    "def get_scores(text: str, entities: list):\n",
    "    prompt = text + '\\n' + 'Компании: '\n",
    "    used = set()\n",
    "    names = {}\n",
    "    for eid, (start_pos, end_pos) in entities:\n",
    "        if eid in used:\n",
    "            continue\n",
    "        used.add(eid)\n",
    "        name = text[start_pos:end_pos + 1]\n",
    "        prompt += name + ', '\n",
    "        names[name] = eid\n",
    "        names[eid] = name\n",
    "        \n",
    "    prompt = prompt[:-2]\n",
    "    print(f\"Request of length {len(prompt)}\")\n",
    "    response = manager.write_one_message_with_role(prompt).split('\\n')\n",
    "    \n",
    "    sentiments = {}\n",
    "    for i in range(len(response)):\n",
    "        name = response[i].split(':')[0]\n",
    "        sentiment = response[i].split(':')[1]\n",
    "        \n",
    "        try:\n",
    "            eid = names[name.strip()]\n",
    "            sentiments[eid] = int(sentiment.strip())\n",
    "        except:\n",
    "            continue\n",
    "            \n",
    "    return [sentiments.get(eid, 0) for eid, (_, _) in entities]\n",
    "        \n",
    "        \n",
    "get_scores('Apple упал', [(1, (0, 4))])\n",
    "        "
   ],
   "id": "8eb2997c9e8e434d",
   "outputs": [
    {
     "name": "stdout",
     "output_type": "stream",
     "text": [
      "Request of length 26\n"
     ]
    },
    {
     "data": {
      "text/plain": [
       "[2]"
      ]
     },
     "execution_count": 23,
     "metadata": {},
     "output_type": "execute_result"
    }
   ],
   "execution_count": 23
  },
  {
   "metadata": {
    "ExecuteTime": {
     "end_time": "2024-04-14T04:37:00.818629Z",
     "start_time": "2024-04-14T04:29:40.007777Z"
    }
   },
   "cell_type": "code",
   "source": [
    "from tqdm import tqdm\n",
    "\n",
    "targets = ['markettwits.csv', 'smartlabnews.csv', 'MarketOverview.csv']\n",
    "\n",
    "for filename in os.listdir('../download/data_large'):\n",
    "    if filename not in targets:\n",
    "        continue\n",
    "    if filename.endswith('.csv'):\n",
    "        print(f'Processing {filename}')\n",
    "        df = pd.read_csv(f'../download/data_large/{filename}')\n",
    "        if df.shape[0] > 1000:\n",
    "            df = df.sample(1000)\n",
    "    else:\n",
    "        continue\n",
    "        \n",
    "    texts = df['text'].dropna().values.tolist()\n",
    "    all_entities = final_solution.baseline.find_entities(texts)\n",
    "    \n",
    "    for text, entities in tqdm(zip(texts, all_entities)):\n",
    "        if len(entities) == 0:\n",
    "            continue\n",
    "        \n",
    "        scores = get_scores(text, entities)\n",
    "        print(scores)\n",
    "        \n",
    "        for i, (eid, (start_pos, end_pos)) in enumerate(entities):\n",
    "            if scores[i] not in [1, 2, 3, 4, 5]:\n",
    "                continue\n",
    "            generated_dataset = pd.concat([\n",
    "                generated_dataset,\n",
    "                pd.DataFrame([[text, eid, start_pos, end_pos, scores[i]]], columns=['text', 'entity_idx', 'start_pos', 'end_pos', 'score'])\n",
    "            ])\n",
    "            generated_dataset.to_csv('generated_dataset.csv', index=False)\n",
    "                    \n",
    "    "
   ],
   "id": "6ff1e426cce8cd19",
   "outputs": [
    {
     "name": "stdout",
     "output_type": "stream",
     "text": [
      "Processing smartlabnews.csv\n"
     ]
    },
    {
     "name": "stderr",
     "output_type": "stream",
     "text": [
      "100%|██████████| 945/945 [00:20<00:00, 45.38it/s]\n",
      "0it [00:00, ?it/s]"
     ]
    },
    {
     "name": "stdout",
     "output_type": "stream",
     "text": [
      "Request of length 3845\n",
      "[3, 3, 1, 4, 4, 4, 5, 5, 1, 1]\n",
      "Added\n",
      "Added\n",
      "Added\n",
      "Added\n",
      "Added\n",
      "Added\n",
      "Added\n"
     ]
    },
    {
     "name": "stderr",
     "output_type": "stream",
     "text": [
      "1it [00:02,  2.13s/it]"
     ]
    },
    {
     "name": "stdout",
     "output_type": "stream",
     "text": [
      "Added\n",
      "Added\n",
      "Added\n",
      "Request of length 2386\n",
      "[3, 3, 3, 3, 3, 3, 3, 3, 3, 3, 3, 3, 3, 3, 3, 3]\n",
      "Added\n",
      "Added\n",
      "Added\n",
      "Added\n",
      "Added\n",
      "Added\n",
      "Added\n",
      "Added\n",
      "Added\n",
      "Added\n",
      "Added\n",
      "Added\n",
      "Added\n",
      "Added\n",
      "Added\n"
     ]
    },
    {
     "name": "stderr",
     "output_type": "stream",
     "text": [
      "3it [00:03,  1.21s/it]"
     ]
    },
    {
     "name": "stdout",
     "output_type": "stream",
     "text": [
      "Added\n",
      "Request of length 805\n",
      "[4, 4, 3, 3, 4, 3, 3, 3]\n",
      "Added\n",
      "Added\n",
      "Added\n",
      "Added\n",
      "Added\n",
      "Added\n",
      "Added\n"
     ]
    },
    {
     "name": "stderr",
     "output_type": "stream",
     "text": [
      "4it [00:05,  1.27s/it]"
     ]
    },
    {
     "name": "stdout",
     "output_type": "stream",
     "text": [
      "Added\n",
      "Request of length 2373\n",
      "[0, 5, 5, 5, 3, 5, 5, 3, 3, 5, 5, 5, 3, 2, 0, 2, 0, 2, 2, 2, 2, 2, 0, 1]\n",
      "Added\n",
      "Added\n",
      "Added\n",
      "Added\n",
      "Added\n",
      "Added\n",
      "Added\n",
      "Added\n",
      "Added\n",
      "Added\n",
      "Added\n",
      "Added\n",
      "Added\n",
      "Added\n",
      "Added\n",
      "Added\n",
      "Added\n",
      "Added\n",
      "Added\n"
     ]
    },
    {
     "name": "stderr",
     "output_type": "stream",
     "text": [
      "5it [00:07,  1.72s/it]"
     ]
    },
    {
     "name": "stdout",
     "output_type": "stream",
     "text": [
      "Added\n",
      "Request of length 1483\n"
     ]
    },
    {
     "name": "stderr",
     "output_type": "stream",
     "text": [
      "6it [00:08,  1.49s/it]"
     ]
    },
    {
     "name": "stdout",
     "output_type": "stream",
     "text": [
      "[4, 4, 1]\n",
      "Added\n",
      "Added\n",
      "Added\n",
      "Request of length 383\n"
     ]
    },
    {
     "name": "stderr",
     "output_type": "stream",
     "text": [
      "7it [00:09,  1.29s/it]"
     ]
    },
    {
     "name": "stdout",
     "output_type": "stream",
     "text": [
      "[2, 1, 0]\n",
      "Added\n",
      "Added\n",
      "Request of length 2594\n",
      "[5, 4, 4, 5, 1, 5, 4, 1, 5, 5, 4, 0, 4, 4, 4, 5, 1]\n",
      "Added\n",
      "Added\n",
      "Added\n",
      "Added\n",
      "Added\n",
      "Added\n",
      "Added\n",
      "Added\n",
      "Added\n",
      "Added\n",
      "Added\n",
      "Added\n",
      "Added\n",
      "Added\n",
      "Added\n"
     ]
    },
    {
     "name": "stderr",
     "output_type": "stream",
     "text": [
      "10it [00:11,  1.09it/s]"
     ]
    },
    {
     "name": "stdout",
     "output_type": "stream",
     "text": [
      "Added\n",
      "Request of length 1634\n"
     ]
    },
    {
     "name": "stderr",
     "output_type": "stream",
     "text": [
      "12it [00:12,  1.33it/s]"
     ]
    },
    {
     "name": "stdout",
     "output_type": "stream",
     "text": [
      "[5, 5]\n",
      "Added\n",
      "Added\n",
      "Request of length 1316\n",
      "[3, 2, 2, 2, 2, 2, 3, 3, 4, 2, 2, 2]\n",
      "Added\n",
      "Added\n",
      "Added\n",
      "Added\n",
      "Added\n",
      "Added\n",
      "Added\n",
      "Added\n",
      "Added\n",
      "Added\n",
      "Added\n"
     ]
    },
    {
     "name": "stderr",
     "output_type": "stream",
     "text": [
      "13it [00:14,  1.01s/it]"
     ]
    },
    {
     "name": "stdout",
     "output_type": "stream",
     "text": [
      "Added\n",
      "Request of length 3733\n",
      "[3, 3, 3, 3, 3, 3, 2, 3]\n",
      "Added\n",
      "Added\n",
      "Added\n",
      "Added\n",
      "Added\n",
      "Added\n",
      "Added\n"
     ]
    },
    {
     "name": "stderr",
     "output_type": "stream",
     "text": [
      "14it [00:16,  1.22s/it]"
     ]
    },
    {
     "name": "stdout",
     "output_type": "stream",
     "text": [
      "Added\n",
      "Request of length 2727\n"
     ]
    },
    {
     "name": "stderr",
     "output_type": "stream",
     "text": [
      "15it [00:17,  1.07s/it]"
     ]
    },
    {
     "name": "stdout",
     "output_type": "stream",
     "text": [
      "[1]\n",
      "Added\n",
      "Request of length 442\n",
      "[4, 4, 4, 4, 4, 4]\n",
      "Added\n",
      "Added\n",
      "Added\n"
     ]
    },
    {
     "name": "stderr",
     "output_type": "stream",
     "text": [
      "19it [00:18,  1.72it/s]"
     ]
    },
    {
     "name": "stdout",
     "output_type": "stream",
     "text": [
      "Added\n",
      "Added\n",
      "Added\n",
      "Request of length 437\n",
      "[3, 2, 3, 2]\n",
      "Added\n",
      "Added\n",
      "Added\n"
     ]
    },
    {
     "name": "stderr",
     "output_type": "stream",
     "text": [
      "20it [00:18,  1.61it/s]"
     ]
    },
    {
     "name": "stdout",
     "output_type": "stream",
     "text": [
      "Added\n",
      "Request of length 873\n"
     ]
    },
    {
     "name": "stderr",
     "output_type": "stream",
     "text": [
      "21it [00:19,  1.44it/s]"
     ]
    },
    {
     "name": "stdout",
     "output_type": "stream",
     "text": [
      "[0, 0, 0, 0, 0]\n",
      "Request of length 499\n"
     ]
    },
    {
     "name": "stderr",
     "output_type": "stream",
     "text": [
      "22it [00:20,  1.41it/s]"
     ]
    },
    {
     "name": "stdout",
     "output_type": "stream",
     "text": [
      "[2, 3]\n",
      "Added\n",
      "Added\n",
      "Request of length 421\n"
     ]
    },
    {
     "name": "stderr",
     "output_type": "stream",
     "text": [
      "24it [00:21,  1.65it/s]"
     ]
    },
    {
     "name": "stdout",
     "output_type": "stream",
     "text": [
      "[0]\n",
      "Request of length 1756\n",
      "[4, 4, 4, 4]\n",
      "Added\n",
      "Added\n",
      "Added\n"
     ]
    },
    {
     "name": "stderr",
     "output_type": "stream",
     "text": [
      "25it [00:22,  1.33it/s]"
     ]
    },
    {
     "name": "stdout",
     "output_type": "stream",
     "text": [
      "Added\n",
      "Request of length 3073\n"
     ]
    },
    {
     "name": "stderr",
     "output_type": "stream",
     "text": [
      "29it [00:23,  2.22it/s]"
     ]
    },
    {
     "name": "stdout",
     "output_type": "stream",
     "text": [
      "[3]\n",
      "Added\n",
      "Request of length 1707\n",
      "[5, 5, 5, 4]\n",
      "Added\n",
      "Added\n",
      "Added\n"
     ]
    },
    {
     "name": "stderr",
     "output_type": "stream",
     "text": [
      "30it [00:24,  1.79it/s]"
     ]
    },
    {
     "name": "stdout",
     "output_type": "stream",
     "text": [
      "Added\n",
      "Request of length 654\n"
     ]
    },
    {
     "name": "stderr",
     "output_type": "stream",
     "text": [
      "31it [00:25,  1.53it/s]"
     ]
    },
    {
     "name": "stdout",
     "output_type": "stream",
     "text": [
      "[5, 4, 2]\n",
      "Added\n",
      "Added\n",
      "Added\n",
      "Request of length 1261\n",
      "[3, 3, 3, 3, 3, 3, 3, 3, 3, 3, 3, 3, 3, 3]\n",
      "Added\n",
      "Added\n",
      "Added\n",
      "Added\n",
      "Added\n",
      "Added\n",
      "Added\n",
      "Added\n",
      "Added\n",
      "Added\n",
      "Added\n",
      "Added\n",
      "Added\n"
     ]
    },
    {
     "name": "stderr",
     "output_type": "stream",
     "text": [
      "35it [00:27,  1.72it/s]"
     ]
    },
    {
     "name": "stdout",
     "output_type": "stream",
     "text": [
      "Added\n",
      "Request of length 399\n",
      "[4, 3, 4, 4, 4, 3]\n",
      "Added\n",
      "Added\n",
      "Added\n"
     ]
    },
    {
     "name": "stderr",
     "output_type": "stream",
     "text": [
      "36it [00:29,  1.47it/s]"
     ]
    },
    {
     "name": "stdout",
     "output_type": "stream",
     "text": [
      "Added\n",
      "Added\n",
      "Added\n",
      "Request of length 638\n",
      "[3, 3, 3, 3, 3, 3, 3]\n",
      "Added\n",
      "Added\n",
      "Added\n",
      "Added\n",
      "Added\n"
     ]
    },
    {
     "name": "stderr",
     "output_type": "stream",
     "text": [
      "43it [00:30,  2.40it/s]"
     ]
    },
    {
     "name": "stdout",
     "output_type": "stream",
     "text": [
      "Added\n",
      "Added\n",
      "Request of length 1947\n",
      "[2, 2, 2]\n",
      "Added\n",
      "Added\n"
     ]
    },
    {
     "name": "stderr",
     "output_type": "stream",
     "text": [
      "45it [00:32,  2.21it/s]"
     ]
    },
    {
     "name": "stdout",
     "output_type": "stream",
     "text": [
      "Added\n",
      "Request of length 1878\n",
      "[5, 5, 5, 5]\n",
      "Added\n",
      "Added\n",
      "Added\n"
     ]
    },
    {
     "name": "stderr",
     "output_type": "stream",
     "text": [
      "46it [00:32,  2.00it/s]"
     ]
    },
    {
     "name": "stdout",
     "output_type": "stream",
     "text": [
      "Added\n",
      "Request of length 2064\n",
      "[3, 3, 3, 5, 5, 5, 4, 4, 2, 2, 5, 5, 2, 2, 4, 4]\n",
      "Added\n",
      "Added\n",
      "Added\n",
      "Added\n",
      "Added\n",
      "Added\n",
      "Added\n",
      "Added\n",
      "Added\n",
      "Added\n",
      "Added\n",
      "Added\n",
      "Added\n",
      "Added\n"
     ]
    },
    {
     "name": "stderr",
     "output_type": "stream",
     "text": [
      "47it [00:35,  1.28it/s]"
     ]
    },
    {
     "name": "stdout",
     "output_type": "stream",
     "text": [
      "Added\n",
      "Added\n",
      "Request of length 2460\n",
      "[4, 3, 2, 3, 4, 4, 3, 2, 5, 4, 4, 5, 2, 4, 2, 5, 4, 5, 2, 4, 4]\n",
      "Added\n",
      "Added\n",
      "Added\n",
      "Added\n",
      "Added\n",
      "Added\n",
      "Added\n",
      "Added\n",
      "Added\n",
      "Added\n",
      "Added\n",
      "Added\n",
      "Added\n",
      "Added\n",
      "Added\n",
      "Added\n",
      "Added\n",
      "Added\n"
     ]
    },
    {
     "name": "stderr",
     "output_type": "stream",
     "text": [
      "48it [00:38,  1.15s/it]"
     ]
    },
    {
     "name": "stdout",
     "output_type": "stream",
     "text": [
      "Added\n",
      "Added\n",
      "Added\n",
      "Request of length 1679\n",
      "[0, 5, 4, 4, 0, 4, 5, 5, 5, 4, 4, 4, 4, 5, 5, 3, 3, 2, 2, 3, 3]\n",
      "Added\n",
      "Added\n",
      "Added\n",
      "Added\n",
      "Added\n",
      "Added\n",
      "Added\n",
      "Added\n",
      "Added\n",
      "Added\n",
      "Added\n",
      "Added\n",
      "Added\n",
      "Added\n",
      "Added\n"
     ]
    },
    {
     "name": "stderr",
     "output_type": "stream",
     "text": [
      "49it [00:40,  1.46s/it]"
     ]
    },
    {
     "name": "stdout",
     "output_type": "stream",
     "text": [
      "Added\n",
      "Added\n",
      "Added\n",
      "Added\n",
      "Request of length 960\n"
     ]
    },
    {
     "name": "stderr",
     "output_type": "stream",
     "text": [
      "53it [00:41,  1.25it/s]"
     ]
    },
    {
     "name": "stdout",
     "output_type": "stream",
     "text": [
      "[4]\n",
      "Added\n",
      "Request of length 651\n"
     ]
    },
    {
     "name": "stderr",
     "output_type": "stream",
     "text": [
      "54it [00:42,  1.25it/s]"
     ]
    },
    {
     "name": "stdout",
     "output_type": "stream",
     "text": [
      "[0, 0, 0, 0, 0, 0, 0, 0, 0, 0]\n",
      "Request of length 2181\n",
      "[2, 5, 2, 5, 3, 2, 5, 3, 2, 5, 4, 5, 5]\n",
      "Added\n",
      "Added\n",
      "Added\n",
      "Added\n",
      "Added\n",
      "Added\n",
      "Added\n",
      "Added\n",
      "Added\n",
      "Added\n"
     ]
    },
    {
     "name": "stderr",
     "output_type": "stream",
     "text": [
      "55it [00:45,  1.13s/it]"
     ]
    },
    {
     "name": "stdout",
     "output_type": "stream",
     "text": [
      "Added\n",
      "Added\n",
      "Added\n",
      "Request of length 956\n",
      "[4, 4, 4, 4, 4, 4]\n",
      "Added\n",
      "Added\n",
      "Added\n"
     ]
    },
    {
     "name": "stderr",
     "output_type": "stream",
     "text": [
      "56it [00:45,  1.09s/it]"
     ]
    },
    {
     "name": "stdout",
     "output_type": "stream",
     "text": [
      "Added\n",
      "Added\n",
      "Added\n",
      "Request of length 2448\n",
      "[3, 5, 5, 2, 2, 4, 4, 4, 4, 3, 3]\n",
      "Added\n",
      "Added\n",
      "Added\n",
      "Added\n",
      "Added\n",
      "Added\n",
      "Added\n",
      "Added\n"
     ]
    },
    {
     "name": "stderr",
     "output_type": "stream",
     "text": [
      "57it [00:47,  1.24s/it]"
     ]
    },
    {
     "name": "stdout",
     "output_type": "stream",
     "text": [
      "Added\n",
      "Added\n",
      "Added\n",
      "Request of length 1756\n",
      "[0, 0, 0, 5, 5, 4, 1, 0, 1, 4, 4, 3, 1, 3, 3]\n",
      "Added\n",
      "Added\n",
      "Added\n",
      "Added\n",
      "Added\n",
      "Added\n",
      "Added\n",
      "Added\n",
      "Added\n",
      "Added\n"
     ]
    },
    {
     "name": "stderr",
     "output_type": "stream",
     "text": [
      "58it [00:50,  1.52s/it]"
     ]
    },
    {
     "name": "stdout",
     "output_type": "stream",
     "text": [
      "Added\n",
      "Request of length 2064\n",
      "[4, 4, 4, 4, 4, 4]\n",
      "Added\n",
      "Added\n",
      "Added\n"
     ]
    },
    {
     "name": "stderr",
     "output_type": "stream",
     "text": [
      "59it [00:51,  1.43s/it]"
     ]
    },
    {
     "name": "stdout",
     "output_type": "stream",
     "text": [
      "Added\n",
      "Added\n",
      "Added\n",
      "Request of length 1442\n",
      "[3, 2, 4, 4, 4, 4, 4, 4, 3, 4, 4, 4, 4, 5, 3, 5]\n",
      "Added\n",
      "Added\n",
      "Added\n",
      "Added\n",
      "Added\n",
      "Added\n",
      "Added\n",
      "Added\n",
      "Added\n",
      "Added\n",
      "Added\n",
      "Added\n",
      "Added\n",
      "Added\n",
      "Added\n"
     ]
    },
    {
     "name": "stderr",
     "output_type": "stream",
     "text": [
      "60it [00:53,  1.66s/it]"
     ]
    },
    {
     "name": "stdout",
     "output_type": "stream",
     "text": [
      "Added\n",
      "Request of length 238\n",
      "[5, 5]\n",
      "Added\n"
     ]
    },
    {
     "name": "stderr",
     "output_type": "stream",
     "text": [
      "61it [00:54,  1.39s/it]"
     ]
    },
    {
     "name": "stdout",
     "output_type": "stream",
     "text": [
      "Added\n",
      "Request of length 403\n"
     ]
    },
    {
     "name": "stderr",
     "output_type": "stream",
     "text": [
      "62it [00:55,  1.25s/it]"
     ]
    },
    {
     "name": "stdout",
     "output_type": "stream",
     "text": [
      "[0, 0, 0, 0, 0]\n",
      "Request of length 2690\n",
      "[4, 4, 4, 4, 4, 4, 4]\n",
      "Added\n",
      "Added\n",
      "Added\n"
     ]
    },
    {
     "name": "stderr",
     "output_type": "stream",
     "text": [
      "64it [00:56,  1.03it/s]"
     ]
    },
    {
     "name": "stdout",
     "output_type": "stream",
     "text": [
      "Added\n",
      "Added\n",
      "Added\n",
      "Added\n",
      "Request of length 1484\n",
      "[5, 4, 4, 2]\n",
      "Added\n",
      "Added\n",
      "Added\n"
     ]
    },
    {
     "name": "stderr",
     "output_type": "stream",
     "text": [
      "69it [00:57,  1.95it/s]"
     ]
    },
    {
     "name": "stdout",
     "output_type": "stream",
     "text": [
      "Added\n",
      "Request of length 583\n",
      "[5, 5, 5, 5, 5, 5]\n",
      "Added\n",
      "Added\n",
      "Added\n"
     ]
    },
    {
     "name": "stderr",
     "output_type": "stream",
     "text": [
      "74it [00:58,  2.62it/s]"
     ]
    },
    {
     "name": "stdout",
     "output_type": "stream",
     "text": [
      "Added\n",
      "Added\n",
      "Added\n",
      "Request of length 680\n",
      "[5, 5, 0, 5, 5]\n",
      "Added\n",
      "Added\n",
      "Added\n"
     ]
    },
    {
     "name": "stderr",
     "output_type": "stream",
     "text": [
      "76it [00:59,  2.53it/s]"
     ]
    },
    {
     "name": "stdout",
     "output_type": "stream",
     "text": [
      "Added\n",
      "Request of length 250\n"
     ]
    },
    {
     "name": "stderr",
     "output_type": "stream",
     "text": [
      "78it [01:00,  2.70it/s]"
     ]
    },
    {
     "name": "stdout",
     "output_type": "stream",
     "text": [
      "[0]\n",
      "Request of length 709\n",
      "[4, 3, 4, 4, 3]\n",
      "Added\n",
      "Added\n",
      "Added\n"
     ]
    },
    {
     "name": "stderr",
     "output_type": "stream",
     "text": [
      "79it [01:01,  2.16it/s]"
     ]
    },
    {
     "name": "stdout",
     "output_type": "stream",
     "text": [
      "Added\n",
      "Added\n",
      "Request of length 424\n"
     ]
    },
    {
     "name": "stderr",
     "output_type": "stream",
     "text": [
      "80it [01:01,  1.92it/s]"
     ]
    },
    {
     "name": "stdout",
     "output_type": "stream",
     "text": [
      "[5, 5, 5]\n",
      "Added\n",
      "Added\n",
      "Added\n",
      "Request of length 528\n"
     ]
    },
    {
     "name": "stderr",
     "output_type": "stream",
     "text": [
      "81it [01:02,  2.00it/s]"
     ]
    },
    {
     "name": "stdout",
     "output_type": "stream",
     "text": [
      "[3]\n",
      "Added\n",
      "Request of length 4022\n",
      "[4, 4, 4, 3, 3, 3, 3, 3, 4, 4, 4, 4, 3]\n",
      "Added\n",
      "Added\n",
      "Added\n",
      "Added\n",
      "Added\n",
      "Added\n",
      "Added\n",
      "Added\n",
      "Added\n"
     ]
    },
    {
     "name": "stderr",
     "output_type": "stream",
     "text": [
      "83it [01:04,  1.37it/s]"
     ]
    },
    {
     "name": "stdout",
     "output_type": "stream",
     "text": [
      "Added\n",
      "Added\n",
      "Added\n",
      "Added\n",
      "Request of length 338\n"
     ]
    },
    {
     "name": "stderr",
     "output_type": "stream",
     "text": [
      "84it [01:05,  1.32it/s]"
     ]
    },
    {
     "name": "stdout",
     "output_type": "stream",
     "text": [
      "[5, 5]\n",
      "Added\n",
      "Added\n",
      "Request of length 436\n"
     ]
    },
    {
     "name": "stderr",
     "output_type": "stream",
     "text": [
      "89it [01:06,  2.49it/s]"
     ]
    },
    {
     "name": "stdout",
     "output_type": "stream",
     "text": [
      "[2, 2]\n",
      "Added\n",
      "Added\n",
      "Request of length 1243\n",
      "[2, 2, 2, 3, 2, 2]\n",
      "Added\n",
      "Added\n",
      "Added\n"
     ]
    },
    {
     "name": "stderr",
     "output_type": "stream",
     "text": [
      "90it [01:07,  2.11it/s]"
     ]
    },
    {
     "name": "stdout",
     "output_type": "stream",
     "text": [
      "Added\n",
      "Added\n",
      "Added\n",
      "Request of length 2617\n"
     ]
    },
    {
     "name": "stderr",
     "output_type": "stream",
     "text": [
      "91it [01:08,  1.68it/s]"
     ]
    },
    {
     "name": "stdout",
     "output_type": "stream",
     "text": [
      "[3]\n",
      "Added\n",
      "Request of length 855\n",
      "[3, 1, 1, 1, 4]\n",
      "Added\n",
      "Added\n",
      "Added\n"
     ]
    },
    {
     "name": "stderr",
     "output_type": "stream",
     "text": [
      "92it [01:09,  1.37it/s]"
     ]
    },
    {
     "name": "stdout",
     "output_type": "stream",
     "text": [
      "Added\n",
      "Added\n",
      "Request of length 397\n"
     ]
    },
    {
     "name": "stderr",
     "output_type": "stream",
     "text": [
      "93it [01:10,  1.34it/s]"
     ]
    },
    {
     "name": "stdout",
     "output_type": "stream",
     "text": [
      "[0, 0, 0]\n",
      "Request of length 3331\n"
     ]
    },
    {
     "name": "stderr",
     "output_type": "stream",
     "text": [
      "94it [01:11,  1.26it/s]"
     ]
    },
    {
     "name": "stdout",
     "output_type": "stream",
     "text": [
      "[4, 4]\n",
      "Added\n",
      "Added\n",
      "Request of length 1751\n",
      "[3, 5, 4, 3, 4, 3, 2, 2, 1, 4]\n",
      "Added\n",
      "Added\n",
      "Added\n",
      "Added\n",
      "Added\n",
      "Added\n",
      "Added\n",
      "Added\n",
      "Added\n"
     ]
    },
    {
     "name": "stderr",
     "output_type": "stream",
     "text": [
      "95it [01:14,  1.43s/it]"
     ]
    },
    {
     "name": "stdout",
     "output_type": "stream",
     "text": [
      "Added\n",
      "Request of length 834\n",
      "[4, 4, 4, 4, 4, 4, 4]\n",
      "Added\n",
      "Added\n",
      "Added\n",
      "Added\n",
      "Added\n",
      "Added\n"
     ]
    },
    {
     "name": "stderr",
     "output_type": "stream",
     "text": [
      "96it [01:16,  1.43s/it]"
     ]
    },
    {
     "name": "stdout",
     "output_type": "stream",
     "text": [
      "Added\n",
      "Request of length 793\n"
     ]
    },
    {
     "name": "stderr",
     "output_type": "stream",
     "text": [
      "97it [01:16,  1.17s/it]"
     ]
    },
    {
     "name": "stdout",
     "output_type": "stream",
     "text": [
      "[2]\n",
      "Added\n",
      "Request of length 767\n"
     ]
    },
    {
     "name": "stderr",
     "output_type": "stream",
     "text": [
      "98it [01:17,  1.05s/it]"
     ]
    },
    {
     "name": "stdout",
     "output_type": "stream",
     "text": [
      "[3]\n",
      "Added\n",
      "Request of length 134\n"
     ]
    },
    {
     "name": "stderr",
     "output_type": "stream",
     "text": [
      "99it [01:18,  1.01it/s]"
     ]
    },
    {
     "name": "stdout",
     "output_type": "stream",
     "text": [
      "[5]\n",
      "Added\n",
      "Request of length 2879\n",
      "[5, 4, 3, 3, 3]\n",
      "Added\n",
      "Added\n"
     ]
    },
    {
     "name": "stderr",
     "output_type": "stream",
     "text": [
      "101it [01:20,  1.03it/s]"
     ]
    },
    {
     "name": "stdout",
     "output_type": "stream",
     "text": [
      "Added\n",
      "Added\n",
      "Added\n",
      "Request of length 1218\n",
      "[4, 4, 4, 3, 5, 2, 2, 1, 5, 5, 3, 3, 2]\n",
      "Added\n",
      "Added\n",
      "Added\n",
      "Added\n",
      "Added\n",
      "Added\n",
      "Added\n",
      "Added\n",
      "Added\n",
      "Added\n",
      "Added\n",
      "Added\n"
     ]
    },
    {
     "name": "stderr",
     "output_type": "stream",
     "text": [
      "103it [01:22,  1.09s/it]"
     ]
    },
    {
     "name": "stdout",
     "output_type": "stream",
     "text": [
      "Added\n",
      "Request of length 757\n"
     ]
    },
    {
     "name": "stderr",
     "output_type": "stream",
     "text": [
      "108it [01:23,  1.92it/s]"
     ]
    },
    {
     "name": "stdout",
     "output_type": "stream",
     "text": [
      "[3]\n",
      "Added\n",
      "Request of length 784\n"
     ]
    },
    {
     "name": "stderr",
     "output_type": "stream",
     "text": [
      "110it [01:24,  1.83it/s]"
     ]
    },
    {
     "name": "stdout",
     "output_type": "stream",
     "text": [
      "[0, 0, 0, 0, 0, 0, 0, 0, 0, 2, 0, 2, 0, 0]\n",
      "Added\n",
      "Added\n",
      "Request of length 2212\n",
      "[2, 2, 2, 3, 2, 2, 2, 3, 2, 2, 4, 2]\n",
      "Added\n",
      "Added\n",
      "Added\n",
      "Added\n",
      "Added\n",
      "Added\n",
      "Added\n",
      "Added\n",
      "Added\n",
      "Added\n"
     ]
    },
    {
     "name": "stderr",
     "output_type": "stream",
     "text": [
      "111it [01:26,  1.32it/s]"
     ]
    },
    {
     "name": "stdout",
     "output_type": "stream",
     "text": [
      "Added\n",
      "Added\n",
      "Request of length 1620\n",
      "[4, 4, 4, 4, 4, 4, 4, 4]\n",
      "Added\n",
      "Added\n",
      "Added\n",
      "Added\n",
      "Added\n",
      "Added\n"
     ]
    },
    {
     "name": "stderr",
     "output_type": "stream",
     "text": [
      "114it [01:27,  1.66it/s]"
     ]
    },
    {
     "name": "stdout",
     "output_type": "stream",
     "text": [
      "Added\n",
      "Added\n",
      "Request of length 1903\n"
     ]
    },
    {
     "name": "stderr",
     "output_type": "stream",
     "text": [
      "115it [01:28,  1.49it/s]"
     ]
    },
    {
     "name": "stdout",
     "output_type": "stream",
     "text": [
      "[2, 3]\n",
      "Added\n",
      "Added\n",
      "Request of length 3774\n",
      "[3, 3, 3, 3, 3, 3, 3, 3, 3, 3, 3, 3, 3, 3, 3, 3, 0]\n",
      "Added\n",
      "Added\n",
      "Added\n",
      "Added\n",
      "Added\n",
      "Added\n",
      "Added\n",
      "Added\n",
      "Added\n",
      "Added\n",
      "Added\n",
      "Added\n",
      "Added\n"
     ]
    },
    {
     "name": "stderr",
     "output_type": "stream",
     "text": [
      "116it [01:31,  1.17s/it]"
     ]
    },
    {
     "name": "stdout",
     "output_type": "stream",
     "text": [
      "Added\n",
      "Added\n",
      "Added\n",
      "Request of length 977\n",
      "[5, 5, 4, 5]\n",
      "Added\n",
      "Added\n"
     ]
    },
    {
     "name": "stderr",
     "output_type": "stream",
     "text": [
      "117it [01:33,  1.27s/it]"
     ]
    },
    {
     "name": "stdout",
     "output_type": "stream",
     "text": [
      "Added\n",
      "Added\n",
      "Request of length 144\n"
     ]
    },
    {
     "name": "stderr",
     "output_type": "stream",
     "text": [
      "118it [01:34,  1.15s/it]"
     ]
    },
    {
     "name": "stdout",
     "output_type": "stream",
     "text": [
      "[4]\n",
      "Added\n",
      "Request of length 3403\n",
      "[2, 2, 2, 2, 2, 2, 2, 2, 2]\n",
      "Added\n",
      "Added\n",
      "Added\n",
      "Added\n",
      "Added\n",
      "Added\n"
     ]
    },
    {
     "name": "stderr",
     "output_type": "stream",
     "text": [
      "122it [01:35,  1.42it/s]"
     ]
    },
    {
     "name": "stdout",
     "output_type": "stream",
     "text": [
      "Added\n",
      "Added\n",
      "Added\n",
      "Request of length 1386\n",
      "[3, 4, 4, 5]\n",
      "Added\n",
      "Added\n"
     ]
    },
    {
     "name": "stderr",
     "output_type": "stream",
     "text": [
      "124it [01:37,  1.43it/s]"
     ]
    },
    {
     "name": "stdout",
     "output_type": "stream",
     "text": [
      "Added\n",
      "Added\n",
      "Request of length 3513\n",
      "[3, 3, 3, 5, 5, 3, 5, 5, 4, 4, 4, 4, 4, 4, 4]\n",
      "Added\n",
      "Added\n",
      "Added\n",
      "Added\n",
      "Added\n",
      "Added\n",
      "Added\n",
      "Added\n",
      "Added\n",
      "Added\n",
      "Added\n"
     ]
    },
    {
     "name": "stderr",
     "output_type": "stream",
     "text": [
      "125it [01:39,  1.05it/s]"
     ]
    },
    {
     "name": "stdout",
     "output_type": "stream",
     "text": [
      "Added\n",
      "Added\n",
      "Added\n",
      "Added\n",
      "Request of length 719\n",
      "[4, 3, 2, 4, 4]\n",
      "Added\n",
      "Added\n"
     ]
    },
    {
     "name": "stderr",
     "output_type": "stream",
     "text": [
      "126it [01:40,  1.03s/it]"
     ]
    },
    {
     "name": "stdout",
     "output_type": "stream",
     "text": [
      "Added\n",
      "Added\n",
      "Added\n",
      "Request of length 1514\n",
      "[5, 5, 5]\n",
      "Added\n",
      "Added\n"
     ]
    },
    {
     "name": "stderr",
     "output_type": "stream",
     "text": [
      "127it [01:41,  1.03s/it]"
     ]
    },
    {
     "name": "stdout",
     "output_type": "stream",
     "text": [
      "Added\n",
      "Request of length 2562\n",
      "[2, 2, 2, 4, 2, 2, 4, 2]\n",
      "Added\n",
      "Added\n",
      "Added\n",
      "Added\n",
      "Added\n",
      "Added\n",
      "Added\n"
     ]
    },
    {
     "name": "stderr",
     "output_type": "stream",
     "text": [
      "128it [01:43,  1.13s/it]"
     ]
    },
    {
     "name": "stdout",
     "output_type": "stream",
     "text": [
      "Added\n",
      "Request of length 3702\n",
      "[5, 5, 5]\n",
      "Added\n",
      "Added\n"
     ]
    },
    {
     "name": "stderr",
     "output_type": "stream",
     "text": [
      "129it [01:44,  1.12s/it]"
     ]
    },
    {
     "name": "stdout",
     "output_type": "stream",
     "text": [
      "Added\n",
      "Request of length 3098\n"
     ]
    },
    {
     "name": "stderr",
     "output_type": "stream",
     "text": [
      "131it [01:44,  1.26it/s]"
     ]
    },
    {
     "name": "stdout",
     "output_type": "stream",
     "text": [
      "[3]\n",
      "Added\n",
      "Request of length 555\n",
      "[3, 3, 4, 4, 4, 4, 3]\n",
      "Added\n",
      "Added\n",
      "Added\n",
      "Added\n",
      "Added\n"
     ]
    },
    {
     "name": "stderr",
     "output_type": "stream",
     "text": [
      "132it [01:46,  1.13it/s]"
     ]
    },
    {
     "name": "stdout",
     "output_type": "stream",
     "text": [
      "Added\n",
      "Added\n",
      "Request of length 1537\n",
      "[3, 5, 4, 4, 3, 3, 3, 4, 3, 4, 5, 5, 4, 5, 5, 4, 5, 2, 2]\n",
      "Added\n",
      "Added\n",
      "Added\n",
      "Added\n",
      "Added\n",
      "Added\n",
      "Added\n",
      "Added\n",
      "Added\n",
      "Added\n",
      "Added\n",
      "Added\n",
      "Added\n",
      "Added\n",
      "Added\n",
      "Added\n",
      "Added\n"
     ]
    },
    {
     "name": "stderr",
     "output_type": "stream",
     "text": [
      "133it [01:49,  1.48s/it]"
     ]
    },
    {
     "name": "stdout",
     "output_type": "stream",
     "text": [
      "Added\n",
      "Added\n",
      "Request of length 999\n",
      "[4, 4]\n",
      "Added\n"
     ]
    },
    {
     "name": "stderr",
     "output_type": "stream",
     "text": [
      "134it [01:50,  1.28s/it]"
     ]
    },
    {
     "name": "stdout",
     "output_type": "stream",
     "text": [
      "Added\n",
      "Request of length 2446\n",
      "[4, 4, 4, 3]\n",
      "Added\n",
      "Added\n"
     ]
    },
    {
     "name": "stderr",
     "output_type": "stream",
     "text": [
      "135it [01:51,  1.34s/it]"
     ]
    },
    {
     "name": "stdout",
     "output_type": "stream",
     "text": [
      "Added\n",
      "Added\n",
      "Request of length 3017\n",
      "[2, 5, 4, 4, 1, 3, 1, 1, 4, 4, 3]\n",
      "Added\n",
      "Added\n",
      "Added\n",
      "Added\n",
      "Added\n",
      "Added\n",
      "Added\n",
      "Added\n"
     ]
    },
    {
     "name": "stderr",
     "output_type": "stream",
     "text": [
      "137it [01:54,  1.28s/it]"
     ]
    },
    {
     "name": "stdout",
     "output_type": "stream",
     "text": [
      "Added\n",
      "Added\n",
      "Added\n",
      "Request of length 789\n",
      "[5, 5, 5]\n",
      "Added\n"
     ]
    },
    {
     "name": "stderr",
     "output_type": "stream",
     "text": [
      "139it [01:54,  1.06it/s]"
     ]
    },
    {
     "name": "stdout",
     "output_type": "stream",
     "text": [
      "Added\n",
      "Added\n",
      "Request of length 525\n",
      "[4, 3, 4, 4, 4, 3, 4]\n",
      "Added\n",
      "Added\n",
      "Added\n",
      "Added\n",
      "Added\n"
     ]
    },
    {
     "name": "stderr",
     "output_type": "stream",
     "text": [
      "140it [01:56,  1.09s/it]"
     ]
    },
    {
     "name": "stdout",
     "output_type": "stream",
     "text": [
      "Added\n",
      "Added\n",
      "Request of length 1626\n",
      "[4, 5, 4, 5, 5, 5, 5]\n",
      "Added\n",
      "Added\n",
      "Added\n",
      "Added\n",
      "Added\n"
     ]
    },
    {
     "name": "stderr",
     "output_type": "stream",
     "text": [
      "141it [01:57,  1.15s/it]"
     ]
    },
    {
     "name": "stdout",
     "output_type": "stream",
     "text": [
      "Added\n",
      "Added\n",
      "Request of length 887\n"
     ]
    },
    {
     "name": "stderr",
     "output_type": "stream",
     "text": [
      "143it [01:58,  1.22it/s]"
     ]
    },
    {
     "name": "stdout",
     "output_type": "stream",
     "text": [
      "[3, 3]\n",
      "Added\n",
      "Added\n",
      "Request of length 758\n",
      "[2, 3, 2, 2, 3, 3, 3, 4, 4]\n",
      "Added\n",
      "Added\n",
      "Added\n",
      "Added\n",
      "Added\n",
      "Added\n",
      "Added\n",
      "Added\n"
     ]
    },
    {
     "name": "stderr",
     "output_type": "stream",
     "text": [
      "144it [02:00,  1.07s/it]"
     ]
    },
    {
     "name": "stdout",
     "output_type": "stream",
     "text": [
      "Added\n",
      "Request of length 1575\n",
      "[5, 4, 4, 4, 4, 4, 4, 4, 4, 4, 3, 2]\n",
      "Added\n",
      "Added\n",
      "Added\n",
      "Added\n",
      "Added\n",
      "Added\n",
      "Added\n",
      "Added\n",
      "Added\n",
      "Added\n",
      "Added\n"
     ]
    },
    {
     "name": "stderr",
     "output_type": "stream",
     "text": [
      "145it [02:02,  1.40s/it]"
     ]
    },
    {
     "name": "stdout",
     "output_type": "stream",
     "text": [
      "Added\n",
      "Request of length 891\n"
     ]
    },
    {
     "name": "stderr",
     "output_type": "stream",
     "text": [
      "146it [02:03,  1.24s/it]"
     ]
    },
    {
     "name": "stdout",
     "output_type": "stream",
     "text": [
      "[3]\n",
      "Added\n",
      "Request of length 3343\n",
      "[1, 1, 1, 1, 1, 1]\n",
      "Added\n",
      "Added\n",
      "Added\n",
      "Added\n"
     ]
    },
    {
     "name": "stderr",
     "output_type": "stream",
     "text": [
      "147it [02:05,  1.34s/it]"
     ]
    },
    {
     "name": "stdout",
     "output_type": "stream",
     "text": [
      "Added\n",
      "Added\n",
      "Request of length 1056\n",
      "[4, 3]\n",
      "Added\n"
     ]
    },
    {
     "name": "stderr",
     "output_type": "stream",
     "text": [
      "151it [02:06,  1.44it/s]"
     ]
    },
    {
     "name": "stdout",
     "output_type": "stream",
     "text": [
      "Added\n",
      "Request of length 388\n",
      "[0, 4, 0, 4, 0]\n",
      "Added\n"
     ]
    },
    {
     "name": "stderr",
     "output_type": "stream",
     "text": [
      "154it [02:07,  1.86it/s]"
     ]
    },
    {
     "name": "stdout",
     "output_type": "stream",
     "text": [
      "Added\n",
      "Request of length 4117\n",
      "[5, 5, 4, 5, 4, 5, 5, 5, 3, 3, 3, 5, 5, 4, 2, 4, 2, 2, 1, 4, 1, 4, 2, 4, 2, 4, 5, 3, 4, 5, 5, 4, 5, 5, 3, 0, 3, 5, 5, 4, 2, 1, 1, 4, 4, 2, 2, 4, 5, 3, 4]\n",
      "Added\n",
      "Added\n",
      "Added\n",
      "Added\n",
      "Added\n",
      "Added\n",
      "Added\n",
      "Added\n",
      "Added\n",
      "Added\n",
      "Added\n",
      "Added\n",
      "Added\n",
      "Added\n",
      "Added\n",
      "Added\n",
      "Added\n",
      "Added\n",
      "Added\n",
      "Added\n",
      "Added\n",
      "Added\n",
      "Added\n",
      "Added\n",
      "Added\n",
      "Added\n",
      "Added\n",
      "Added\n",
      "Added\n",
      "Added\n",
      "Added\n",
      "Added\n",
      "Added\n",
      "Added\n",
      "Added\n",
      "Added\n",
      "Added\n",
      "Added\n",
      "Added\n",
      "Added\n",
      "Added\n",
      "Added\n",
      "Added\n",
      "Added\n",
      "Added\n",
      "Added\n",
      "Added\n"
     ]
    },
    {
     "name": "stderr",
     "output_type": "stream",
     "text": [
      "155it [02:13,  1.42s/it]"
     ]
    },
    {
     "name": "stdout",
     "output_type": "stream",
     "text": [
      "Added\n",
      "Added\n",
      "Added\n",
      "Request of length 690\n",
      "[3, 4, 2, 2, 4]\n",
      "Added\n",
      "Added\n"
     ]
    },
    {
     "name": "stderr",
     "output_type": "stream",
     "text": [
      "157it [02:14,  1.17s/it]"
     ]
    },
    {
     "name": "stdout",
     "output_type": "stream",
     "text": [
      "Added\n",
      "Added\n",
      "Added\n",
      "Request of length 94\n"
     ]
    },
    {
     "name": "stderr",
     "output_type": "stream",
     "text": [
      "158it [02:15,  1.09s/it]"
     ]
    },
    {
     "name": "stdout",
     "output_type": "stream",
     "text": [
      "[3]\n",
      "Added\n",
      "Request of length 2002\n",
      "[5, 5, 5, 5, 5, 5, 5, 3, 5]\n",
      "Added\n",
      "Added\n",
      "Added\n",
      "Added\n",
      "Added\n",
      "Added\n",
      "Added\n",
      "Added\n"
     ]
    },
    {
     "name": "stderr",
     "output_type": "stream",
     "text": [
      "159it [02:17,  1.22s/it]"
     ]
    },
    {
     "name": "stdout",
     "output_type": "stream",
     "text": [
      "Added\n",
      "Request of length 283\n",
      "[4, 3, 3, 4]\n",
      "Added\n",
      "Added\n"
     ]
    },
    {
     "name": "stderr",
     "output_type": "stream",
     "text": [
      "161it [02:18,  1.02it/s]"
     ]
    },
    {
     "name": "stdout",
     "output_type": "stream",
     "text": [
      "Added\n",
      "Added\n",
      "Request of length 2291\n",
      "[0, 3, 3, 3, 2, 0, 4, 2, 3, 4]\n",
      "Added\n",
      "Added\n",
      "Added\n",
      "Added\n",
      "Added\n"
     ]
    },
    {
     "name": "stderr",
     "output_type": "stream",
     "text": [
      "162it [02:21,  1.38s/it]"
     ]
    },
    {
     "name": "stdout",
     "output_type": "stream",
     "text": [
      "Added\n",
      "Added\n",
      "Added\n",
      "Request of length 819\n",
      "[4, 4, 4, 4, 4, 4, 4, 4, 4, 4, 4]\n",
      "Added\n",
      "Added\n",
      "Added\n",
      "Added\n",
      "Added\n",
      "Added\n",
      "Added\n",
      "Added\n"
     ]
    },
    {
     "name": "stderr",
     "output_type": "stream",
     "text": [
      "164it [02:23,  1.23s/it]"
     ]
    },
    {
     "name": "stdout",
     "output_type": "stream",
     "text": [
      "Added\n",
      "Added\n",
      "Added\n",
      "Request of length 563\n",
      "[4, 4, 4]\n",
      "Added\n",
      "Added\n"
     ]
    },
    {
     "name": "stderr",
     "output_type": "stream",
     "text": [
      "167it [02:24,  1.15it/s]"
     ]
    },
    {
     "name": "stdout",
     "output_type": "stream",
     "text": [
      "Added\n",
      "Request of length 2793\n",
      "[0, 4, 4, 4, 4, 4, 4, 4, 3, 3, 0, 4, 0, 0, 0, 0, 3, 0, 4, 0]\n",
      "Added\n",
      "Added\n",
      "Added\n",
      "Added\n",
      "Added\n",
      "Added\n",
      "Added\n",
      "Added\n",
      "Added\n",
      "Added\n",
      "Added\n"
     ]
    },
    {
     "name": "stderr",
     "output_type": "stream",
     "text": [
      "171it [02:26,  1.29it/s]"
     ]
    },
    {
     "name": "stdout",
     "output_type": "stream",
     "text": [
      "Added\n",
      "Request of length 534\n",
      "[4, 4, 4]\n",
      "Added\n",
      "Added\n"
     ]
    },
    {
     "name": "stderr",
     "output_type": "stream",
     "text": [
      "173it [02:27,  1.43it/s]"
     ]
    },
    {
     "name": "stdout",
     "output_type": "stream",
     "text": [
      "Added\n",
      "Request of length 1566\n",
      "[0, 5, 5, 5, 0, 4, 1, 1, 3, 2, 2, 2, 1, 3, 1, 2]\n",
      "Added\n",
      "Added\n",
      "Added\n",
      "Added\n",
      "Added\n",
      "Added\n",
      "Added\n",
      "Added\n",
      "Added\n",
      "Added\n",
      "Added\n"
     ]
    },
    {
     "name": "stderr",
     "output_type": "stream",
     "text": [
      "176it [02:30,  1.24it/s]"
     ]
    },
    {
     "name": "stdout",
     "output_type": "stream",
     "text": [
      "Added\n",
      "Added\n",
      "Added\n",
      "Request of length 2292\n",
      "[5, 4, 3, 3, 3, 5, 5, 4]\n",
      "Added\n",
      "Added\n",
      "Added\n",
      "Added\n",
      "Added\n"
     ]
    },
    {
     "name": "stderr",
     "output_type": "stream",
     "text": [
      "177it [02:32,  1.03it/s]"
     ]
    },
    {
     "name": "stdout",
     "output_type": "stream",
     "text": [
      "Added\n",
      "Added\n",
      "Added\n",
      "Request of length 899\n",
      "[3, 4, 2, 4, 3, 2, 4, 3, 4, 4, 2, 2, 4, 3, 2]\n",
      "Added\n",
      "Added\n",
      "Added\n",
      "Added\n",
      "Added\n",
      "Added\n",
      "Added\n",
      "Added\n",
      "Added\n",
      "Added\n",
      "Added\n",
      "Added\n",
      "Added\n",
      "Added\n"
     ]
    },
    {
     "name": "stderr",
     "output_type": "stream",
     "text": [
      "178it [02:35,  1.19s/it]"
     ]
    },
    {
     "name": "stdout",
     "output_type": "stream",
     "text": [
      "Added\n",
      "Request of length 80\n"
     ]
    },
    {
     "name": "stderr",
     "output_type": "stream",
     "text": [
      "180it [02:35,  1.11it/s]"
     ]
    },
    {
     "name": "stdout",
     "output_type": "stream",
     "text": [
      "[3]\n",
      "Added\n",
      "Request of length 834\n",
      "[2, 3, 3, 4, 2, 2]\n",
      "Added\n",
      "Added\n",
      "Added\n",
      "Added\n",
      "Added\n"
     ]
    },
    {
     "name": "stderr",
     "output_type": "stream",
     "text": [
      "181it [02:37,  1.08s/it]"
     ]
    },
    {
     "name": "stdout",
     "output_type": "stream",
     "text": [
      "Added\n",
      "Request of length 2647\n",
      "[5, 0, 3, 0, 3, 5, 4, 3, 3]\n",
      "Added\n",
      "Added\n",
      "Added\n",
      "Added\n",
      "Added\n"
     ]
    },
    {
     "name": "stderr",
     "output_type": "stream",
     "text": [
      "182it [02:39,  1.32s/it]"
     ]
    },
    {
     "name": "stdout",
     "output_type": "stream",
     "text": [
      "Added\n",
      "Added\n",
      "Request of length 2305\n"
     ]
    },
    {
     "name": "stderr",
     "output_type": "stream",
     "text": [
      "183it [02:40,  1.24s/it]"
     ]
    },
    {
     "name": "stdout",
     "output_type": "stream",
     "text": [
      "[5]\n",
      "Added\n",
      "Request of length 2259\n",
      "[4, 4, 1, 1, 3, 1, 3, 3, 1]\n",
      "Added\n",
      "Added\n",
      "Added\n",
      "Added\n",
      "Added\n",
      "Added\n",
      "Added\n",
      "Added\n"
     ]
    },
    {
     "name": "stderr",
     "output_type": "stream",
     "text": [
      "184it [02:43,  1.50s/it]"
     ]
    },
    {
     "name": "stdout",
     "output_type": "stream",
     "text": [
      "Added\n",
      "Request of length 1658\n",
      "[4, 3]\n",
      "Added\n"
     ]
    },
    {
     "name": "stderr",
     "output_type": "stream",
     "text": [
      "185it [02:44,  1.51s/it]"
     ]
    },
    {
     "name": "stdout",
     "output_type": "stream",
     "text": [
      "Added\n",
      "Request of length 1027\n",
      "[3, 3, 2, 4, 4, 3, 2, 4]\n",
      "Added\n",
      "Added\n",
      "Added\n",
      "Added\n",
      "Added\n",
      "Added\n",
      "Added\n"
     ]
    },
    {
     "name": "stderr",
     "output_type": "stream",
     "text": [
      "188it [02:46,  1.08s/it]"
     ]
    },
    {
     "name": "stdout",
     "output_type": "stream",
     "text": [
      "Added\n",
      "Request of length 1727\n"
     ]
    },
    {
     "name": "stderr",
     "output_type": "stream",
     "text": [
      "189it [02:47,  1.08s/it]"
     ]
    },
    {
     "name": "stdout",
     "output_type": "stream",
     "text": [
      "[5, 5]\n",
      "Added\n",
      "Added\n",
      "Request of length 1624\n",
      "[5, 4, 5, 4, 4]\n",
      "Added\n",
      "Added\n"
     ]
    },
    {
     "name": "stderr",
     "output_type": "stream",
     "text": [
      "190it [02:49,  1.10s/it]"
     ]
    },
    {
     "name": "stdout",
     "output_type": "stream",
     "text": [
      "Added\n",
      "Added\n",
      "Added\n",
      "Request of length 2191\n"
     ]
    },
    {
     "name": "stderr",
     "output_type": "stream",
     "text": [
      "192it [02:49,  1.20it/s]"
     ]
    },
    {
     "name": "stdout",
     "output_type": "stream",
     "text": [
      "[3]\n",
      "Added\n",
      "Request of length 466\n",
      "[4, 3, 4]\n",
      "Added\n",
      "Added\n"
     ]
    },
    {
     "name": "stderr",
     "output_type": "stream",
     "text": [
      "193it [02:50,  1.16it/s]"
     ]
    },
    {
     "name": "stdout",
     "output_type": "stream",
     "text": [
      "Added\n",
      "Request of length 1818\n",
      "[2, 3, 2, 4, 3, 3, 2, 2]\n",
      "Added\n",
      "Added\n",
      "Added\n",
      "Added\n",
      "Added\n",
      "Added\n",
      "Added\n"
     ]
    },
    {
     "name": "stderr",
     "output_type": "stream",
     "text": [
      "197it [02:53,  1.41it/s]"
     ]
    },
    {
     "name": "stdout",
     "output_type": "stream",
     "text": [
      "Added\n",
      "Request of length 1129\n",
      "[2, 4, 2, 4, 2, 4, 2, 4, 2, 2, 4, 2, 2, 2, 2]\n",
      "Added\n",
      "Added\n",
      "Added\n",
      "Added\n",
      "Added\n",
      "Added\n",
      "Added\n",
      "Added\n",
      "Added\n",
      "Added\n",
      "Added\n",
      "Added\n",
      "Added\n",
      "Added\n"
     ]
    },
    {
     "name": "stderr",
     "output_type": "stream",
     "text": [
      "199it [02:55,  1.22it/s]"
     ]
    },
    {
     "name": "stdout",
     "output_type": "stream",
     "text": [
      "Added\n",
      "Request of length 232\n"
     ]
    },
    {
     "name": "stderr",
     "output_type": "stream",
     "text": [
      "201it [02:56,  1.39it/s]"
     ]
    },
    {
     "name": "stdout",
     "output_type": "stream",
     "text": [
      "[4]\n",
      "Added\n",
      "Request of length 821\n",
      "[1, 1, 1]\n",
      "Added\n",
      "Added\n"
     ]
    },
    {
     "name": "stderr",
     "output_type": "stream",
     "text": [
      "203it [02:57,  1.57it/s]"
     ]
    },
    {
     "name": "stdout",
     "output_type": "stream",
     "text": [
      "Added\n",
      "Request of length 852\n"
     ]
    },
    {
     "name": "stderr",
     "output_type": "stream",
     "text": [
      "206it [02:57,  2.09it/s]"
     ]
    },
    {
     "name": "stdout",
     "output_type": "stream",
     "text": [
      "[0, 0, 0, 0, 0, 0, 0, 0, 0, 0, 0, 0, 0]\n",
      "Request of length 1694\n",
      "[5, 5, 5, 5, 4, 4, 4, 4, 5, 4, 4, 4, 4, 5, 4]\n",
      "Added\n",
      "Added\n",
      "Added\n",
      "Added\n",
      "Added\n",
      "Added\n",
      "Added\n",
      "Added\n",
      "Added\n",
      "Added\n",
      "Added\n",
      "Added\n",
      "Added\n",
      "Added\n"
     ]
    },
    {
     "name": "stderr",
     "output_type": "stream",
     "text": [
      "208it [03:00,  1.41it/s]"
     ]
    },
    {
     "name": "stdout",
     "output_type": "stream",
     "text": [
      "Added\n",
      "Request of length 1502\n"
     ]
    },
    {
     "name": "stderr",
     "output_type": "stream",
     "text": [
      "209it [03:01,  1.38it/s]"
     ]
    },
    {
     "name": "stdout",
     "output_type": "stream",
     "text": [
      "[3, 3]\n",
      "Added\n",
      "Added\n",
      "Request of length 1096\n",
      "[4, 4, 4, 4]\n",
      "Added\n"
     ]
    },
    {
     "name": "stderr",
     "output_type": "stream",
     "text": [
      "210it [03:02,  1.20it/s]"
     ]
    },
    {
     "name": "stdout",
     "output_type": "stream",
     "text": [
      "Added\n",
      "Added\n",
      "Added\n",
      "Request of length 2376\n",
      "[4, 4, 2, 4, 4, 4, 4]\n",
      "Added\n",
      "Added\n",
      "Added\n",
      "Added\n",
      "Added\n"
     ]
    },
    {
     "name": "stderr",
     "output_type": "stream",
     "text": [
      "211it [03:04,  1.02it/s]"
     ]
    },
    {
     "name": "stdout",
     "output_type": "stream",
     "text": [
      "Added\n",
      "Added\n",
      "Request of length 622\n",
      "[4, 4, 4, 4, 4, 4, 3, 2, 4, 4, 5, 4, 3, 4, 3, 4, 4, 5, 4]\n",
      "Added\n",
      "Added\n",
      "Added\n",
      "Added\n",
      "Added\n",
      "Added\n",
      "Added\n",
      "Added\n",
      "Added\n",
      "Added\n",
      "Added\n",
      "Added\n",
      "Added\n",
      "Added\n",
      "Added\n",
      "Added\n"
     ]
    },
    {
     "name": "stderr",
     "output_type": "stream",
     "text": [
      "212it [03:06,  1.36s/it]"
     ]
    },
    {
     "name": "stdout",
     "output_type": "stream",
     "text": [
      "Added\n",
      "Added\n",
      "Added\n",
      "Request of length 2833\n",
      "[5, 5, 5, 5, 5, 5, 5]\n",
      "Added\n",
      "Added\n",
      "Added\n",
      "Added\n",
      "Added\n",
      "Added\n"
     ]
    },
    {
     "name": "stderr",
     "output_type": "stream",
     "text": [
      "213it [03:08,  1.44s/it]"
     ]
    },
    {
     "name": "stdout",
     "output_type": "stream",
     "text": [
      "Added\n",
      "Request of length 177\n"
     ]
    },
    {
     "name": "stderr",
     "output_type": "stream",
     "text": [
      "214it [03:09,  1.28s/it]"
     ]
    },
    {
     "name": "stdout",
     "output_type": "stream",
     "text": [
      "[4, 4]\n",
      "Added\n",
      "Added\n",
      "Request of length 3255\n"
     ]
    },
    {
     "name": "stderr",
     "output_type": "stream",
     "text": [
      "215it [03:10,  1.18s/it]"
     ]
    },
    {
     "name": "stdout",
     "output_type": "stream",
     "text": [
      "[4]\n",
      "Added\n",
      "Request of length 1738\n"
     ]
    },
    {
     "name": "stderr",
     "output_type": "stream",
     "text": [
      "216it [03:10,  1.05s/it]"
     ]
    },
    {
     "name": "stdout",
     "output_type": "stream",
     "text": [
      "[3, 3]\n",
      "Added\n",
      "Added\n",
      "Request of length 579\n"
     ]
    },
    {
     "name": "stderr",
     "output_type": "stream",
     "text": [
      "217it [03:11,  1.02s/it]"
     ]
    },
    {
     "name": "stdout",
     "output_type": "stream",
     "text": [
      "[4, 4]\n",
      "Added\n",
      "Added\n",
      "Request of length 3087\n",
      "[4, 4, 4, 4, 4, 4]\n",
      "Added\n",
      "Added\n",
      "Added\n",
      "Added\n",
      "Added\n"
     ]
    },
    {
     "name": "stderr",
     "output_type": "stream",
     "text": [
      "218it [03:13,  1.24s/it]"
     ]
    },
    {
     "name": "stdout",
     "output_type": "stream",
     "text": [
      "Added\n",
      "Request of length 1020\n"
     ]
    },
    {
     "name": "stderr",
     "output_type": "stream",
     "text": [
      "219it [03:14,  1.10s/it]"
     ]
    },
    {
     "name": "stdout",
     "output_type": "stream",
     "text": [
      "[3]\n",
      "Added\n",
      "Request of length 3946\n"
     ]
    },
    {
     "name": "stderr",
     "output_type": "stream",
     "text": [
      "221it [03:15,  1.32it/s]"
     ]
    },
    {
     "name": "stdout",
     "output_type": "stream",
     "text": [
      "[0, 0]\n",
      "Request of length 3058\n",
      "[3, 3, 3, 3, 3, 3, 1, 3, 5, 5, 1, 2, 4, 4, 4, 4]\n",
      "Added\n",
      "Added\n",
      "Added\n",
      "Added\n",
      "Added\n",
      "Added\n",
      "Added\n",
      "Added\n",
      "Added\n",
      "Added\n",
      "Added\n",
      "Added\n",
      "Added\n"
     ]
    },
    {
     "name": "stderr",
     "output_type": "stream",
     "text": [
      "222it [03:18,  1.30s/it]"
     ]
    },
    {
     "name": "stdout",
     "output_type": "stream",
     "text": [
      "Added\n",
      "Added\n",
      "Added\n",
      "Request of length 229\n",
      "[5, 5, 4, 5]\n",
      "Added\n",
      "Added\n"
     ]
    },
    {
     "name": "stderr",
     "output_type": "stream",
     "text": [
      "225it [03:18,  1.29it/s]"
     ]
    },
    {
     "name": "stdout",
     "output_type": "stream",
     "text": [
      "Added\n",
      "Added\n",
      "Request of length 1678\n"
     ]
    },
    {
     "name": "stderr",
     "output_type": "stream",
     "text": [
      "226it [03:20,  1.18it/s]"
     ]
    },
    {
     "name": "stdout",
     "output_type": "stream",
     "text": [
      "[3, 3]\n",
      "Added\n",
      "Added\n",
      "Request of length 1681\n",
      "[3, 5, 5, 5, 2, 5, 5, 5]\n",
      "Added\n",
      "Added\n",
      "Added\n",
      "Added\n",
      "Added\n",
      "Added\n",
      "Added\n"
     ]
    },
    {
     "name": "stderr",
     "output_type": "stream",
     "text": [
      "227it [03:21,  1.01s/it]"
     ]
    },
    {
     "name": "stdout",
     "output_type": "stream",
     "text": [
      "Added\n",
      "Request of length 2989\n",
      "[4, 4, 4, 4, 4]\n",
      "Added\n",
      "Added\n"
     ]
    },
    {
     "name": "stderr",
     "output_type": "stream",
     "text": [
      "230it [03:22,  1.36it/s]"
     ]
    },
    {
     "name": "stdout",
     "output_type": "stream",
     "text": [
      "Added\n",
      "Added\n",
      "Added\n",
      "Request of length 676\n"
     ]
    },
    {
     "name": "stderr",
     "output_type": "stream",
     "text": [
      "232it [03:23,  1.69it/s]"
     ]
    },
    {
     "name": "stdout",
     "output_type": "stream",
     "text": [
      "[4]\n",
      "Added\n",
      "Request of length 643\n"
     ]
    },
    {
     "name": "stderr",
     "output_type": "stream",
     "text": [
      "233it [03:24,  1.67it/s]"
     ]
    },
    {
     "name": "stdout",
     "output_type": "stream",
     "text": [
      "[0, 0, 0, 0, 0, 0]\n",
      "Request of length 557\n",
      "[4, 4, 4]\n",
      "Added\n"
     ]
    },
    {
     "name": "stderr",
     "output_type": "stream",
     "text": [
      "235it [03:24,  1.86it/s]"
     ]
    },
    {
     "name": "stdout",
     "output_type": "stream",
     "text": [
      "Added\n",
      "Added\n",
      "Request of length 3270\n",
      "[5, 5, 5, 5, 5, 1, 1, 5, 5, 5, 5, 5, 5, 5, 4, 5, 4, 5]\n",
      "Added\n",
      "Added\n",
      "Added\n",
      "Added\n",
      "Added\n",
      "Added\n",
      "Added\n",
      "Added\n",
      "Added\n",
      "Added\n",
      "Added\n",
      "Added\n",
      "Added\n",
      "Added\n",
      "Added\n",
      "Added\n",
      "Added\n"
     ]
    },
    {
     "name": "stderr",
     "output_type": "stream",
     "text": [
      "236it [03:27,  1.02it/s]"
     ]
    },
    {
     "name": "stdout",
     "output_type": "stream",
     "text": [
      "Added\n",
      "Request of length 3164\n"
     ]
    },
    {
     "name": "stderr",
     "output_type": "stream",
     "text": [
      "241it [03:29,  1.62it/s]"
     ]
    },
    {
     "name": "stdout",
     "output_type": "stream",
     "text": [
      "[0, 0, 0, 0, 0]\n",
      "Request of length 876\n",
      "[4, 3, 4, 3, 4, 4, 3, 3, 4, 4, 3, 4, 3, 4]\n",
      "Added\n",
      "Added\n",
      "Added\n",
      "Added\n",
      "Added\n",
      "Added\n",
      "Added\n",
      "Added\n",
      "Added\n",
      "Added\n",
      "Added\n"
     ]
    },
    {
     "name": "stderr",
     "output_type": "stream",
     "text": [
      "242it [03:31,  1.16it/s]"
     ]
    },
    {
     "name": "stdout",
     "output_type": "stream",
     "text": [
      "Added\n",
      "Added\n",
      "Added\n",
      "Request of length 2545\n",
      "[3, 4, 4, 4, 4, 4, 4, 3, 3, 2, 2, 2]\n",
      "Added\n",
      "Added\n",
      "Added\n",
      "Added\n",
      "Added\n",
      "Added\n",
      "Added\n",
      "Added\n",
      "Added\n"
     ]
    },
    {
     "name": "stderr",
     "output_type": "stream",
     "text": [
      "244it [03:34,  1.08it/s]"
     ]
    },
    {
     "name": "stdout",
     "output_type": "stream",
     "text": [
      "Added\n",
      "Added\n",
      "Added\n",
      "Request of length 930\n",
      "[5, 5]\n",
      "Added\n"
     ]
    },
    {
     "name": "stderr",
     "output_type": "stream",
     "text": [
      "245it [03:34,  1.10it/s]"
     ]
    },
    {
     "name": "stdout",
     "output_type": "stream",
     "text": [
      "Added\n",
      "Request of length 2321\n",
      "[4, 4, 4, 4, 4, 4, 4, 4, 4, 4, 4, 4, 4, 4, 4]\n",
      "Added\n",
      "Added\n",
      "Added\n",
      "Added\n",
      "Added\n",
      "Added\n",
      "Added\n",
      "Added\n",
      "Added\n",
      "Added\n",
      "Added\n",
      "Added\n",
      "Added\n"
     ]
    },
    {
     "name": "stderr",
     "output_type": "stream",
     "text": [
      "246it [03:37,  1.19s/it]"
     ]
    },
    {
     "name": "stdout",
     "output_type": "stream",
     "text": [
      "Added\n",
      "Added\n",
      "Request of length 4042\n",
      "[5, 5, 0, 5, 5, 5, 5, 5, 4, 4, 4, 5, 5, 5, 5, 0]\n",
      "Added\n",
      "Added\n",
      "Added\n",
      "Added\n",
      "Added\n",
      "Added\n",
      "Added\n",
      "Added\n",
      "Added\n",
      "Added\n",
      "Added\n",
      "Added\n"
     ]
    },
    {
     "name": "stderr",
     "output_type": "stream",
     "text": [
      "247it [03:39,  1.46s/it]"
     ]
    },
    {
     "name": "stdout",
     "output_type": "stream",
     "text": [
      "Added\n",
      "Added\n",
      "Request of length 1859\n",
      "[5, 5, 5, 5, 5, 5, 5, 5, 4, 3, 5, 5]\n",
      "Added\n",
      "Added\n",
      "Added\n",
      "Added\n",
      "Added\n",
      "Added\n",
      "Added\n",
      "Added\n",
      "Added\n",
      "Added\n",
      "Added\n"
     ]
    },
    {
     "name": "stderr",
     "output_type": "stream",
     "text": [
      "250it [03:42,  1.21s/it]"
     ]
    },
    {
     "name": "stdout",
     "output_type": "stream",
     "text": [
      "Added\n",
      "Request of length 1159\n",
      "[4, 3, 3, 4, 4, 3]\n",
      "Added\n",
      "Added\n",
      "Added\n",
      "Added\n",
      "Added\n"
     ]
    },
    {
     "name": "stderr",
     "output_type": "stream",
     "text": [
      "251it [03:43,  1.19s/it]"
     ]
    },
    {
     "name": "stdout",
     "output_type": "stream",
     "text": [
      "Added\n",
      "Request of length 1762\n",
      "[5, 4, 4, 4, 5, 3, 4, 4, 4, 3, 3, 3, 1, 3]\n",
      "Added\n",
      "Added\n",
      "Added\n",
      "Added\n",
      "Added\n",
      "Added\n",
      "Added\n",
      "Added\n",
      "Added\n",
      "Added\n",
      "Added\n",
      "Added\n"
     ]
    },
    {
     "name": "stderr",
     "output_type": "stream",
     "text": [
      "257it [03:46,  1.25it/s]"
     ]
    },
    {
     "name": "stdout",
     "output_type": "stream",
     "text": [
      "Added\n",
      "Added\n",
      "Request of length 1686\n",
      "[5, 5, 3]\n",
      "Added\n",
      "Added\n"
     ]
    },
    {
     "name": "stderr",
     "output_type": "stream",
     "text": [
      "258it [03:47,  1.20it/s]"
     ]
    },
    {
     "name": "stdout",
     "output_type": "stream",
     "text": [
      "Added\n",
      "Request of length 2275\n",
      "[0, 1, 1, 1, 4, 4, 4, 3, 2, 2, 2, 2, 2, 5, 5]\n",
      "Added\n",
      "Added\n",
      "Added\n",
      "Added\n",
      "Added\n",
      "Added\n",
      "Added\n",
      "Added\n",
      "Added\n",
      "Added\n",
      "Added\n",
      "Added\n",
      "Added\n"
     ]
    },
    {
     "name": "stderr",
     "output_type": "stream",
     "text": [
      "261it [03:50,  1.19it/s]"
     ]
    },
    {
     "name": "stdout",
     "output_type": "stream",
     "text": [
      "Added\n",
      "Request of length 399\n",
      "[2, 3, 3, 1, 2]\n",
      "Added\n",
      "Added\n",
      "Added\n",
      "Added\n"
     ]
    },
    {
     "name": "stderr",
     "output_type": "stream",
     "text": [
      "262it [03:51,  1.14it/s]"
     ]
    },
    {
     "name": "stdout",
     "output_type": "stream",
     "text": [
      "Added\n",
      "Request of length 688\n",
      "[4, 3, 4, 5, 4, 4, 5, 5, 3, 5, 5]\n",
      "Added\n",
      "Added\n",
      "Added\n",
      "Added\n",
      "Added\n",
      "Added\n",
      "Added\n",
      "Added\n"
     ]
    },
    {
     "name": "stderr",
     "output_type": "stream",
     "text": [
      "263it [03:53,  1.02s/it]"
     ]
    },
    {
     "name": "stdout",
     "output_type": "stream",
     "text": [
      "Added\n",
      "Added\n",
      "Added\n",
      "Request of length 4086\n",
      "[3, 3, 3, 3, 3, 3, 3, 3, 3, 3, 3, 3, 3, 3, 3, 3, 3]\n",
      "Added\n",
      "Added\n",
      "Added\n",
      "Added\n",
      "Added\n",
      "Added\n",
      "Added\n",
      "Added\n",
      "Added\n",
      "Added\n",
      "Added\n",
      "Added\n",
      "Added\n",
      "Added\n",
      "Added\n",
      "Added\n"
     ]
    },
    {
     "name": "stderr",
     "output_type": "stream",
     "text": [
      "266it [03:56,  1.02it/s]"
     ]
    },
    {
     "name": "stdout",
     "output_type": "stream",
     "text": [
      "Added\n",
      "Request of length 411\n",
      "[1, 1]\n",
      "Added\n"
     ]
    },
    {
     "name": "stderr",
     "output_type": "stream",
     "text": [
      "269it [03:57,  1.32it/s]"
     ]
    },
    {
     "name": "stdout",
     "output_type": "stream",
     "text": [
      "Added\n",
      "Request of length 1216\n"
     ]
    },
    {
     "name": "stderr",
     "output_type": "stream",
     "text": [
      "271it [03:57,  1.60it/s]"
     ]
    },
    {
     "name": "stdout",
     "output_type": "stream",
     "text": [
      "[4]\n",
      "Added\n",
      "Request of length 894\n",
      "[4, 4, 3, 4, 3, 3, 4, 3, 4, 3, 4, 3, 4, 4, 4, 4, 4]\n",
      "Added\n",
      "Added\n",
      "Added\n",
      "Added\n",
      "Added\n",
      "Added\n",
      "Added\n",
      "Added\n",
      "Added\n",
      "Added\n",
      "Added\n",
      "Added\n",
      "Added\n",
      "Added\n",
      "Added\n",
      "Added\n"
     ]
    },
    {
     "name": "stderr",
     "output_type": "stream",
     "text": [
      "273it [04:00,  1.13it/s]"
     ]
    },
    {
     "name": "stdout",
     "output_type": "stream",
     "text": [
      "Added\n",
      "Request of length 1165\n",
      "[4, 4]\n",
      "Added\n"
     ]
    },
    {
     "name": "stderr",
     "output_type": "stream",
     "text": [
      "275it [04:02,  1.26it/s]"
     ]
    },
    {
     "name": "stdout",
     "output_type": "stream",
     "text": [
      "Added\n",
      "Request of length 400\n",
      "[3, 3]\n",
      "Added\n"
     ]
    },
    {
     "name": "stderr",
     "output_type": "stream",
     "text": [
      "276it [04:02,  1.22it/s]"
     ]
    },
    {
     "name": "stdout",
     "output_type": "stream",
     "text": [
      "Added\n",
      "Request of length 3706\n",
      "[3, 3, 3, 3, 3, 5, 5, 5, 5, 5, 4, 4, 2, 2, 3, 2, 3]\n",
      "Added\n",
      "Added\n",
      "Added\n",
      "Added\n",
      "Added\n",
      "Added\n",
      "Added\n",
      "Added\n",
      "Added\n",
      "Added\n",
      "Added\n",
      "Added\n",
      "Added\n",
      "Added\n",
      "Added\n"
     ]
    },
    {
     "name": "stderr",
     "output_type": "stream",
     "text": [
      "279it [04:06,  1.02s/it]"
     ]
    },
    {
     "name": "stdout",
     "output_type": "stream",
     "text": [
      "Added\n",
      "Added\n",
      "Request of length 3187\n",
      "[3, 3, 4, 4, 3, 3, 4, 4, 4, 4, 4, 4]\n",
      "Added\n",
      "Added\n",
      "Added\n",
      "Added\n",
      "Added\n",
      "Added\n",
      "Added\n",
      "Added\n",
      "Added\n",
      "Added\n",
      "Added\n"
     ]
    },
    {
     "name": "stderr",
     "output_type": "stream",
     "text": [
      "280it [04:09,  1.34s/it]"
     ]
    },
    {
     "name": "stdout",
     "output_type": "stream",
     "text": [
      "Added\n",
      "Request of length 3689\n",
      "[5, 5, 4, 4, 5, 5, 1, 5]\n",
      "Added\n",
      "Added\n",
      "Added\n",
      "Added\n",
      "Added\n",
      "Added\n",
      "Added\n"
     ]
    },
    {
     "name": "stderr",
     "output_type": "stream",
     "text": [
      "282it [04:12,  1.26s/it]"
     ]
    },
    {
     "name": "stdout",
     "output_type": "stream",
     "text": [
      "Added\n",
      "Request of length 1433\n",
      "[3, 2, 4, 4, 4, 4, 2, 1, 5]\n",
      "Added\n",
      "Added\n",
      "Added\n",
      "Added\n",
      "Added\n",
      "Added\n",
      "Added\n"
     ]
    },
    {
     "name": "stderr",
     "output_type": "stream",
     "text": [
      "284it [04:14,  1.24s/it]"
     ]
    },
    {
     "name": "stdout",
     "output_type": "stream",
     "text": [
      "Added\n",
      "Added\n",
      "Request of length 692\n",
      "[3, 4, 4, 3, 3, 3, 4, 3, 3, 3]\n",
      "Added\n",
      "Added\n",
      "Added\n",
      "Added\n",
      "Added\n",
      "Added\n",
      "Added\n",
      "Added\n",
      "Added\n"
     ]
    },
    {
     "name": "stderr",
     "output_type": "stream",
     "text": [
      "285it [04:16,  1.48s/it]"
     ]
    },
    {
     "name": "stdout",
     "output_type": "stream",
     "text": [
      "Added\n",
      "Request of length 2421\n",
      "[1, 5, 5, 5, 4, 4, 2, 2, 4, 4]\n",
      "Added\n",
      "Added\n",
      "Added\n",
      "Added\n",
      "Added\n",
      "Added\n",
      "Added\n",
      "Added\n"
     ]
    },
    {
     "name": "stderr",
     "output_type": "stream",
     "text": [
      "289it [04:19,  1.01s/it]"
     ]
    },
    {
     "name": "stdout",
     "output_type": "stream",
     "text": [
      "Added\n",
      "Added\n",
      "Request of length 1698\n",
      "[2, 2, 2, 2, 2, 2, 3, 3]\n",
      "Added\n",
      "Added\n",
      "Added\n",
      "Added\n",
      "Added\n",
      "Added\n",
      "Added\n"
     ]
    },
    {
     "name": "stderr",
     "output_type": "stream",
     "text": [
      "293it [04:21,  1.29it/s]"
     ]
    },
    {
     "name": "stdout",
     "output_type": "stream",
     "text": [
      "Added\n",
      "Request of length 2110\n",
      "[2, 2, 2, 2, 3, 3, 2, 2, 2, 4, 4]\n",
      "Added\n",
      "Added\n",
      "Added\n",
      "Added\n",
      "Added\n",
      "Added\n",
      "Added\n",
      "Added\n",
      "Added\n"
     ]
    },
    {
     "name": "stderr",
     "output_type": "stream",
     "text": [
      "295it [04:23,  1.17it/s]"
     ]
    },
    {
     "name": "stdout",
     "output_type": "stream",
     "text": [
      "Added\n",
      "Added\n",
      "Request of length 602\n",
      "[4, 2, 4, 4, 3, 4, 4, 2, 2, 4, 2]\n",
      "Added\n",
      "Added\n",
      "Added\n",
      "Added\n",
      "Added\n",
      "Added\n",
      "Added\n",
      "Added\n",
      "Added\n"
     ]
    },
    {
     "name": "stderr",
     "output_type": "stream",
     "text": [
      "297it [04:25,  1.16it/s]"
     ]
    },
    {
     "name": "stdout",
     "output_type": "stream",
     "text": [
      "Added\n",
      "Added\n",
      "Request of length 3042\n",
      "[3, 4, 5, 5, 5, 5, 5, 4, 5, 4, 3, 4, 4, 2, 0, 2, 2, 2, 2]\n",
      "Added\n",
      "Added\n",
      "Added\n",
      "Added\n",
      "Added\n",
      "Added\n",
      "Added\n",
      "Added\n",
      "Added\n",
      "Added\n",
      "Added\n",
      "Added\n",
      "Added\n",
      "Added\n",
      "Added\n",
      "Added\n",
      "Added\n"
     ]
    },
    {
     "name": "stderr",
     "output_type": "stream",
     "text": [
      "299it [04:29,  1.16s/it]"
     ]
    },
    {
     "name": "stdout",
     "output_type": "stream",
     "text": [
      "Added\n",
      "Request of length 1685\n"
     ]
    },
    {
     "name": "stderr",
     "output_type": "stream",
     "text": [
      "300it [04:30,  1.14s/it]"
     ]
    },
    {
     "name": "stdout",
     "output_type": "stream",
     "text": [
      "[0, 0, 0, 0, 0, 0, 0, 0, 0, 0, 0, 0, 0, 0, 0, 0, 0, 0]\n",
      "Request of length 1356\n",
      "[3, 2, 1, 4, 4, 2, 4, 3, 2, 5, 5, 5]\n",
      "Added\n",
      "Added\n",
      "Added\n",
      "Added\n",
      "Added\n",
      "Added\n",
      "Added\n",
      "Added\n",
      "Added\n",
      "Added\n",
      "Added\n"
     ]
    },
    {
     "name": "stderr",
     "output_type": "stream",
     "text": [
      "301it [04:32,  1.42s/it]"
     ]
    },
    {
     "name": "stdout",
     "output_type": "stream",
     "text": [
      "Added\n",
      "Request of length 1176\n",
      "[3, 5, 5, 3, 3, 3, 3, 5, 3, 5, 3]\n",
      "Added\n",
      "Added\n",
      "Added\n",
      "Added\n",
      "Added\n",
      "Added\n",
      "Added\n",
      "Added\n",
      "Added\n"
     ]
    },
    {
     "name": "stderr",
     "output_type": "stream",
     "text": [
      "304it [04:35,  1.16s/it]"
     ]
    },
    {
     "name": "stdout",
     "output_type": "stream",
     "text": [
      "Added\n",
      "Added\n",
      "Request of length 1119\n",
      "[2, 2]\n",
      "Added\n"
     ]
    },
    {
     "name": "stderr",
     "output_type": "stream",
     "text": [
      "305it [04:35,  1.07s/it]"
     ]
    },
    {
     "name": "stdout",
     "output_type": "stream",
     "text": [
      "Added\n",
      "Request of length 445\n",
      "[3, 3, 3]\n",
      "Added\n"
     ]
    },
    {
     "name": "stderr",
     "output_type": "stream",
     "text": [
      "306it [04:37,  1.08s/it]"
     ]
    },
    {
     "name": "stdout",
     "output_type": "stream",
     "text": [
      "Added\n",
      "Added\n",
      "Request of length 846\n",
      "[4, 3, 3, 3, 3, 4, 3, 4, 3, 3, 3, 3, 4, 3, 3, 3]\n",
      "Added\n",
      "Added\n",
      "Added\n",
      "Added\n",
      "Added\n",
      "Added\n",
      "Added\n",
      "Added\n",
      "Added\n",
      "Added\n",
      "Added\n",
      "Added\n",
      "Added\n",
      "Added\n",
      "Added\n"
     ]
    },
    {
     "name": "stderr",
     "output_type": "stream",
     "text": [
      "308it [04:40,  1.23s/it]"
     ]
    },
    {
     "name": "stdout",
     "output_type": "stream",
     "text": [
      "Added\n",
      "Request of length 1403\n",
      "[5, 5]\n",
      "Added\n"
     ]
    },
    {
     "name": "stderr",
     "output_type": "stream",
     "text": [
      "311it [04:40,  1.25it/s]"
     ]
    },
    {
     "name": "stdout",
     "output_type": "stream",
     "text": [
      "Added\n",
      "Request of length 3703\n",
      "[4, 4, 3, 4, 3, 1, 3, 4, 4, 3, 4, 4, 4, 4, 4, 4, 4, 4, 4, 3, 3, 3, 4, 4, 4, 3, 1, 1, 1, 3, 3, 4, 4, 4, 4, 4, 4, 3, 3, 3, 4, 4, 4]\n",
      "Added\n",
      "Added\n",
      "Added\n",
      "Added\n",
      "Added\n",
      "Added\n",
      "Added\n",
      "Added\n",
      "Added\n",
      "Added\n",
      "Added\n",
      "Added\n",
      "Added\n",
      "Added\n",
      "Added\n",
      "Added\n",
      "Added\n",
      "Added\n",
      "Added\n",
      "Added\n",
      "Added\n",
      "Added\n",
      "Added\n",
      "Added\n",
      "Added\n",
      "Added\n",
      "Added\n",
      "Added\n",
      "Added\n",
      "Added\n",
      "Added\n",
      "Added\n",
      "Added\n",
      "Added\n",
      "Added\n",
      "Added\n",
      "Added\n",
      "Added\n",
      "Added\n",
      "Added\n",
      "Added\n",
      "Added\n"
     ]
    },
    {
     "name": "stderr",
     "output_type": "stream",
     "text": [
      "312it [04:48,  2.07s/it]"
     ]
    },
    {
     "name": "stdout",
     "output_type": "stream",
     "text": [
      "Added\n",
      "Request of length 3797\n",
      "[2, 2, 2, 2, 2, 2]\n",
      "Added\n",
      "Added\n",
      "Added\n",
      "Added\n",
      "Added\n"
     ]
    },
    {
     "name": "stderr",
     "output_type": "stream",
     "text": [
      "313it [04:50,  2.04s/it]"
     ]
    },
    {
     "name": "stdout",
     "output_type": "stream",
     "text": [
      "Added\n",
      "Request of length 162\n"
     ]
    },
    {
     "name": "stderr",
     "output_type": "stream",
     "text": [
      "315it [04:51,  1.39s/it]"
     ]
    },
    {
     "name": "stdout",
     "output_type": "stream",
     "text": [
      "[0]\n",
      "Request of length 1462\n",
      "[2, 2]\n",
      "Added\n"
     ]
    },
    {
     "name": "stderr",
     "output_type": "stream",
     "text": [
      "317it [04:52,  1.05s/it]"
     ]
    },
    {
     "name": "stdout",
     "output_type": "stream",
     "text": [
      "Added\n",
      "Request of length 690\n",
      "[4, 2, 3, 3, 2, 4, 4, 2, 3, 3, 4, 3, 4]\n",
      "Added\n",
      "Added\n",
      "Added\n",
      "Added\n",
      "Added\n",
      "Added\n",
      "Added\n",
      "Added\n",
      "Added\n",
      "Added\n",
      "Added\n"
     ]
    },
    {
     "name": "stderr",
     "output_type": "stream",
     "text": [
      "321it [04:54,  1.16it/s]"
     ]
    },
    {
     "name": "stdout",
     "output_type": "stream",
     "text": [
      "Added\n",
      "Added\n",
      "Request of length 3157\n",
      "[1, 1, 1, 1, 1, 1, 1, 1, 1, 1, 3, 1]\n",
      "Added\n",
      "Added\n",
      "Added\n",
      "Added\n",
      "Added\n",
      "Added\n",
      "Added\n",
      "Added\n",
      "Added\n",
      "Added\n",
      "Added\n"
     ]
    },
    {
     "name": "stderr",
     "output_type": "stream",
     "text": [
      "324it [04:57,  1.13it/s]"
     ]
    },
    {
     "name": "stdout",
     "output_type": "stream",
     "text": [
      "Added\n",
      "Request of length 2980\n",
      "[4, 5, 5, 5, 5, 5, 4, 4, 3, 3, 2, 4, 4, 4, 3, 4]\n",
      "Added\n",
      "Added\n",
      "Added\n",
      "Added\n",
      "Added\n",
      "Added\n",
      "Added\n",
      "Added\n",
      "Added\n",
      "Added\n",
      "Added\n",
      "Added\n",
      "Added\n",
      "Added\n",
      "Added\n"
     ]
    },
    {
     "name": "stderr",
     "output_type": "stream",
     "text": [
      "327it [05:01,  1.02s/it]"
     ]
    },
    {
     "name": "stdout",
     "output_type": "stream",
     "text": [
      "Added\n",
      "Request of length 206\n",
      "[1, 1, 1]\n",
      "Added\n"
     ]
    },
    {
     "name": "stderr",
     "output_type": "stream",
     "text": [
      "328it [05:02,  1.02s/it]"
     ]
    },
    {
     "name": "stdout",
     "output_type": "stream",
     "text": [
      "Added\n",
      "Added\n",
      "Request of length 2976\n",
      "[2, 5, 2, 2, 2, 5, 2, 2, 2, 5, 2, 2, 5, 2, 5, 2, 2, 2, 5, 5, 5, 2, 2, 5, 0, 2, 5, 2]\n",
      "Added\n",
      "Added\n",
      "Added\n",
      "Added\n",
      "Added\n",
      "Added\n",
      "Added\n",
      "Added\n",
      "Added\n",
      "Added\n",
      "Added\n",
      "Added\n",
      "Added\n",
      "Added\n",
      "Added\n",
      "Added\n",
      "Added\n",
      "Added\n",
      "Added\n",
      "Added\n",
      "Added\n",
      "Added\n",
      "Added\n",
      "Added\n",
      "Added\n",
      "Added\n"
     ]
    },
    {
     "name": "stderr",
     "output_type": "stream",
     "text": [
      "330it [05:07,  1.43s/it]"
     ]
    },
    {
     "name": "stdout",
     "output_type": "stream",
     "text": [
      "Added\n",
      "Request of length 492\n",
      "[3, 3, 3, 3]\n",
      "Added\n",
      "Added\n",
      "Added\n"
     ]
    },
    {
     "name": "stderr",
     "output_type": "stream",
     "text": [
      "331it [05:08,  1.41s/it]"
     ]
    },
    {
     "name": "stdout",
     "output_type": "stream",
     "text": [
      "Added\n",
      "Request of length 958\n",
      "[4, 4]\n",
      "Added\n"
     ]
    },
    {
     "name": "stderr",
     "output_type": "stream",
     "text": [
      "334it [05:09,  1.05it/s]"
     ]
    },
    {
     "name": "stdout",
     "output_type": "stream",
     "text": [
      "Added\n",
      "Request of length 1560\n",
      "[5, 5, 5, 5, 5, 5, 5]\n",
      "Added\n",
      "Added\n",
      "Added\n",
      "Added\n",
      "Added\n",
      "Added\n"
     ]
    },
    {
     "name": "stderr",
     "output_type": "stream",
     "text": [
      "335it [05:11,  1.08s/it]"
     ]
    },
    {
     "name": "stdout",
     "output_type": "stream",
     "text": [
      "Added\n",
      "Request of length 1193\n",
      "[3, 2, 3, 5, 5, 2]\n",
      "Added\n",
      "Added\n",
      "Added\n",
      "Added\n",
      "Added\n"
     ]
    },
    {
     "name": "stderr",
     "output_type": "stream",
     "text": [
      "336it [05:13,  1.27s/it]"
     ]
    },
    {
     "name": "stdout",
     "output_type": "stream",
     "text": [
      "Added\n",
      "Request of length 3251\n",
      "[3, 3, 0, 0, 0, 0, 0, 0, 0, 0, 0, 0]\n",
      "Added\n"
     ]
    },
    {
     "name": "stderr",
     "output_type": "stream",
     "text": [
      "337it [05:14,  1.28s/it]"
     ]
    },
    {
     "name": "stdout",
     "output_type": "stream",
     "text": [
      "Added\n",
      "Request of length 1209\n",
      "[4, 3, 4, 4, 3, 4, 5, 5, 5, 3, 4]\n",
      "Added\n",
      "Added\n",
      "Added\n",
      "Added\n",
      "Added\n",
      "Added\n",
      "Added\n",
      "Added\n",
      "Added\n",
      "Added\n"
     ]
    },
    {
     "name": "stderr",
     "output_type": "stream",
     "text": [
      "339it [05:18,  1.43s/it]"
     ]
    },
    {
     "name": "stdout",
     "output_type": "stream",
     "text": [
      "Added\n",
      "Request of length 1656\n",
      "[5, 5, 5, 4, 4, 4, 4, 4, 5]\n",
      "Added\n",
      "Added\n",
      "Added\n",
      "Added\n",
      "Added\n",
      "Added\n",
      "Added\n"
     ]
    },
    {
     "name": "stderr",
     "output_type": "stream",
     "text": [
      "341it [05:20,  1.29s/it]"
     ]
    },
    {
     "name": "stdout",
     "output_type": "stream",
     "text": [
      "Added\n",
      "Added\n",
      "Request of length 2384\n",
      "[4, 2, 4, 2, 2, 2, 4, 4, 2, 4, 2, 4, 4, 4, 4, 2, 4]\n",
      "Added\n",
      "Added\n",
      "Added\n",
      "Added\n",
      "Added\n",
      "Added\n",
      "Added\n",
      "Added\n",
      "Added\n",
      "Added\n",
      "Added\n",
      "Added\n",
      "Added\n",
      "Added\n",
      "Added\n",
      "Added\n"
     ]
    },
    {
     "name": "stderr",
     "output_type": "stream",
     "text": [
      "347it [05:24,  1.04it/s]"
     ]
    },
    {
     "name": "stdout",
     "output_type": "stream",
     "text": [
      "Added\n",
      "Request of length 964\n",
      "[4, 3]\n",
      "Added\n"
     ]
    },
    {
     "name": "stderr",
     "output_type": "stream",
     "text": [
      "348it [05:25,  1.01it/s]"
     ]
    },
    {
     "name": "stdout",
     "output_type": "stream",
     "text": [
      "Added\n",
      "Request of length 1561\n",
      "[3, 5, 4, 4, 3, 4, 5, 5, 5, 5, 5, 5, 2, 2, 3, 2, 2, 2]\n",
      "Added\n",
      "Added\n",
      "Added\n",
      "Added\n",
      "Added\n",
      "Added\n",
      "Added\n",
      "Added\n",
      "Added\n",
      "Added\n",
      "Added\n",
      "Added\n",
      "Added\n",
      "Added\n",
      "Added\n",
      "Added\n",
      "Added\n"
     ]
    },
    {
     "name": "stderr",
     "output_type": "stream",
     "text": [
      "349it [05:31,  1.71s/it]"
     ]
    },
    {
     "name": "stdout",
     "output_type": "stream",
     "text": [
      "Added\n",
      "Request of length 1431\n",
      "[3, 2, 4, 2, 1, 2, 3, 3, 2, 3, 2, 1]\n",
      "Added\n",
      "Added\n",
      "Added\n",
      "Added\n",
      "Added\n",
      "Added\n",
      "Added\n",
      "Added\n",
      "Added\n",
      "Added\n"
     ]
    },
    {
     "name": "stderr",
     "output_type": "stream",
     "text": [
      "350it [05:35,  2.02s/it]"
     ]
    },
    {
     "name": "stdout",
     "output_type": "stream",
     "text": [
      "Added\n",
      "Added\n",
      "Request of length 2967\n"
     ]
    },
    {
     "name": "stderr",
     "output_type": "stream",
     "text": [
      "351it [05:35,  1.78s/it]"
     ]
    },
    {
     "name": "stdout",
     "output_type": "stream",
     "text": [
      "[3]\n",
      "Added\n",
      "Request of length 929\n",
      "[5, 5, 5, 5, 5, 5]\n",
      "Added\n",
      "Added\n",
      "Added\n",
      "Added\n",
      "Added\n"
     ]
    },
    {
     "name": "stderr",
     "output_type": "stream",
     "text": [
      "352it [05:37,  1.79s/it]"
     ]
    },
    {
     "name": "stdout",
     "output_type": "stream",
     "text": [
      "Added\n",
      "Request of length 2106\n",
      "[4, 4, 4, 4, 4, 3, 3, 3, 3, 3, 4]\n",
      "Added\n",
      "Added\n",
      "Added\n",
      "Added\n",
      "Added\n",
      "Added\n",
      "Added\n",
      "Added\n",
      "Added\n"
     ]
    },
    {
     "name": "stderr",
     "output_type": "stream",
     "text": [
      "353it [05:40,  2.02s/it]"
     ]
    },
    {
     "name": "stdout",
     "output_type": "stream",
     "text": [
      "Added\n",
      "Added\n",
      "Request of length 212\n"
     ]
    },
    {
     "name": "stderr",
     "output_type": "stream",
     "text": [
      "355it [05:41,  1.34s/it]"
     ]
    },
    {
     "name": "stdout",
     "output_type": "stream",
     "text": [
      "[0]\n",
      "Request of length 2862\n",
      "[3, 1, 1, 5, 5, 1, 1, 1, 1, 1, 2, 2, 1, 2, 2, 3, 3, 4, 5, 5, 5, 5, 5, 5, 4, 4]\n",
      "Added\n",
      "Added\n",
      "Added\n",
      "Added\n",
      "Added\n",
      "Added\n",
      "Added\n",
      "Added\n",
      "Added\n",
      "Added\n",
      "Added\n",
      "Added\n",
      "Added\n",
      "Added\n",
      "Added\n",
      "Added\n",
      "Added\n",
      "Added\n",
      "Added\n",
      "Added\n",
      "Added\n",
      "Added\n",
      "Added\n",
      "Added\n",
      "Added\n"
     ]
    },
    {
     "name": "stderr",
     "output_type": "stream",
     "text": [
      "356it [05:48,  2.73s/it]"
     ]
    },
    {
     "name": "stdout",
     "output_type": "stream",
     "text": [
      "Added\n",
      "Request of length 520\n",
      "[4, 3, 4, 4, 4, 3, 4, 4, 3]\n",
      "Added\n",
      "Added\n",
      "Added\n",
      "Added\n",
      "Added\n",
      "Added\n",
      "Added\n"
     ]
    },
    {
     "name": "stderr",
     "output_type": "stream",
     "text": [
      "358it [05:51,  2.18s/it]"
     ]
    },
    {
     "name": "stdout",
     "output_type": "stream",
     "text": [
      "Added\n",
      "Added\n",
      "Request of length 2540\n",
      "[5, 4, 5, 5]\n",
      "Added\n",
      "Added\n",
      "Added\n"
     ]
    },
    {
     "name": "stderr",
     "output_type": "stream",
     "text": [
      "359it [05:52,  2.02s/it]"
     ]
    },
    {
     "name": "stdout",
     "output_type": "stream",
     "text": [
      "Added\n",
      "Request of length 303\n",
      "[4, 3, 4, 3, 4, 4, 4]\n",
      "Added\n",
      "Added\n",
      "Added\n",
      "Added\n",
      "Added\n",
      "Added\n"
     ]
    },
    {
     "name": "stderr",
     "output_type": "stream",
     "text": [
      "360it [05:54,  1.98s/it]"
     ]
    },
    {
     "name": "stdout",
     "output_type": "stream",
     "text": [
      "Added\n",
      "Request of length 1842\n",
      "[5, 4, 4, 0, 0, 0, 2, 2, 2, 3, 5, 5, 0]\n",
      "Added\n",
      "Added\n",
      "Added\n",
      "Added\n",
      "Added\n",
      "Added\n",
      "Added\n",
      "Added\n"
     ]
    },
    {
     "name": "stderr",
     "output_type": "stream",
     "text": [
      "361it [05:57,  2.23s/it]"
     ]
    },
    {
     "name": "stdout",
     "output_type": "stream",
     "text": [
      "Added\n",
      "Request of length 663\n",
      "[5, 0, 4, 0]\n",
      "Added\n"
     ]
    },
    {
     "name": "stderr",
     "output_type": "stream",
     "text": [
      "362it [05:58,  1.92s/it]"
     ]
    },
    {
     "name": "stdout",
     "output_type": "stream",
     "text": [
      "Added\n",
      "Request of length 2387\n"
     ]
    },
    {
     "name": "stderr",
     "output_type": "stream",
     "text": [
      "363it [05:59,  1.59s/it]"
     ]
    },
    {
     "name": "stdout",
     "output_type": "stream",
     "text": [
      "[3]\n",
      "Added\n",
      "Request of length 2084\n",
      "[5, 5, 5, 5, 5, 5]\n",
      "Added\n",
      "Added\n",
      "Added\n",
      "Added\n",
      "Added\n"
     ]
    },
    {
     "name": "stderr",
     "output_type": "stream",
     "text": [
      "366it [06:01,  1.05s/it]"
     ]
    },
    {
     "name": "stdout",
     "output_type": "stream",
     "text": [
      "Added\n",
      "Request of length 1701\n",
      "[5, 5, 5, 3, 5, 5, 5]\n",
      "Added\n",
      "Added\n",
      "Added\n",
      "Added\n",
      "Added\n",
      "Added\n"
     ]
    },
    {
     "name": "stderr",
     "output_type": "stream",
     "text": [
      "368it [06:03,  1.06s/it]"
     ]
    },
    {
     "name": "stdout",
     "output_type": "stream",
     "text": [
      "Added\n",
      "Request of length 527\n",
      "[2, 1, 1, 2, 3]\n",
      "Added\n",
      "Added\n",
      "Added\n"
     ]
    },
    {
     "name": "stderr",
     "output_type": "stream",
     "text": [
      "370it [06:04,  1.03it/s]"
     ]
    },
    {
     "name": "stdout",
     "output_type": "stream",
     "text": [
      "Added\n",
      "Added\n",
      "Request of length 2511\n",
      "[3, 5, 3, 3, 4, 5, 2, 2, 3, 3, 4, 5]\n",
      "Added\n",
      "Added\n",
      "Added\n",
      "Added\n",
      "Added\n",
      "Added\n",
      "Added\n",
      "Added\n",
      "Added\n",
      "Added\n",
      "Added\n"
     ]
    },
    {
     "name": "stderr",
     "output_type": "stream",
     "text": [
      "373it [06:09,  1.26s/it]"
     ]
    },
    {
     "name": "stdout",
     "output_type": "stream",
     "text": [
      "Added\n",
      "Request of length 2583\n",
      "[4, 4, 3, 5, 5]\n",
      "Added\n",
      "Added\n",
      "Added\n",
      "Added\n"
     ]
    },
    {
     "name": "stderr",
     "output_type": "stream",
     "text": [
      "378it [06:11,  1.21it/s]"
     ]
    },
    {
     "name": "stdout",
     "output_type": "stream",
     "text": [
      "Added\n",
      "Request of length 1629\n",
      "[5, 5, 5]\n",
      "Added\n"
     ]
    },
    {
     "name": "stderr",
     "output_type": "stream",
     "text": [
      "379it [06:12,  1.16it/s]"
     ]
    },
    {
     "name": "stdout",
     "output_type": "stream",
     "text": [
      "Added\n",
      "Added\n",
      "Request of length 2238\n",
      "[3, 5, 3, 3, 4, 4, 4]\n",
      "Added\n",
      "Added\n",
      "Added\n",
      "Added\n",
      "Added\n",
      "Added\n"
     ]
    },
    {
     "name": "stderr",
     "output_type": "stream",
     "text": [
      "383it [06:15,  1.22it/s]"
     ]
    },
    {
     "name": "stdout",
     "output_type": "stream",
     "text": [
      "Added\n",
      "Request of length 1073\n",
      "[4, 3, 3, 4, 4, 4, 4]\n",
      "Added\n",
      "Added\n",
      "Added\n",
      "Added\n",
      "Added\n"
     ]
    },
    {
     "name": "stderr",
     "output_type": "stream",
     "text": [
      "384it [06:17,  1.07it/s]"
     ]
    },
    {
     "name": "stdout",
     "output_type": "stream",
     "text": [
      "Added\n",
      "Added\n",
      "Request of length 617\n"
     ]
    },
    {
     "name": "stderr",
     "output_type": "stream",
     "text": [
      "387it [06:18,  1.44it/s]"
     ]
    },
    {
     "name": "stdout",
     "output_type": "stream",
     "text": [
      "[0, 0, 0, 0, 0, 0, 0, 0, 0]\n",
      "Request of length 2247\n",
      "[5, 5, 2, 4, 4, 4, 4, 3, 3, 4, 4, 5, 5, 5, 2]\n",
      "Added\n",
      "Added\n",
      "Added\n",
      "Added\n",
      "Added\n",
      "Added\n",
      "Added\n",
      "Added\n",
      "Added\n",
      "Added\n",
      "Added\n",
      "Added\n",
      "Added\n",
      "Added\n"
     ]
    },
    {
     "name": "stderr",
     "output_type": "stream",
     "text": [
      "389it [06:22,  1.07s/it]"
     ]
    },
    {
     "name": "stdout",
     "output_type": "stream",
     "text": [
      "Added\n",
      "Request of length 2431\n",
      "[0, 5, 0, 0, 5, 0, 3, 2, 5, 5, 4, 1, 1, 0]\n",
      "Added\n",
      "Added\n",
      "Added\n",
      "Added\n",
      "Added\n",
      "Added\n",
      "Added\n",
      "Added\n"
     ]
    },
    {
     "name": "stderr",
     "output_type": "stream",
     "text": [
      "390it [06:26,  1.48s/it]"
     ]
    },
    {
     "name": "stdout",
     "output_type": "stream",
     "text": [
      "Added\n",
      "Request of length 1369\n",
      "[3, 2, 2, 2, 2, 5, 2, 2, 3, 3, 5, 5, 5, 4, 5, 5]\n",
      "Added\n",
      "Added\n",
      "Added\n",
      "Added\n",
      "Added\n",
      "Added\n",
      "Added\n",
      "Added\n",
      "Added\n",
      "Added\n",
      "Added\n",
      "Added\n",
      "Added\n",
      "Added\n"
     ]
    },
    {
     "name": "stderr",
     "output_type": "stream",
     "text": [
      "391it [06:30,  2.00s/it]"
     ]
    },
    {
     "name": "stdout",
     "output_type": "stream",
     "text": [
      "Added\n",
      "Added\n",
      "Request of length 1814\n"
     ]
    },
    {
     "name": "stderr",
     "output_type": "stream",
     "text": [
      "392it [06:31,  1.72s/it]"
     ]
    },
    {
     "name": "stdout",
     "output_type": "stream",
     "text": [
      "[2]\n",
      "Added\n",
      "Request of length 3286\n",
      "[3, 3, 3, 4, 4, 5, 5, 4, 4, 3, 2, 2, 4, 4, 4, 5, 3, 5, 5]\n",
      "Added\n",
      "Added\n",
      "Added\n",
      "Added\n",
      "Added\n",
      "Added\n",
      "Added\n",
      "Added\n",
      "Added\n",
      "Added\n",
      "Added\n",
      "Added\n",
      "Added\n",
      "Added\n",
      "Added\n",
      "Added\n",
      "Added\n",
      "Added\n"
     ]
    },
    {
     "name": "stderr",
     "output_type": "stream",
     "text": [
      "393it [06:37,  2.60s/it]"
     ]
    },
    {
     "name": "stdout",
     "output_type": "stream",
     "text": [
      "Added\n",
      "Request of length 1354\n",
      "[1, 1, 1, 1, 1, 1, 1, 1, 1, 1, 1, 1, 1, 1, 1]\n",
      "Added\n",
      "Added\n",
      "Added\n",
      "Added\n",
      "Added\n",
      "Added\n",
      "Added\n",
      "Added\n",
      "Added\n",
      "Added\n",
      "Added\n",
      "Added\n",
      "Added\n",
      "Added\n"
     ]
    },
    {
     "name": "stderr",
     "output_type": "stream",
     "text": [
      "394it [06:42,  3.28s/it]"
     ]
    },
    {
     "name": "stdout",
     "output_type": "stream",
     "text": [
      "Added\n",
      "Request of length 1715\n",
      "[4, 4, 4, 4, 3, 3, 4, 3, 4, 3, 4, 3]\n",
      "Added\n",
      "Added\n",
      "Added\n",
      "Added\n",
      "Added\n",
      "Added\n",
      "Added\n",
      "Added\n",
      "Added\n",
      "Added\n",
      "Added\n"
     ]
    },
    {
     "name": "stderr",
     "output_type": "stream",
     "text": [
      "395it [06:46,  3.45s/it]"
     ]
    },
    {
     "name": "stdout",
     "output_type": "stream",
     "text": [
      "Added\n",
      "Request of length 2408\n",
      "[3, 4, 5, 4]\n",
      "Added\n",
      "Added\n",
      "Added\n"
     ]
    },
    {
     "name": "stderr",
     "output_type": "stream",
     "text": [
      "396it [06:48,  3.13s/it]"
     ]
    },
    {
     "name": "stdout",
     "output_type": "stream",
     "text": [
      "Added\n",
      "Request of length 3213\n",
      "[2, 2]\n",
      "Added\n"
     ]
    },
    {
     "name": "stderr",
     "output_type": "stream",
     "text": [
      "398it [06:50,  2.05s/it]"
     ]
    },
    {
     "name": "stdout",
     "output_type": "stream",
     "text": [
      "Added\n",
      "Request of length 3638\n",
      "[2, 0, 2, 2, 2, 2]\n",
      "Added\n",
      "Added\n",
      "Added\n",
      "Added\n"
     ]
    },
    {
     "name": "stderr",
     "output_type": "stream",
     "text": [
      "399it [06:52,  2.08s/it]"
     ]
    },
    {
     "name": "stdout",
     "output_type": "stream",
     "text": [
      "Added\n",
      "Request of length 908\n",
      "[3, 4, 2, 3, 4, 2, 3]\n",
      "Added\n",
      "Added\n",
      "Added\n",
      "Added\n",
      "Added\n",
      "Added\n"
     ]
    },
    {
     "name": "stderr",
     "output_type": "stream",
     "text": [
      "401it [06:54,  1.73s/it]"
     ]
    },
    {
     "name": "stdout",
     "output_type": "stream",
     "text": [
      "Added\n",
      "Request of length 682\n"
     ]
    },
    {
     "name": "stderr",
     "output_type": "stream",
     "text": [
      "402it [06:55,  1.58s/it]"
     ]
    },
    {
     "name": "stdout",
     "output_type": "stream",
     "text": [
      "[0, 0, 0, 0, 0, 0, 0, 0, 0, 0, 0, 0, 0, 0, 0]\n",
      "Request of length 645\n",
      "[5, 5, 5]\n",
      "Added\n",
      "Added\n"
     ]
    },
    {
     "name": "stderr",
     "output_type": "stream",
     "text": [
      "404it [06:56,  1.21s/it]"
     ]
    },
    {
     "name": "stdout",
     "output_type": "stream",
     "text": [
      "Added\n",
      "Request of length 803\n"
     ]
    },
    {
     "name": "stderr",
     "output_type": "stream",
     "text": [
      "405it [06:57,  1.14s/it]"
     ]
    },
    {
     "name": "stdout",
     "output_type": "stream",
     "text": [
      "[2]\n",
      "Added\n",
      "Request of length 2789\n"
     ]
    },
    {
     "name": "stderr",
     "output_type": "stream",
     "text": [
      "407it [06:58,  1.14it/s]"
     ]
    },
    {
     "name": "stdout",
     "output_type": "stream",
     "text": [
      "[0]\n",
      "Request of length 3027\n"
     ]
    },
    {
     "name": "stderr",
     "output_type": "stream",
     "text": [
      "407it [06:59,  1.03s/it]\n"
     ]
    },
    {
     "ename": "KeyboardInterrupt",
     "evalue": "",
     "output_type": "error",
     "traceback": [
      "\u001B[0;31m---------------------------------------------------------------------------\u001B[0m",
      "\u001B[0;31mKeyboardInterrupt\u001B[0m                         Traceback (most recent call last)",
      "Cell \u001B[0;32mIn[27], line 23\u001B[0m\n\u001B[1;32m     20\u001B[0m \u001B[38;5;28;01mif\u001B[39;00m \u001B[38;5;28mlen\u001B[39m(entities) \u001B[38;5;241m==\u001B[39m \u001B[38;5;241m0\u001B[39m:\n\u001B[1;32m     21\u001B[0m     \u001B[38;5;28;01mcontinue\u001B[39;00m\n\u001B[0;32m---> 23\u001B[0m scores \u001B[38;5;241m=\u001B[39m \u001B[43mget_scores\u001B[49m\u001B[43m(\u001B[49m\u001B[43mtext\u001B[49m\u001B[43m,\u001B[49m\u001B[43m \u001B[49m\u001B[43mentities\u001B[49m\u001B[43m)\u001B[49m\n\u001B[1;32m     24\u001B[0m \u001B[38;5;28mprint\u001B[39m(scores)\n\u001B[1;32m     26\u001B[0m \u001B[38;5;28;01mfor\u001B[39;00m i, (eid, (start_pos, end_pos)) \u001B[38;5;129;01min\u001B[39;00m \u001B[38;5;28menumerate\u001B[39m(entities):\n",
      "Cell \u001B[0;32mIn[23], line 18\u001B[0m, in \u001B[0;36mget_scores\u001B[0;34m(text, entities)\u001B[0m\n\u001B[1;32m     16\u001B[0m prompt \u001B[38;5;241m=\u001B[39m prompt[:\u001B[38;5;241m-\u001B[39m\u001B[38;5;241m2\u001B[39m]\n\u001B[1;32m     17\u001B[0m \u001B[38;5;28mprint\u001B[39m(\u001B[38;5;124mf\u001B[39m\u001B[38;5;124m\"\u001B[39m\u001B[38;5;124mRequest of length \u001B[39m\u001B[38;5;132;01m{\u001B[39;00m\u001B[38;5;28mlen\u001B[39m(prompt)\u001B[38;5;132;01m}\u001B[39;00m\u001B[38;5;124m\"\u001B[39m)\n\u001B[0;32m---> 18\u001B[0m response \u001B[38;5;241m=\u001B[39m \u001B[43mmanager\u001B[49m\u001B[38;5;241;43m.\u001B[39;49m\u001B[43mwrite_one_message_with_role\u001B[49m\u001B[43m(\u001B[49m\u001B[43mprompt\u001B[49m\u001B[43m)\u001B[49m\u001B[38;5;241m.\u001B[39msplit(\u001B[38;5;124m'\u001B[39m\u001B[38;5;130;01m\\n\u001B[39;00m\u001B[38;5;124m'\u001B[39m)\n\u001B[1;32m     20\u001B[0m sentiments \u001B[38;5;241m=\u001B[39m {}\n\u001B[1;32m     21\u001B[0m \u001B[38;5;28;01mfor\u001B[39;00m i \u001B[38;5;129;01min\u001B[39;00m \u001B[38;5;28mrange\u001B[39m(\u001B[38;5;28mlen\u001B[39m(response)):\n",
      "File \u001B[0;32m~/Programming/Hackathons/gagarin_hack/process_ner/ChatGPTRequestManager.py:33\u001B[0m, in \u001B[0;36mRequestManager.write_one_message_with_role\u001B[0;34m(self, message, system_role)\u001B[0m\n\u001B[1;32m     31\u001B[0m \u001B[38;5;28;01mwhile\u001B[39;00m \u001B[38;5;28;01mTrue\u001B[39;00m:\n\u001B[1;32m     32\u001B[0m     \u001B[38;5;28;01mtry\u001B[39;00m:\n\u001B[0;32m---> 33\u001B[0m         response \u001B[38;5;241m=\u001B[39m \u001B[38;5;28;43mself\u001B[39;49m\u001B[38;5;241;43m.\u001B[39;49m\u001B[43mclient\u001B[49m\u001B[38;5;241;43m.\u001B[39;49m\u001B[43mchat\u001B[49m\u001B[38;5;241;43m.\u001B[39;49m\u001B[43mcompletions\u001B[49m\u001B[38;5;241;43m.\u001B[39;49m\u001B[43mcreate\u001B[49m\u001B[43m(\u001B[49m\n\u001B[1;32m     34\u001B[0m \u001B[43m            \u001B[49m\u001B[43mmessages\u001B[49m\u001B[38;5;241;43m=\u001B[39;49m\u001B[43m[\u001B[49m\n\u001B[1;32m     35\u001B[0m \u001B[43m                \u001B[49m\u001B[43m{\u001B[49m\u001B[38;5;124;43m\"\u001B[39;49m\u001B[38;5;124;43mrole\u001B[39;49m\u001B[38;5;124;43m\"\u001B[39;49m\u001B[43m:\u001B[49m\u001B[43m \u001B[49m\u001B[38;5;124;43m\"\u001B[39;49m\u001B[38;5;124;43msystem\u001B[39;49m\u001B[38;5;124;43m\"\u001B[39;49m\u001B[43m,\u001B[49m\u001B[43m \u001B[49m\u001B[38;5;124;43m\"\u001B[39;49m\u001B[38;5;124;43mcontent\u001B[39;49m\u001B[38;5;124;43m\"\u001B[39;49m\u001B[43m:\u001B[49m\u001B[43m \u001B[49m\u001B[43msystem_role\u001B[49m\u001B[43m}\u001B[49m\u001B[43m,\u001B[49m\n\u001B[1;32m     36\u001B[0m \u001B[43m                \u001B[49m\u001B[43m{\u001B[49m\u001B[38;5;124;43m\"\u001B[39;49m\u001B[38;5;124;43mrole\u001B[39;49m\u001B[38;5;124;43m\"\u001B[39;49m\u001B[43m:\u001B[49m\u001B[43m \u001B[49m\u001B[38;5;124;43m\"\u001B[39;49m\u001B[38;5;124;43muser\u001B[39;49m\u001B[38;5;124;43m\"\u001B[39;49m\u001B[43m,\u001B[49m\u001B[43m \u001B[49m\u001B[38;5;124;43m\"\u001B[39;49m\u001B[38;5;124;43mcontent\u001B[39;49m\u001B[38;5;124;43m\"\u001B[39;49m\u001B[43m:\u001B[49m\u001B[43m \u001B[49m\u001B[43mmessage\u001B[49m\u001B[43m}\u001B[49m\u001B[43m,\u001B[49m\n\u001B[1;32m     37\u001B[0m \u001B[43m            \u001B[49m\u001B[43m]\u001B[49m\u001B[43m,\u001B[49m\n\u001B[1;32m     38\u001B[0m \u001B[43m            \u001B[49m\u001B[43mmodel\u001B[49m\u001B[38;5;241;43m=\u001B[39;49m\u001B[38;5;124;43m\"\u001B[39;49m\u001B[38;5;124;43mgpt-3.5-turbo\u001B[39;49m\u001B[38;5;124;43m\"\u001B[39;49m\u001B[43m,\u001B[49m\n\u001B[1;32m     39\u001B[0m \u001B[43m        \u001B[49m\u001B[43m)\u001B[49m\n\u001B[1;32m     40\u001B[0m         \u001B[38;5;28;01mbreak\u001B[39;00m\n\u001B[1;32m     41\u001B[0m     \u001B[38;5;28;01mexcept\u001B[39;00m \u001B[38;5;167;01mException\u001B[39;00m \u001B[38;5;28;01mas\u001B[39;00m e:  \u001B[38;5;66;03m# openai.error.RateLimitError:\u001B[39;00m\n",
      "File \u001B[0;32m~/Programming/Hackathons/gagarin_hack/venv/lib/python3.11/site-packages/openai/_utils/_utils.py:275\u001B[0m, in \u001B[0;36mrequired_args.<locals>.inner.<locals>.wrapper\u001B[0;34m(*args, **kwargs)\u001B[0m\n\u001B[1;32m    273\u001B[0m             msg \u001B[38;5;241m=\u001B[39m \u001B[38;5;124mf\u001B[39m\u001B[38;5;124m\"\u001B[39m\u001B[38;5;124mMissing required argument: \u001B[39m\u001B[38;5;132;01m{\u001B[39;00mquote(missing[\u001B[38;5;241m0\u001B[39m])\u001B[38;5;132;01m}\u001B[39;00m\u001B[38;5;124m\"\u001B[39m\n\u001B[1;32m    274\u001B[0m     \u001B[38;5;28;01mraise\u001B[39;00m \u001B[38;5;167;01mTypeError\u001B[39;00m(msg)\n\u001B[0;32m--> 275\u001B[0m \u001B[38;5;28;01mreturn\u001B[39;00m \u001B[43mfunc\u001B[49m\u001B[43m(\u001B[49m\u001B[38;5;241;43m*\u001B[39;49m\u001B[43margs\u001B[49m\u001B[43m,\u001B[49m\u001B[43m \u001B[49m\u001B[38;5;241;43m*\u001B[39;49m\u001B[38;5;241;43m*\u001B[39;49m\u001B[43mkwargs\u001B[49m\u001B[43m)\u001B[49m\n",
      "File \u001B[0;32m~/Programming/Hackathons/gagarin_hack/venv/lib/python3.11/site-packages/openai/resources/chat/completions.py:667\u001B[0m, in \u001B[0;36mCompletions.create\u001B[0;34m(self, messages, model, frequency_penalty, function_call, functions, logit_bias, logprobs, max_tokens, n, presence_penalty, response_format, seed, stop, stream, temperature, tool_choice, tools, top_logprobs, top_p, user, extra_headers, extra_query, extra_body, timeout)\u001B[0m\n\u001B[1;32m    615\u001B[0m \u001B[38;5;129m@required_args\u001B[39m([\u001B[38;5;124m\"\u001B[39m\u001B[38;5;124mmessages\u001B[39m\u001B[38;5;124m\"\u001B[39m, \u001B[38;5;124m\"\u001B[39m\u001B[38;5;124mmodel\u001B[39m\u001B[38;5;124m\"\u001B[39m], [\u001B[38;5;124m\"\u001B[39m\u001B[38;5;124mmessages\u001B[39m\u001B[38;5;124m\"\u001B[39m, \u001B[38;5;124m\"\u001B[39m\u001B[38;5;124mmodel\u001B[39m\u001B[38;5;124m\"\u001B[39m, \u001B[38;5;124m\"\u001B[39m\u001B[38;5;124mstream\u001B[39m\u001B[38;5;124m\"\u001B[39m])\n\u001B[1;32m    616\u001B[0m \u001B[38;5;28;01mdef\u001B[39;00m \u001B[38;5;21mcreate\u001B[39m(\n\u001B[1;32m    617\u001B[0m     \u001B[38;5;28mself\u001B[39m,\n\u001B[0;32m   (...)\u001B[0m\n\u001B[1;32m    665\u001B[0m     timeout: \u001B[38;5;28mfloat\u001B[39m \u001B[38;5;241m|\u001B[39m httpx\u001B[38;5;241m.\u001B[39mTimeout \u001B[38;5;241m|\u001B[39m \u001B[38;5;28;01mNone\u001B[39;00m \u001B[38;5;241m|\u001B[39m NotGiven \u001B[38;5;241m=\u001B[39m NOT_GIVEN,\n\u001B[1;32m    666\u001B[0m ) \u001B[38;5;241m-\u001B[39m\u001B[38;5;241m>\u001B[39m ChatCompletion \u001B[38;5;241m|\u001B[39m Stream[ChatCompletionChunk]:\n\u001B[0;32m--> 667\u001B[0m     \u001B[38;5;28;01mreturn\u001B[39;00m \u001B[38;5;28;43mself\u001B[39;49m\u001B[38;5;241;43m.\u001B[39;49m\u001B[43m_post\u001B[49m\u001B[43m(\u001B[49m\n\u001B[1;32m    668\u001B[0m \u001B[43m        \u001B[49m\u001B[38;5;124;43m\"\u001B[39;49m\u001B[38;5;124;43m/chat/completions\u001B[39;49m\u001B[38;5;124;43m\"\u001B[39;49m\u001B[43m,\u001B[49m\n\u001B[1;32m    669\u001B[0m \u001B[43m        \u001B[49m\u001B[43mbody\u001B[49m\u001B[38;5;241;43m=\u001B[39;49m\u001B[43mmaybe_transform\u001B[49m\u001B[43m(\u001B[49m\n\u001B[1;32m    670\u001B[0m \u001B[43m            \u001B[49m\u001B[43m{\u001B[49m\n\u001B[1;32m    671\u001B[0m \u001B[43m                \u001B[49m\u001B[38;5;124;43m\"\u001B[39;49m\u001B[38;5;124;43mmessages\u001B[39;49m\u001B[38;5;124;43m\"\u001B[39;49m\u001B[43m:\u001B[49m\u001B[43m \u001B[49m\u001B[43mmessages\u001B[49m\u001B[43m,\u001B[49m\n\u001B[1;32m    672\u001B[0m \u001B[43m                \u001B[49m\u001B[38;5;124;43m\"\u001B[39;49m\u001B[38;5;124;43mmodel\u001B[39;49m\u001B[38;5;124;43m\"\u001B[39;49m\u001B[43m:\u001B[49m\u001B[43m \u001B[49m\u001B[43mmodel\u001B[49m\u001B[43m,\u001B[49m\n\u001B[1;32m    673\u001B[0m \u001B[43m                \u001B[49m\u001B[38;5;124;43m\"\u001B[39;49m\u001B[38;5;124;43mfrequency_penalty\u001B[39;49m\u001B[38;5;124;43m\"\u001B[39;49m\u001B[43m:\u001B[49m\u001B[43m \u001B[49m\u001B[43mfrequency_penalty\u001B[49m\u001B[43m,\u001B[49m\n\u001B[1;32m    674\u001B[0m \u001B[43m                \u001B[49m\u001B[38;5;124;43m\"\u001B[39;49m\u001B[38;5;124;43mfunction_call\u001B[39;49m\u001B[38;5;124;43m\"\u001B[39;49m\u001B[43m:\u001B[49m\u001B[43m \u001B[49m\u001B[43mfunction_call\u001B[49m\u001B[43m,\u001B[49m\n\u001B[1;32m    675\u001B[0m \u001B[43m                \u001B[49m\u001B[38;5;124;43m\"\u001B[39;49m\u001B[38;5;124;43mfunctions\u001B[39;49m\u001B[38;5;124;43m\"\u001B[39;49m\u001B[43m:\u001B[49m\u001B[43m \u001B[49m\u001B[43mfunctions\u001B[49m\u001B[43m,\u001B[49m\n\u001B[1;32m    676\u001B[0m \u001B[43m                \u001B[49m\u001B[38;5;124;43m\"\u001B[39;49m\u001B[38;5;124;43mlogit_bias\u001B[39;49m\u001B[38;5;124;43m\"\u001B[39;49m\u001B[43m:\u001B[49m\u001B[43m \u001B[49m\u001B[43mlogit_bias\u001B[49m\u001B[43m,\u001B[49m\n\u001B[1;32m    677\u001B[0m \u001B[43m                \u001B[49m\u001B[38;5;124;43m\"\u001B[39;49m\u001B[38;5;124;43mlogprobs\u001B[39;49m\u001B[38;5;124;43m\"\u001B[39;49m\u001B[43m:\u001B[49m\u001B[43m \u001B[49m\u001B[43mlogprobs\u001B[49m\u001B[43m,\u001B[49m\n\u001B[1;32m    678\u001B[0m \u001B[43m                \u001B[49m\u001B[38;5;124;43m\"\u001B[39;49m\u001B[38;5;124;43mmax_tokens\u001B[39;49m\u001B[38;5;124;43m\"\u001B[39;49m\u001B[43m:\u001B[49m\u001B[43m \u001B[49m\u001B[43mmax_tokens\u001B[49m\u001B[43m,\u001B[49m\n\u001B[1;32m    679\u001B[0m \u001B[43m                \u001B[49m\u001B[38;5;124;43m\"\u001B[39;49m\u001B[38;5;124;43mn\u001B[39;49m\u001B[38;5;124;43m\"\u001B[39;49m\u001B[43m:\u001B[49m\u001B[43m \u001B[49m\u001B[43mn\u001B[49m\u001B[43m,\u001B[49m\n\u001B[1;32m    680\u001B[0m \u001B[43m                \u001B[49m\u001B[38;5;124;43m\"\u001B[39;49m\u001B[38;5;124;43mpresence_penalty\u001B[39;49m\u001B[38;5;124;43m\"\u001B[39;49m\u001B[43m:\u001B[49m\u001B[43m \u001B[49m\u001B[43mpresence_penalty\u001B[49m\u001B[43m,\u001B[49m\n\u001B[1;32m    681\u001B[0m \u001B[43m                \u001B[49m\u001B[38;5;124;43m\"\u001B[39;49m\u001B[38;5;124;43mresponse_format\u001B[39;49m\u001B[38;5;124;43m\"\u001B[39;49m\u001B[43m:\u001B[49m\u001B[43m \u001B[49m\u001B[43mresponse_format\u001B[49m\u001B[43m,\u001B[49m\n\u001B[1;32m    682\u001B[0m \u001B[43m                \u001B[49m\u001B[38;5;124;43m\"\u001B[39;49m\u001B[38;5;124;43mseed\u001B[39;49m\u001B[38;5;124;43m\"\u001B[39;49m\u001B[43m:\u001B[49m\u001B[43m \u001B[49m\u001B[43mseed\u001B[49m\u001B[43m,\u001B[49m\n\u001B[1;32m    683\u001B[0m \u001B[43m                \u001B[49m\u001B[38;5;124;43m\"\u001B[39;49m\u001B[38;5;124;43mstop\u001B[39;49m\u001B[38;5;124;43m\"\u001B[39;49m\u001B[43m:\u001B[49m\u001B[43m \u001B[49m\u001B[43mstop\u001B[49m\u001B[43m,\u001B[49m\n\u001B[1;32m    684\u001B[0m \u001B[43m                \u001B[49m\u001B[38;5;124;43m\"\u001B[39;49m\u001B[38;5;124;43mstream\u001B[39;49m\u001B[38;5;124;43m\"\u001B[39;49m\u001B[43m:\u001B[49m\u001B[43m \u001B[49m\u001B[43mstream\u001B[49m\u001B[43m,\u001B[49m\n\u001B[1;32m    685\u001B[0m \u001B[43m                \u001B[49m\u001B[38;5;124;43m\"\u001B[39;49m\u001B[38;5;124;43mtemperature\u001B[39;49m\u001B[38;5;124;43m\"\u001B[39;49m\u001B[43m:\u001B[49m\u001B[43m \u001B[49m\u001B[43mtemperature\u001B[49m\u001B[43m,\u001B[49m\n\u001B[1;32m    686\u001B[0m \u001B[43m                \u001B[49m\u001B[38;5;124;43m\"\u001B[39;49m\u001B[38;5;124;43mtool_choice\u001B[39;49m\u001B[38;5;124;43m\"\u001B[39;49m\u001B[43m:\u001B[49m\u001B[43m \u001B[49m\u001B[43mtool_choice\u001B[49m\u001B[43m,\u001B[49m\n\u001B[1;32m    687\u001B[0m \u001B[43m                \u001B[49m\u001B[38;5;124;43m\"\u001B[39;49m\u001B[38;5;124;43mtools\u001B[39;49m\u001B[38;5;124;43m\"\u001B[39;49m\u001B[43m:\u001B[49m\u001B[43m \u001B[49m\u001B[43mtools\u001B[49m\u001B[43m,\u001B[49m\n\u001B[1;32m    688\u001B[0m \u001B[43m                \u001B[49m\u001B[38;5;124;43m\"\u001B[39;49m\u001B[38;5;124;43mtop_logprobs\u001B[39;49m\u001B[38;5;124;43m\"\u001B[39;49m\u001B[43m:\u001B[49m\u001B[43m \u001B[49m\u001B[43mtop_logprobs\u001B[49m\u001B[43m,\u001B[49m\n\u001B[1;32m    689\u001B[0m \u001B[43m                \u001B[49m\u001B[38;5;124;43m\"\u001B[39;49m\u001B[38;5;124;43mtop_p\u001B[39;49m\u001B[38;5;124;43m\"\u001B[39;49m\u001B[43m:\u001B[49m\u001B[43m \u001B[49m\u001B[43mtop_p\u001B[49m\u001B[43m,\u001B[49m\n\u001B[1;32m    690\u001B[0m \u001B[43m                \u001B[49m\u001B[38;5;124;43m\"\u001B[39;49m\u001B[38;5;124;43muser\u001B[39;49m\u001B[38;5;124;43m\"\u001B[39;49m\u001B[43m:\u001B[49m\u001B[43m \u001B[49m\u001B[43muser\u001B[49m\u001B[43m,\u001B[49m\n\u001B[1;32m    691\u001B[0m \u001B[43m            \u001B[49m\u001B[43m}\u001B[49m\u001B[43m,\u001B[49m\n\u001B[1;32m    692\u001B[0m \u001B[43m            \u001B[49m\u001B[43mcompletion_create_params\u001B[49m\u001B[38;5;241;43m.\u001B[39;49m\u001B[43mCompletionCreateParams\u001B[49m\u001B[43m,\u001B[49m\n\u001B[1;32m    693\u001B[0m \u001B[43m        \u001B[49m\u001B[43m)\u001B[49m\u001B[43m,\u001B[49m\n\u001B[1;32m    694\u001B[0m \u001B[43m        \u001B[49m\u001B[43moptions\u001B[49m\u001B[38;5;241;43m=\u001B[39;49m\u001B[43mmake_request_options\u001B[49m\u001B[43m(\u001B[49m\n\u001B[1;32m    695\u001B[0m \u001B[43m            \u001B[49m\u001B[43mextra_headers\u001B[49m\u001B[38;5;241;43m=\u001B[39;49m\u001B[43mextra_headers\u001B[49m\u001B[43m,\u001B[49m\u001B[43m \u001B[49m\u001B[43mextra_query\u001B[49m\u001B[38;5;241;43m=\u001B[39;49m\u001B[43mextra_query\u001B[49m\u001B[43m,\u001B[49m\u001B[43m \u001B[49m\u001B[43mextra_body\u001B[49m\u001B[38;5;241;43m=\u001B[39;49m\u001B[43mextra_body\u001B[49m\u001B[43m,\u001B[49m\u001B[43m \u001B[49m\u001B[43mtimeout\u001B[49m\u001B[38;5;241;43m=\u001B[39;49m\u001B[43mtimeout\u001B[49m\n\u001B[1;32m    696\u001B[0m \u001B[43m        \u001B[49m\u001B[43m)\u001B[49m\u001B[43m,\u001B[49m\n\u001B[1;32m    697\u001B[0m \u001B[43m        \u001B[49m\u001B[43mcast_to\u001B[49m\u001B[38;5;241;43m=\u001B[39;49m\u001B[43mChatCompletion\u001B[49m\u001B[43m,\u001B[49m\n\u001B[1;32m    698\u001B[0m \u001B[43m        \u001B[49m\u001B[43mstream\u001B[49m\u001B[38;5;241;43m=\u001B[39;49m\u001B[43mstream\u001B[49m\u001B[43m \u001B[49m\u001B[38;5;129;43;01mor\u001B[39;49;00m\u001B[43m \u001B[49m\u001B[38;5;28;43;01mFalse\u001B[39;49;00m\u001B[43m,\u001B[49m\n\u001B[1;32m    699\u001B[0m \u001B[43m        \u001B[49m\u001B[43mstream_cls\u001B[49m\u001B[38;5;241;43m=\u001B[39;49m\u001B[43mStream\u001B[49m\u001B[43m[\u001B[49m\u001B[43mChatCompletionChunk\u001B[49m\u001B[43m]\u001B[49m\u001B[43m,\u001B[49m\n\u001B[1;32m    700\u001B[0m \u001B[43m    \u001B[49m\u001B[43m)\u001B[49m\n",
      "File \u001B[0;32m~/Programming/Hackathons/gagarin_hack/venv/lib/python3.11/site-packages/openai/_base_client.py:1233\u001B[0m, in \u001B[0;36mSyncAPIClient.post\u001B[0;34m(self, path, cast_to, body, options, files, stream, stream_cls)\u001B[0m\n\u001B[1;32m   1219\u001B[0m \u001B[38;5;28;01mdef\u001B[39;00m \u001B[38;5;21mpost\u001B[39m(\n\u001B[1;32m   1220\u001B[0m     \u001B[38;5;28mself\u001B[39m,\n\u001B[1;32m   1221\u001B[0m     path: \u001B[38;5;28mstr\u001B[39m,\n\u001B[0;32m   (...)\u001B[0m\n\u001B[1;32m   1228\u001B[0m     stream_cls: \u001B[38;5;28mtype\u001B[39m[_StreamT] \u001B[38;5;241m|\u001B[39m \u001B[38;5;28;01mNone\u001B[39;00m \u001B[38;5;241m=\u001B[39m \u001B[38;5;28;01mNone\u001B[39;00m,\n\u001B[1;32m   1229\u001B[0m ) \u001B[38;5;241m-\u001B[39m\u001B[38;5;241m>\u001B[39m ResponseT \u001B[38;5;241m|\u001B[39m _StreamT:\n\u001B[1;32m   1230\u001B[0m     opts \u001B[38;5;241m=\u001B[39m FinalRequestOptions\u001B[38;5;241m.\u001B[39mconstruct(\n\u001B[1;32m   1231\u001B[0m         method\u001B[38;5;241m=\u001B[39m\u001B[38;5;124m\"\u001B[39m\u001B[38;5;124mpost\u001B[39m\u001B[38;5;124m\"\u001B[39m, url\u001B[38;5;241m=\u001B[39mpath, json_data\u001B[38;5;241m=\u001B[39mbody, files\u001B[38;5;241m=\u001B[39mto_httpx_files(files), \u001B[38;5;241m*\u001B[39m\u001B[38;5;241m*\u001B[39moptions\n\u001B[1;32m   1232\u001B[0m     )\n\u001B[0;32m-> 1233\u001B[0m     \u001B[38;5;28;01mreturn\u001B[39;00m cast(ResponseT, \u001B[38;5;28;43mself\u001B[39;49m\u001B[38;5;241;43m.\u001B[39;49m\u001B[43mrequest\u001B[49m\u001B[43m(\u001B[49m\u001B[43mcast_to\u001B[49m\u001B[43m,\u001B[49m\u001B[43m \u001B[49m\u001B[43mopts\u001B[49m\u001B[43m,\u001B[49m\u001B[43m \u001B[49m\u001B[43mstream\u001B[49m\u001B[38;5;241;43m=\u001B[39;49m\u001B[43mstream\u001B[49m\u001B[43m,\u001B[49m\u001B[43m \u001B[49m\u001B[43mstream_cls\u001B[49m\u001B[38;5;241;43m=\u001B[39;49m\u001B[43mstream_cls\u001B[49m\u001B[43m)\u001B[49m)\n",
      "File \u001B[0;32m~/Programming/Hackathons/gagarin_hack/venv/lib/python3.11/site-packages/openai/_base_client.py:922\u001B[0m, in \u001B[0;36mSyncAPIClient.request\u001B[0;34m(self, cast_to, options, remaining_retries, stream, stream_cls)\u001B[0m\n\u001B[1;32m    913\u001B[0m \u001B[38;5;28;01mdef\u001B[39;00m \u001B[38;5;21mrequest\u001B[39m(\n\u001B[1;32m    914\u001B[0m     \u001B[38;5;28mself\u001B[39m,\n\u001B[1;32m    915\u001B[0m     cast_to: Type[ResponseT],\n\u001B[0;32m   (...)\u001B[0m\n\u001B[1;32m    920\u001B[0m     stream_cls: \u001B[38;5;28mtype\u001B[39m[_StreamT] \u001B[38;5;241m|\u001B[39m \u001B[38;5;28;01mNone\u001B[39;00m \u001B[38;5;241m=\u001B[39m \u001B[38;5;28;01mNone\u001B[39;00m,\n\u001B[1;32m    921\u001B[0m ) \u001B[38;5;241m-\u001B[39m\u001B[38;5;241m>\u001B[39m ResponseT \u001B[38;5;241m|\u001B[39m _StreamT:\n\u001B[0;32m--> 922\u001B[0m     \u001B[38;5;28;01mreturn\u001B[39;00m \u001B[38;5;28;43mself\u001B[39;49m\u001B[38;5;241;43m.\u001B[39;49m\u001B[43m_request\u001B[49m\u001B[43m(\u001B[49m\n\u001B[1;32m    923\u001B[0m \u001B[43m        \u001B[49m\u001B[43mcast_to\u001B[49m\u001B[38;5;241;43m=\u001B[39;49m\u001B[43mcast_to\u001B[49m\u001B[43m,\u001B[49m\n\u001B[1;32m    924\u001B[0m \u001B[43m        \u001B[49m\u001B[43moptions\u001B[49m\u001B[38;5;241;43m=\u001B[39;49m\u001B[43moptions\u001B[49m\u001B[43m,\u001B[49m\n\u001B[1;32m    925\u001B[0m \u001B[43m        \u001B[49m\u001B[43mstream\u001B[49m\u001B[38;5;241;43m=\u001B[39;49m\u001B[43mstream\u001B[49m\u001B[43m,\u001B[49m\n\u001B[1;32m    926\u001B[0m \u001B[43m        \u001B[49m\u001B[43mstream_cls\u001B[49m\u001B[38;5;241;43m=\u001B[39;49m\u001B[43mstream_cls\u001B[49m\u001B[43m,\u001B[49m\n\u001B[1;32m    927\u001B[0m \u001B[43m        \u001B[49m\u001B[43mremaining_retries\u001B[49m\u001B[38;5;241;43m=\u001B[39;49m\u001B[43mremaining_retries\u001B[49m\u001B[43m,\u001B[49m\n\u001B[1;32m    928\u001B[0m \u001B[43m    \u001B[49m\u001B[43m)\u001B[49m\n",
      "File \u001B[0;32m~/Programming/Hackathons/gagarin_hack/venv/lib/python3.11/site-packages/openai/_base_client.py:951\u001B[0m, in \u001B[0;36mSyncAPIClient._request\u001B[0;34m(self, cast_to, options, remaining_retries, stream, stream_cls)\u001B[0m\n\u001B[1;32m    948\u001B[0m     kwargs[\u001B[38;5;124m\"\u001B[39m\u001B[38;5;124mauth\u001B[39m\u001B[38;5;124m\"\u001B[39m] \u001B[38;5;241m=\u001B[39m \u001B[38;5;28mself\u001B[39m\u001B[38;5;241m.\u001B[39mcustom_auth\n\u001B[1;32m    950\u001B[0m \u001B[38;5;28;01mtry\u001B[39;00m:\n\u001B[0;32m--> 951\u001B[0m     response \u001B[38;5;241m=\u001B[39m \u001B[38;5;28;43mself\u001B[39;49m\u001B[38;5;241;43m.\u001B[39;49m\u001B[43m_client\u001B[49m\u001B[38;5;241;43m.\u001B[39;49m\u001B[43msend\u001B[49m\u001B[43m(\u001B[49m\n\u001B[1;32m    952\u001B[0m \u001B[43m        \u001B[49m\u001B[43mrequest\u001B[49m\u001B[43m,\u001B[49m\n\u001B[1;32m    953\u001B[0m \u001B[43m        \u001B[49m\u001B[43mstream\u001B[49m\u001B[38;5;241;43m=\u001B[39;49m\u001B[43mstream\u001B[49m\u001B[43m \u001B[49m\u001B[38;5;129;43;01mor\u001B[39;49;00m\u001B[43m \u001B[49m\u001B[38;5;28;43mself\u001B[39;49m\u001B[38;5;241;43m.\u001B[39;49m\u001B[43m_should_stream_response_body\u001B[49m\u001B[43m(\u001B[49m\u001B[43mrequest\u001B[49m\u001B[38;5;241;43m=\u001B[39;49m\u001B[43mrequest\u001B[49m\u001B[43m)\u001B[49m\u001B[43m,\u001B[49m\n\u001B[1;32m    954\u001B[0m \u001B[43m        \u001B[49m\u001B[38;5;241;43m*\u001B[39;49m\u001B[38;5;241;43m*\u001B[39;49m\u001B[43mkwargs\u001B[49m\u001B[43m,\u001B[49m\n\u001B[1;32m    955\u001B[0m \u001B[43m    \u001B[49m\u001B[43m)\u001B[49m\n\u001B[1;32m    956\u001B[0m \u001B[38;5;28;01mexcept\u001B[39;00m httpx\u001B[38;5;241m.\u001B[39mTimeoutException \u001B[38;5;28;01mas\u001B[39;00m err:\n\u001B[1;32m    957\u001B[0m     log\u001B[38;5;241m.\u001B[39mdebug(\u001B[38;5;124m\"\u001B[39m\u001B[38;5;124mEncountered httpx.TimeoutException\u001B[39m\u001B[38;5;124m\"\u001B[39m, exc_info\u001B[38;5;241m=\u001B[39m\u001B[38;5;28;01mTrue\u001B[39;00m)\n",
      "File \u001B[0;32m~/Programming/Hackathons/gagarin_hack/venv/lib/python3.11/site-packages/httpx/_client.py:914\u001B[0m, in \u001B[0;36mClient.send\u001B[0;34m(self, request, stream, auth, follow_redirects)\u001B[0m\n\u001B[1;32m    906\u001B[0m follow_redirects \u001B[38;5;241m=\u001B[39m (\n\u001B[1;32m    907\u001B[0m     \u001B[38;5;28mself\u001B[39m\u001B[38;5;241m.\u001B[39mfollow_redirects\n\u001B[1;32m    908\u001B[0m     \u001B[38;5;28;01mif\u001B[39;00m \u001B[38;5;28misinstance\u001B[39m(follow_redirects, UseClientDefault)\n\u001B[1;32m    909\u001B[0m     \u001B[38;5;28;01melse\u001B[39;00m follow_redirects\n\u001B[1;32m    910\u001B[0m )\n\u001B[1;32m    912\u001B[0m auth \u001B[38;5;241m=\u001B[39m \u001B[38;5;28mself\u001B[39m\u001B[38;5;241m.\u001B[39m_build_request_auth(request, auth)\n\u001B[0;32m--> 914\u001B[0m response \u001B[38;5;241m=\u001B[39m \u001B[38;5;28;43mself\u001B[39;49m\u001B[38;5;241;43m.\u001B[39;49m\u001B[43m_send_handling_auth\u001B[49m\u001B[43m(\u001B[49m\n\u001B[1;32m    915\u001B[0m \u001B[43m    \u001B[49m\u001B[43mrequest\u001B[49m\u001B[43m,\u001B[49m\n\u001B[1;32m    916\u001B[0m \u001B[43m    \u001B[49m\u001B[43mauth\u001B[49m\u001B[38;5;241;43m=\u001B[39;49m\u001B[43mauth\u001B[49m\u001B[43m,\u001B[49m\n\u001B[1;32m    917\u001B[0m \u001B[43m    \u001B[49m\u001B[43mfollow_redirects\u001B[49m\u001B[38;5;241;43m=\u001B[39;49m\u001B[43mfollow_redirects\u001B[49m\u001B[43m,\u001B[49m\n\u001B[1;32m    918\u001B[0m \u001B[43m    \u001B[49m\u001B[43mhistory\u001B[49m\u001B[38;5;241;43m=\u001B[39;49m\u001B[43m[\u001B[49m\u001B[43m]\u001B[49m\u001B[43m,\u001B[49m\n\u001B[1;32m    919\u001B[0m \u001B[43m\u001B[49m\u001B[43m)\u001B[49m\n\u001B[1;32m    920\u001B[0m \u001B[38;5;28;01mtry\u001B[39;00m:\n\u001B[1;32m    921\u001B[0m     \u001B[38;5;28;01mif\u001B[39;00m \u001B[38;5;129;01mnot\u001B[39;00m stream:\n",
      "File \u001B[0;32m~/Programming/Hackathons/gagarin_hack/venv/lib/python3.11/site-packages/httpx/_client.py:942\u001B[0m, in \u001B[0;36mClient._send_handling_auth\u001B[0;34m(self, request, auth, follow_redirects, history)\u001B[0m\n\u001B[1;32m    939\u001B[0m request \u001B[38;5;241m=\u001B[39m \u001B[38;5;28mnext\u001B[39m(auth_flow)\n\u001B[1;32m    941\u001B[0m \u001B[38;5;28;01mwhile\u001B[39;00m \u001B[38;5;28;01mTrue\u001B[39;00m:\n\u001B[0;32m--> 942\u001B[0m     response \u001B[38;5;241m=\u001B[39m \u001B[38;5;28;43mself\u001B[39;49m\u001B[38;5;241;43m.\u001B[39;49m\u001B[43m_send_handling_redirects\u001B[49m\u001B[43m(\u001B[49m\n\u001B[1;32m    943\u001B[0m \u001B[43m        \u001B[49m\u001B[43mrequest\u001B[49m\u001B[43m,\u001B[49m\n\u001B[1;32m    944\u001B[0m \u001B[43m        \u001B[49m\u001B[43mfollow_redirects\u001B[49m\u001B[38;5;241;43m=\u001B[39;49m\u001B[43mfollow_redirects\u001B[49m\u001B[43m,\u001B[49m\n\u001B[1;32m    945\u001B[0m \u001B[43m        \u001B[49m\u001B[43mhistory\u001B[49m\u001B[38;5;241;43m=\u001B[39;49m\u001B[43mhistory\u001B[49m\u001B[43m,\u001B[49m\n\u001B[1;32m    946\u001B[0m \u001B[43m    \u001B[49m\u001B[43m)\u001B[49m\n\u001B[1;32m    947\u001B[0m     \u001B[38;5;28;01mtry\u001B[39;00m:\n\u001B[1;32m    948\u001B[0m         \u001B[38;5;28;01mtry\u001B[39;00m:\n",
      "File \u001B[0;32m~/Programming/Hackathons/gagarin_hack/venv/lib/python3.11/site-packages/httpx/_client.py:979\u001B[0m, in \u001B[0;36mClient._send_handling_redirects\u001B[0;34m(self, request, follow_redirects, history)\u001B[0m\n\u001B[1;32m    976\u001B[0m \u001B[38;5;28;01mfor\u001B[39;00m hook \u001B[38;5;129;01min\u001B[39;00m \u001B[38;5;28mself\u001B[39m\u001B[38;5;241m.\u001B[39m_event_hooks[\u001B[38;5;124m\"\u001B[39m\u001B[38;5;124mrequest\u001B[39m\u001B[38;5;124m\"\u001B[39m]:\n\u001B[1;32m    977\u001B[0m     hook(request)\n\u001B[0;32m--> 979\u001B[0m response \u001B[38;5;241m=\u001B[39m \u001B[38;5;28;43mself\u001B[39;49m\u001B[38;5;241;43m.\u001B[39;49m\u001B[43m_send_single_request\u001B[49m\u001B[43m(\u001B[49m\u001B[43mrequest\u001B[49m\u001B[43m)\u001B[49m\n\u001B[1;32m    980\u001B[0m \u001B[38;5;28;01mtry\u001B[39;00m:\n\u001B[1;32m    981\u001B[0m     \u001B[38;5;28;01mfor\u001B[39;00m hook \u001B[38;5;129;01min\u001B[39;00m \u001B[38;5;28mself\u001B[39m\u001B[38;5;241m.\u001B[39m_event_hooks[\u001B[38;5;124m\"\u001B[39m\u001B[38;5;124mresponse\u001B[39m\u001B[38;5;124m\"\u001B[39m]:\n",
      "File \u001B[0;32m~/Programming/Hackathons/gagarin_hack/venv/lib/python3.11/site-packages/httpx/_client.py:1015\u001B[0m, in \u001B[0;36mClient._send_single_request\u001B[0;34m(self, request)\u001B[0m\n\u001B[1;32m   1010\u001B[0m     \u001B[38;5;28;01mraise\u001B[39;00m \u001B[38;5;167;01mRuntimeError\u001B[39;00m(\n\u001B[1;32m   1011\u001B[0m         \u001B[38;5;124m\"\u001B[39m\u001B[38;5;124mAttempted to send an async request with a sync Client instance.\u001B[39m\u001B[38;5;124m\"\u001B[39m\n\u001B[1;32m   1012\u001B[0m     )\n\u001B[1;32m   1014\u001B[0m \u001B[38;5;28;01mwith\u001B[39;00m request_context(request\u001B[38;5;241m=\u001B[39mrequest):\n\u001B[0;32m-> 1015\u001B[0m     response \u001B[38;5;241m=\u001B[39m \u001B[43mtransport\u001B[49m\u001B[38;5;241;43m.\u001B[39;49m\u001B[43mhandle_request\u001B[49m\u001B[43m(\u001B[49m\u001B[43mrequest\u001B[49m\u001B[43m)\u001B[49m\n\u001B[1;32m   1017\u001B[0m \u001B[38;5;28;01massert\u001B[39;00m \u001B[38;5;28misinstance\u001B[39m(response\u001B[38;5;241m.\u001B[39mstream, SyncByteStream)\n\u001B[1;32m   1019\u001B[0m response\u001B[38;5;241m.\u001B[39mrequest \u001B[38;5;241m=\u001B[39m request\n",
      "File \u001B[0;32m~/Programming/Hackathons/gagarin_hack/venv/lib/python3.11/site-packages/httpx/_transports/default.py:233\u001B[0m, in \u001B[0;36mHTTPTransport.handle_request\u001B[0;34m(self, request)\u001B[0m\n\u001B[1;32m    220\u001B[0m req \u001B[38;5;241m=\u001B[39m httpcore\u001B[38;5;241m.\u001B[39mRequest(\n\u001B[1;32m    221\u001B[0m     method\u001B[38;5;241m=\u001B[39mrequest\u001B[38;5;241m.\u001B[39mmethod,\n\u001B[1;32m    222\u001B[0m     url\u001B[38;5;241m=\u001B[39mhttpcore\u001B[38;5;241m.\u001B[39mURL(\n\u001B[0;32m   (...)\u001B[0m\n\u001B[1;32m    230\u001B[0m     extensions\u001B[38;5;241m=\u001B[39mrequest\u001B[38;5;241m.\u001B[39mextensions,\n\u001B[1;32m    231\u001B[0m )\n\u001B[1;32m    232\u001B[0m \u001B[38;5;28;01mwith\u001B[39;00m map_httpcore_exceptions():\n\u001B[0;32m--> 233\u001B[0m     resp \u001B[38;5;241m=\u001B[39m \u001B[38;5;28;43mself\u001B[39;49m\u001B[38;5;241;43m.\u001B[39;49m\u001B[43m_pool\u001B[49m\u001B[38;5;241;43m.\u001B[39;49m\u001B[43mhandle_request\u001B[49m\u001B[43m(\u001B[49m\u001B[43mreq\u001B[49m\u001B[43m)\u001B[49m\n\u001B[1;32m    235\u001B[0m \u001B[38;5;28;01massert\u001B[39;00m \u001B[38;5;28misinstance\u001B[39m(resp\u001B[38;5;241m.\u001B[39mstream, typing\u001B[38;5;241m.\u001B[39mIterable)\n\u001B[1;32m    237\u001B[0m \u001B[38;5;28;01mreturn\u001B[39;00m Response(\n\u001B[1;32m    238\u001B[0m     status_code\u001B[38;5;241m=\u001B[39mresp\u001B[38;5;241m.\u001B[39mstatus,\n\u001B[1;32m    239\u001B[0m     headers\u001B[38;5;241m=\u001B[39mresp\u001B[38;5;241m.\u001B[39mheaders,\n\u001B[1;32m    240\u001B[0m     stream\u001B[38;5;241m=\u001B[39mResponseStream(resp\u001B[38;5;241m.\u001B[39mstream),\n\u001B[1;32m    241\u001B[0m     extensions\u001B[38;5;241m=\u001B[39mresp\u001B[38;5;241m.\u001B[39mextensions,\n\u001B[1;32m    242\u001B[0m )\n",
      "File \u001B[0;32m~/Programming/Hackathons/gagarin_hack/venv/lib/python3.11/site-packages/httpcore/_sync/connection_pool.py:216\u001B[0m, in \u001B[0;36mConnectionPool.handle_request\u001B[0;34m(self, request)\u001B[0m\n\u001B[1;32m    213\u001B[0m         closing \u001B[38;5;241m=\u001B[39m \u001B[38;5;28mself\u001B[39m\u001B[38;5;241m.\u001B[39m_assign_requests_to_connections()\n\u001B[1;32m    215\u001B[0m     \u001B[38;5;28mself\u001B[39m\u001B[38;5;241m.\u001B[39m_close_connections(closing)\n\u001B[0;32m--> 216\u001B[0m     \u001B[38;5;28;01mraise\u001B[39;00m exc \u001B[38;5;28;01mfrom\u001B[39;00m \u001B[38;5;28;01mNone\u001B[39;00m\n\u001B[1;32m    218\u001B[0m \u001B[38;5;66;03m# Return the response. Note that in this case we still have to manage\u001B[39;00m\n\u001B[1;32m    219\u001B[0m \u001B[38;5;66;03m# the point at which the response is closed.\u001B[39;00m\n\u001B[1;32m    220\u001B[0m \u001B[38;5;28;01massert\u001B[39;00m \u001B[38;5;28misinstance\u001B[39m(response\u001B[38;5;241m.\u001B[39mstream, Iterable)\n",
      "File \u001B[0;32m~/Programming/Hackathons/gagarin_hack/venv/lib/python3.11/site-packages/httpcore/_sync/connection_pool.py:196\u001B[0m, in \u001B[0;36mConnectionPool.handle_request\u001B[0;34m(self, request)\u001B[0m\n\u001B[1;32m    192\u001B[0m connection \u001B[38;5;241m=\u001B[39m pool_request\u001B[38;5;241m.\u001B[39mwait_for_connection(timeout\u001B[38;5;241m=\u001B[39mtimeout)\n\u001B[1;32m    194\u001B[0m \u001B[38;5;28;01mtry\u001B[39;00m:\n\u001B[1;32m    195\u001B[0m     \u001B[38;5;66;03m# Send the request on the assigned connection.\u001B[39;00m\n\u001B[0;32m--> 196\u001B[0m     response \u001B[38;5;241m=\u001B[39m \u001B[43mconnection\u001B[49m\u001B[38;5;241;43m.\u001B[39;49m\u001B[43mhandle_request\u001B[49m\u001B[43m(\u001B[49m\n\u001B[1;32m    197\u001B[0m \u001B[43m        \u001B[49m\u001B[43mpool_request\u001B[49m\u001B[38;5;241;43m.\u001B[39;49m\u001B[43mrequest\u001B[49m\n\u001B[1;32m    198\u001B[0m \u001B[43m    \u001B[49m\u001B[43m)\u001B[49m\n\u001B[1;32m    199\u001B[0m \u001B[38;5;28;01mexcept\u001B[39;00m ConnectionNotAvailable:\n\u001B[1;32m    200\u001B[0m     \u001B[38;5;66;03m# In some cases a connection may initially be available to\u001B[39;00m\n\u001B[1;32m    201\u001B[0m     \u001B[38;5;66;03m# handle a request, but then become unavailable.\u001B[39;00m\n\u001B[1;32m    202\u001B[0m     \u001B[38;5;66;03m#\u001B[39;00m\n\u001B[1;32m    203\u001B[0m     \u001B[38;5;66;03m# In this case we clear the connection and try again.\u001B[39;00m\n\u001B[1;32m    204\u001B[0m     pool_request\u001B[38;5;241m.\u001B[39mclear_connection()\n",
      "File \u001B[0;32m~/Programming/Hackathons/gagarin_hack/venv/lib/python3.11/site-packages/httpcore/_sync/connection.py:101\u001B[0m, in \u001B[0;36mHTTPConnection.handle_request\u001B[0;34m(self, request)\u001B[0m\n\u001B[1;32m     98\u001B[0m     \u001B[38;5;28mself\u001B[39m\u001B[38;5;241m.\u001B[39m_connect_failed \u001B[38;5;241m=\u001B[39m \u001B[38;5;28;01mTrue\u001B[39;00m\n\u001B[1;32m     99\u001B[0m     \u001B[38;5;28;01mraise\u001B[39;00m exc\n\u001B[0;32m--> 101\u001B[0m \u001B[38;5;28;01mreturn\u001B[39;00m \u001B[38;5;28;43mself\u001B[39;49m\u001B[38;5;241;43m.\u001B[39;49m\u001B[43m_connection\u001B[49m\u001B[38;5;241;43m.\u001B[39;49m\u001B[43mhandle_request\u001B[49m\u001B[43m(\u001B[49m\u001B[43mrequest\u001B[49m\u001B[43m)\u001B[49m\n",
      "File \u001B[0;32m~/Programming/Hackathons/gagarin_hack/venv/lib/python3.11/site-packages/httpcore/_sync/http11.py:143\u001B[0m, in \u001B[0;36mHTTP11Connection.handle_request\u001B[0;34m(self, request)\u001B[0m\n\u001B[1;32m    141\u001B[0m     \u001B[38;5;28;01mwith\u001B[39;00m Trace(\u001B[38;5;124m\"\u001B[39m\u001B[38;5;124mresponse_closed\u001B[39m\u001B[38;5;124m\"\u001B[39m, logger, request) \u001B[38;5;28;01mas\u001B[39;00m trace:\n\u001B[1;32m    142\u001B[0m         \u001B[38;5;28mself\u001B[39m\u001B[38;5;241m.\u001B[39m_response_closed()\n\u001B[0;32m--> 143\u001B[0m \u001B[38;5;28;01mraise\u001B[39;00m exc\n",
      "File \u001B[0;32m~/Programming/Hackathons/gagarin_hack/venv/lib/python3.11/site-packages/httpcore/_sync/http11.py:113\u001B[0m, in \u001B[0;36mHTTP11Connection.handle_request\u001B[0;34m(self, request)\u001B[0m\n\u001B[1;32m    102\u001B[0m     \u001B[38;5;28;01mpass\u001B[39;00m\n\u001B[1;32m    104\u001B[0m \u001B[38;5;28;01mwith\u001B[39;00m Trace(\n\u001B[1;32m    105\u001B[0m     \u001B[38;5;124m\"\u001B[39m\u001B[38;5;124mreceive_response_headers\u001B[39m\u001B[38;5;124m\"\u001B[39m, logger, request, kwargs\n\u001B[1;32m    106\u001B[0m ) \u001B[38;5;28;01mas\u001B[39;00m trace:\n\u001B[1;32m    107\u001B[0m     (\n\u001B[1;32m    108\u001B[0m         http_version,\n\u001B[1;32m    109\u001B[0m         status,\n\u001B[1;32m    110\u001B[0m         reason_phrase,\n\u001B[1;32m    111\u001B[0m         headers,\n\u001B[1;32m    112\u001B[0m         trailing_data,\n\u001B[0;32m--> 113\u001B[0m     ) \u001B[38;5;241m=\u001B[39m \u001B[38;5;28;43mself\u001B[39;49m\u001B[38;5;241;43m.\u001B[39;49m\u001B[43m_receive_response_headers\u001B[49m\u001B[43m(\u001B[49m\u001B[38;5;241;43m*\u001B[39;49m\u001B[38;5;241;43m*\u001B[39;49m\u001B[43mkwargs\u001B[49m\u001B[43m)\u001B[49m\n\u001B[1;32m    114\u001B[0m     trace\u001B[38;5;241m.\u001B[39mreturn_value \u001B[38;5;241m=\u001B[39m (\n\u001B[1;32m    115\u001B[0m         http_version,\n\u001B[1;32m    116\u001B[0m         status,\n\u001B[1;32m    117\u001B[0m         reason_phrase,\n\u001B[1;32m    118\u001B[0m         headers,\n\u001B[1;32m    119\u001B[0m     )\n\u001B[1;32m    121\u001B[0m network_stream \u001B[38;5;241m=\u001B[39m \u001B[38;5;28mself\u001B[39m\u001B[38;5;241m.\u001B[39m_network_stream\n",
      "File \u001B[0;32m~/Programming/Hackathons/gagarin_hack/venv/lib/python3.11/site-packages/httpcore/_sync/http11.py:186\u001B[0m, in \u001B[0;36mHTTP11Connection._receive_response_headers\u001B[0;34m(self, request)\u001B[0m\n\u001B[1;32m    183\u001B[0m timeout \u001B[38;5;241m=\u001B[39m timeouts\u001B[38;5;241m.\u001B[39mget(\u001B[38;5;124m\"\u001B[39m\u001B[38;5;124mread\u001B[39m\u001B[38;5;124m\"\u001B[39m, \u001B[38;5;28;01mNone\u001B[39;00m)\n\u001B[1;32m    185\u001B[0m \u001B[38;5;28;01mwhile\u001B[39;00m \u001B[38;5;28;01mTrue\u001B[39;00m:\n\u001B[0;32m--> 186\u001B[0m     event \u001B[38;5;241m=\u001B[39m \u001B[38;5;28;43mself\u001B[39;49m\u001B[38;5;241;43m.\u001B[39;49m\u001B[43m_receive_event\u001B[49m\u001B[43m(\u001B[49m\u001B[43mtimeout\u001B[49m\u001B[38;5;241;43m=\u001B[39;49m\u001B[43mtimeout\u001B[49m\u001B[43m)\u001B[49m\n\u001B[1;32m    187\u001B[0m     \u001B[38;5;28;01mif\u001B[39;00m \u001B[38;5;28misinstance\u001B[39m(event, h11\u001B[38;5;241m.\u001B[39mResponse):\n\u001B[1;32m    188\u001B[0m         \u001B[38;5;28;01mbreak\u001B[39;00m\n",
      "File \u001B[0;32m~/Programming/Hackathons/gagarin_hack/venv/lib/python3.11/site-packages/httpcore/_sync/http11.py:224\u001B[0m, in \u001B[0;36mHTTP11Connection._receive_event\u001B[0;34m(self, timeout)\u001B[0m\n\u001B[1;32m    221\u001B[0m     event \u001B[38;5;241m=\u001B[39m \u001B[38;5;28mself\u001B[39m\u001B[38;5;241m.\u001B[39m_h11_state\u001B[38;5;241m.\u001B[39mnext_event()\n\u001B[1;32m    223\u001B[0m \u001B[38;5;28;01mif\u001B[39;00m event \u001B[38;5;129;01mis\u001B[39;00m h11\u001B[38;5;241m.\u001B[39mNEED_DATA:\n\u001B[0;32m--> 224\u001B[0m     data \u001B[38;5;241m=\u001B[39m \u001B[38;5;28;43mself\u001B[39;49m\u001B[38;5;241;43m.\u001B[39;49m\u001B[43m_network_stream\u001B[49m\u001B[38;5;241;43m.\u001B[39;49m\u001B[43mread\u001B[49m\u001B[43m(\u001B[49m\n\u001B[1;32m    225\u001B[0m \u001B[43m        \u001B[49m\u001B[38;5;28;43mself\u001B[39;49m\u001B[38;5;241;43m.\u001B[39;49m\u001B[43mREAD_NUM_BYTES\u001B[49m\u001B[43m,\u001B[49m\u001B[43m \u001B[49m\u001B[43mtimeout\u001B[49m\u001B[38;5;241;43m=\u001B[39;49m\u001B[43mtimeout\u001B[49m\n\u001B[1;32m    226\u001B[0m \u001B[43m    \u001B[49m\u001B[43m)\u001B[49m\n\u001B[1;32m    228\u001B[0m     \u001B[38;5;66;03m# If we feed this case through h11 we'll raise an exception like:\u001B[39;00m\n\u001B[1;32m    229\u001B[0m     \u001B[38;5;66;03m#\u001B[39;00m\n\u001B[1;32m    230\u001B[0m     \u001B[38;5;66;03m#     httpcore.RemoteProtocolError: can't handle event type\u001B[39;00m\n\u001B[0;32m   (...)\u001B[0m\n\u001B[1;32m    234\u001B[0m     \u001B[38;5;66;03m# perspective. Instead we handle this case distinctly and treat\u001B[39;00m\n\u001B[1;32m    235\u001B[0m     \u001B[38;5;66;03m# it as a ConnectError.\u001B[39;00m\n\u001B[1;32m    236\u001B[0m     \u001B[38;5;28;01mif\u001B[39;00m data \u001B[38;5;241m==\u001B[39m \u001B[38;5;124mb\u001B[39m\u001B[38;5;124m\"\u001B[39m\u001B[38;5;124m\"\u001B[39m \u001B[38;5;129;01mand\u001B[39;00m \u001B[38;5;28mself\u001B[39m\u001B[38;5;241m.\u001B[39m_h11_state\u001B[38;5;241m.\u001B[39mtheir_state \u001B[38;5;241m==\u001B[39m h11\u001B[38;5;241m.\u001B[39mSEND_RESPONSE:\n",
      "File \u001B[0;32m~/Programming/Hackathons/gagarin_hack/venv/lib/python3.11/site-packages/httpcore/_backends/sync.py:126\u001B[0m, in \u001B[0;36mSyncStream.read\u001B[0;34m(self, max_bytes, timeout)\u001B[0m\n\u001B[1;32m    124\u001B[0m \u001B[38;5;28;01mwith\u001B[39;00m map_exceptions(exc_map):\n\u001B[1;32m    125\u001B[0m     \u001B[38;5;28mself\u001B[39m\u001B[38;5;241m.\u001B[39m_sock\u001B[38;5;241m.\u001B[39msettimeout(timeout)\n\u001B[0;32m--> 126\u001B[0m     \u001B[38;5;28;01mreturn\u001B[39;00m \u001B[38;5;28;43mself\u001B[39;49m\u001B[38;5;241;43m.\u001B[39;49m\u001B[43m_sock\u001B[49m\u001B[38;5;241;43m.\u001B[39;49m\u001B[43mrecv\u001B[49m\u001B[43m(\u001B[49m\u001B[43mmax_bytes\u001B[49m\u001B[43m)\u001B[49m\n",
      "File \u001B[0;32m/usr/lib/python3.11/ssl.py:1295\u001B[0m, in \u001B[0;36mSSLSocket.recv\u001B[0;34m(self, buflen, flags)\u001B[0m\n\u001B[1;32m   1291\u001B[0m     \u001B[38;5;28;01mif\u001B[39;00m flags \u001B[38;5;241m!=\u001B[39m \u001B[38;5;241m0\u001B[39m:\n\u001B[1;32m   1292\u001B[0m         \u001B[38;5;28;01mraise\u001B[39;00m \u001B[38;5;167;01mValueError\u001B[39;00m(\n\u001B[1;32m   1293\u001B[0m             \u001B[38;5;124m\"\u001B[39m\u001B[38;5;124mnon-zero flags not allowed in calls to recv() on \u001B[39m\u001B[38;5;132;01m%s\u001B[39;00m\u001B[38;5;124m\"\u001B[39m \u001B[38;5;241m%\u001B[39m\n\u001B[1;32m   1294\u001B[0m             \u001B[38;5;28mself\u001B[39m\u001B[38;5;241m.\u001B[39m\u001B[38;5;18m__class__\u001B[39m)\n\u001B[0;32m-> 1295\u001B[0m     \u001B[38;5;28;01mreturn\u001B[39;00m \u001B[38;5;28;43mself\u001B[39;49m\u001B[38;5;241;43m.\u001B[39;49m\u001B[43mread\u001B[49m\u001B[43m(\u001B[49m\u001B[43mbuflen\u001B[49m\u001B[43m)\u001B[49m\n\u001B[1;32m   1296\u001B[0m \u001B[38;5;28;01melse\u001B[39;00m:\n\u001B[1;32m   1297\u001B[0m     \u001B[38;5;28;01mreturn\u001B[39;00m \u001B[38;5;28msuper\u001B[39m()\u001B[38;5;241m.\u001B[39mrecv(buflen, flags)\n",
      "File \u001B[0;32m/usr/lib/python3.11/ssl.py:1168\u001B[0m, in \u001B[0;36mSSLSocket.read\u001B[0;34m(self, len, buffer)\u001B[0m\n\u001B[1;32m   1166\u001B[0m         \u001B[38;5;28;01mreturn\u001B[39;00m \u001B[38;5;28mself\u001B[39m\u001B[38;5;241m.\u001B[39m_sslobj\u001B[38;5;241m.\u001B[39mread(\u001B[38;5;28mlen\u001B[39m, buffer)\n\u001B[1;32m   1167\u001B[0m     \u001B[38;5;28;01melse\u001B[39;00m:\n\u001B[0;32m-> 1168\u001B[0m         \u001B[38;5;28;01mreturn\u001B[39;00m \u001B[38;5;28;43mself\u001B[39;49m\u001B[38;5;241;43m.\u001B[39;49m\u001B[43m_sslobj\u001B[49m\u001B[38;5;241;43m.\u001B[39;49m\u001B[43mread\u001B[49m\u001B[43m(\u001B[49m\u001B[38;5;28;43mlen\u001B[39;49m\u001B[43m)\u001B[49m\n\u001B[1;32m   1169\u001B[0m \u001B[38;5;28;01mexcept\u001B[39;00m SSLError \u001B[38;5;28;01mas\u001B[39;00m x:\n\u001B[1;32m   1170\u001B[0m     \u001B[38;5;28;01mif\u001B[39;00m x\u001B[38;5;241m.\u001B[39margs[\u001B[38;5;241m0\u001B[39m] \u001B[38;5;241m==\u001B[39m SSL_ERROR_EOF \u001B[38;5;129;01mand\u001B[39;00m \u001B[38;5;28mself\u001B[39m\u001B[38;5;241m.\u001B[39msuppress_ragged_eofs:\n",
      "\u001B[0;31mKeyboardInterrupt\u001B[0m: "
     ]
    }
   ],
   "execution_count": 27
  }
 ],
 "metadata": {
  "kernelspec": {
   "display_name": "Python 3",
   "language": "python",
   "name": "python3"
  },
  "language_info": {
   "codemirror_mode": {
    "name": "ipython",
    "version": 2
   },
   "file_extension": ".py",
   "mimetype": "text/x-python",
   "name": "python",
   "nbconvert_exporter": "python",
   "pygments_lexer": "ipython2",
   "version": "2.7.6"
  }
 },
 "nbformat": 4,
 "nbformat_minor": 5
}
