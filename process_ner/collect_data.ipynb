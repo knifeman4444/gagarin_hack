{
 "cells": [
  {
   "cell_type": "code",
   "id": "initial_id",
   "metadata": {
    "collapsed": true,
    "ExecuteTime": {
     "end_time": "2024-04-14T04:51:26.275406Z",
     "start_time": "2024-04-14T04:51:21.178037Z"
    }
   },
   "source": [
    "import os\n",
    "os.environ['HACK_DATA_PATH'] = '../data/sentiment_dataset'\n",
    "\n",
    "from ChatGPTRequestManager import RequestManager\n",
    "import numpy as np\n",
    "import pandas as pd\n",
    "import final_solution"
   ],
   "outputs": [],
   "execution_count": 1
  },
  {
   "metadata": {
    "ExecuteTime": {
     "end_time": "2024-04-14T04:51:26.402641Z",
     "start_time": "2024-04-14T04:51:26.277157Z"
    }
   },
   "cell_type": "code",
   "source": [
    "generated_dataset = pd.DataFrame(columns=['text', 'entity_idx', 'start_pos', 'end_pos', 'score'])\n",
    "if not os.path.exists('generated_dataset.csv'):\n",
    "    generated_dataset.to_csv('generated_dataset.csv', index=False)\n",
    "else:\n",
    "    generated_dataset = pd.read_csv('generated_dataset.csv')"
   ],
   "id": "f176f4870ecf62e4",
   "outputs": [],
   "execution_count": 2
  },
  {
   "metadata": {
    "ExecuteTime": {
     "end_time": "2024-04-14T04:51:41.813682Z",
     "start_time": "2024-04-14T04:51:40.936209Z"
    }
   },
   "cell_type": "code",
   "source": [
    "manager = RequestManager()\n",
    "\n",
    "def get_scores(text: str, entities: list):\n",
    "    prompt = text + '\\n' + 'Компании: '\n",
    "    used = set()\n",
    "    names = {}\n",
    "    for eid, (start_pos, end_pos) in entities:\n",
    "        if eid in used:\n",
    "            continue\n",
    "        used.add(eid)\n",
    "        name = text[start_pos:end_pos + 1]\n",
    "        prompt += name + ', '\n",
    "        names[name] = eid\n",
    "        names[eid] = name\n",
    "        \n",
    "    prompt = prompt[:-2]\n",
    "    print(f\"Request of length {len(prompt)}\")\n",
    "    response = manager.write_one_message_with_role(prompt, model='gpt-3.5-turbo').split('\\n')\n",
    "    \n",
    "    sentiments = {}\n",
    "    for i in range(len(response)):\n",
    "        name = response[i].split(':')[0]\n",
    "        sentiment = response[i].split(':')[1]\n",
    "        \n",
    "        try:\n",
    "            eid = names[name.strip()]\n",
    "            sentiments[eid] = int(sentiment.strip())\n",
    "        except:\n",
    "            continue\n",
    "            \n",
    "    return [sentiments.get(eid, 0) for eid, (_, _) in entities]\n",
    "        \n",
    "        \n",
    "get_scores('Apple упал', [(1, (0, 4))])\n",
    "        "
   ],
   "id": "8eb2997c9e8e434d",
   "outputs": [
    {
     "name": "stdout",
     "output_type": "stream",
     "text": [
      "Request of length 26\n"
     ]
    },
    {
     "data": {
      "text/plain": [
       "[1]"
      ]
     },
     "execution_count": 5,
     "metadata": {},
     "output_type": "execute_result"
    }
   ],
   "execution_count": 5
  },
  {
   "metadata": {
    "ExecuteTime": {
     "end_time": "2024-04-14T04:58:05.585135Z",
     "start_time": "2024-04-14T04:51:45.801816Z"
    }
   },
   "cell_type": "code",
   "source": [
    "from tqdm import tqdm\n",
    "\n",
    "for filename in os.listdir('../download/data_large'):\n",
    "    if filename.endswith('.csv'):\n",
    "        print(f'Processing {filename}')\n",
    "        df = pd.read_csv(f'../download/data_large/{filename}')\n",
    "        if df.shape[0] > 1000:\n",
    "            df = df.sample(20)\n",
    "    else:\n",
    "        continue\n",
    "        \n",
    "    texts = df['text'].dropna().values.tolist()\n",
    "    all_entities = final_solution.baseline.find_entities(texts)\n",
    "    \n",
    "    for text, entities in zip(texts, all_entities):\n",
    "        if len(entities) == 0:\n",
    "            continue\n",
    "        \n",
    "        scores = get_scores(text, entities)\n",
    "        \n",
    "        for i, (eid, (start_pos, end_pos)) in enumerate(entities):\n",
    "            if scores[i] not in [1, 2, 3, 4, 5]:\n",
    "                continue\n",
    "            generated_dataset = pd.concat([\n",
    "                generated_dataset,\n",
    "                pd.DataFrame([[text, eid, start_pos, end_pos, scores[i]]], columns=['text', 'entity_idx', 'start_pos', 'end_pos', 'score'])\n",
    "            ])\n",
    "            generated_dataset.to_csv('generated_dataset.csv', index=False)\n",
    "                    \n",
    "    "
   ],
   "id": "6ff1e426cce8cd19",
   "outputs": [
    {
     "name": "stdout",
     "output_type": "stream",
     "text": [
      "Processing if_stocks.csv\n"
     ]
    },
    {
     "name": "stderr",
     "output_type": "stream",
     "text": [
      "100%|██████████| 19/19 [00:00<00:00, 52.81it/s]\n"
     ]
    },
    {
     "name": "stdout",
     "output_type": "stream",
     "text": [
      "Request of length 836\n",
      "Request of length 86\n",
      "Request of length 806\n",
      "Request of length 1809\n",
      "Request of length 1598\n",
      "Request of length 834\n",
      "Request of length 948\n",
      "Request of length 929\n",
      "Request of length 828\n",
      "Request of length 969\n",
      "Request of length 726\n",
      "Request of length 1472\n",
      "Request of length 924\n",
      "Processing investheroes.csv\n"
     ]
    },
    {
     "name": "stderr",
     "output_type": "stream",
     "text": [
      "100%|██████████| 19/19 [00:00<00:00, 53.37it/s]\n"
     ]
    },
    {
     "name": "stdout",
     "output_type": "stream",
     "text": [
      "Request of length 1285\n",
      "Request of length 1037\n",
      "Request of length 381\n",
      "Request of length 483\n",
      "Request of length 3000\n",
      "Request of length 1700\n",
      "Request of length 254\n",
      "Request of length 1216\n",
      "Request of length 548\n",
      "Request of length 2405\n",
      "Request of length 3038\n",
      "Processing divonline.csv\n"
     ]
    },
    {
     "name": "stderr",
     "output_type": "stream",
     "text": [
      "100%|██████████| 19/19 [00:00<00:00, 109.19it/s]\n"
     ]
    },
    {
     "name": "stdout",
     "output_type": "stream",
     "text": [
      "Request of length 337\n",
      "Request of length 137\n",
      "Request of length 492\n",
      "Request of length 243\n",
      "Request of length 279\n",
      "Request of length 257\n",
      "Request of length 230\n",
      "Request of length 101\n",
      "Request of length 141\n",
      "Request of length 233\n",
      "Request of length 590\n",
      "Request of length 736\n",
      "Request of length 111\n",
      "Request of length 565\n",
      "Request of length 215\n",
      "Request of length 316\n",
      "Request of length 145\n",
      "Request of length 2032\n",
      "Processing SberInvestments.csv\n"
     ]
    },
    {
     "name": "stderr",
     "output_type": "stream",
     "text": [
      "100%|██████████| 20/20 [00:00<00:00, 50.12it/s]\n"
     ]
    },
    {
     "name": "stdout",
     "output_type": "stream",
     "text": [
      "Request of length 492\n",
      "Request of length 3024\n",
      "Request of length 1905\n",
      "Request of length 3249\n",
      "Request of length 1490\n",
      "Request of length 1409\n",
      "Request of length 2170\n",
      "Request of length 1089\n",
      "Request of length 1246\n",
      "Request of length 877\n",
      "Request of length 1716\n",
      "Request of length 674\n",
      "Request of length 3312\n",
      "Request of length 1854\n",
      "Request of length 1906\n",
      "Request of length 961\n",
      "Processing smartlabnews.csv\n"
     ]
    },
    {
     "name": "stderr",
     "output_type": "stream",
     "text": [
      "100%|██████████| 19/19 [00:00<00:00, 73.04it/s]\n"
     ]
    },
    {
     "name": "stdout",
     "output_type": "stream",
     "text": [
      "Request of length 1273\n",
      "Request of length 1096\n",
      "Request of length 1030\n",
      "Request of length 451\n",
      "Request of length 415\n",
      "Request of length 2187\n",
      "Request of length 1614\n",
      "Request of length 600\n",
      "Request of length 1854\n",
      "Request of length 853\n",
      "Request of length 1355\n",
      "Processing cbrstocks.csv\n"
     ]
    },
    {
     "name": "stderr",
     "output_type": "stream",
     "text": [
      "100%|██████████| 18/18 [00:00<00:00, 375.37it/s]\n"
     ]
    },
    {
     "name": "stdout",
     "output_type": "stream",
     "text": [
      "Request of length 257\n",
      "Request of length 139\n",
      "Request of length 336\n",
      "Request of length 129\n",
      "Request of length 214\n",
      "Request of length 198\n",
      "Request of length 97\n",
      "Request of length 153\n",
      "Request of length 115\n",
      "Request of length 420\n",
      "Request of length 209\n",
      "Request of length 279\n",
      "Processing CriminalMSE.csv\n"
     ]
    },
    {
     "name": "stderr",
     "output_type": "stream",
     "text": [
      "100%|██████████| 17/17 [00:00<00:00, 86.23it/s]\n"
     ]
    },
    {
     "name": "stdout",
     "output_type": "stream",
     "text": [
      "Request of length 316\n",
      "Request of length 556\n",
      "Request of length 61\n",
      "Request of length 1810\n",
      "Request of length 1061\n",
      "Request of length 698\n",
      "Request of length 1259\n",
      "Request of length 1177\n",
      "Request of length 1021\n",
      "Request of length 242\n",
      "Processing lemonfortea.csv\n"
     ]
    },
    {
     "name": "stderr",
     "output_type": "stream",
     "text": [
      "100%|██████████| 20/20 [00:00<00:00, 56.95it/s]\n"
     ]
    },
    {
     "name": "stdout",
     "output_type": "stream",
     "text": [
      "Request of length 1818\n",
      "Request of length 308\n",
      "Request of length 1402\n",
      "Request of length 1670\n",
      "Request of length 1670\n",
      "Request of length 1484\n",
      "Request of length 2181\n",
      "Request of length 790\n",
      "Processing markettwits.csv\n"
     ]
    },
    {
     "name": "stderr",
     "output_type": "stream",
     "text": [
      "100%|██████████| 20/20 [00:00<00:00, 377.94it/s]"
     ]
    },
    {
     "name": "stdout",
     "output_type": "stream",
     "text": [
      "Request of length 1226\n"
     ]
    },
    {
     "name": "stderr",
     "output_type": "stream",
     "text": [
      "\n"
     ]
    },
    {
     "name": "stdout",
     "output_type": "stream",
     "text": [
      "Request of length 159\n",
      "Request of length 170\n",
      "Request of length 117\n",
      "Request of length 138\n",
      "Processing AK47pfl.csv\n"
     ]
    },
    {
     "name": "stderr",
     "output_type": "stream",
     "text": [
      "100%|██████████| 20/20 [00:00<00:00, 176.78it/s]\n"
     ]
    },
    {
     "name": "stdout",
     "output_type": "stream",
     "text": [
      "Request of length 111\n",
      "Request of length 494\n",
      "Request of length 406\n",
      "Request of length 784\n",
      "Request of length 385\n",
      "Request of length 634\n",
      "Request of length 677\n",
      "Request of length 832\n",
      "Request of length 344\n",
      "Processing MarketOverview.csv\n"
     ]
    },
    {
     "name": "stderr",
     "output_type": "stream",
     "text": [
      "100%|██████████| 17/17 [00:00<00:00, 55.77it/s]\n"
     ]
    },
    {
     "name": "stdout",
     "output_type": "stream",
     "text": [
      "Request of length 782\n",
      "Request of length 1825\n",
      "Request of length 549\n",
      "Request of length 2288\n",
      "Request of length 397\n",
      "Request of length 2359\n",
      "Request of length 999\n",
      "Request of length 2209\n",
      "Request of length 2953\n",
      "Processing inmoex.csv\n"
     ]
    },
    {
     "name": "stderr",
     "output_type": "stream",
     "text": [
      "100%|██████████| 20/20 [00:00<00:00, 262.55it/s]"
     ]
    },
    {
     "name": "stdout",
     "output_type": "stream",
     "text": [
      "Request of length 235\n"
     ]
    },
    {
     "name": "stderr",
     "output_type": "stream",
     "text": [
      "\n"
     ]
    },
    {
     "name": "stdout",
     "output_type": "stream",
     "text": [
      "Request of length 249\n",
      "Request of length 218\n",
      "Request of length 249\n",
      "Request of length 118\n",
      "Request of length 391\n",
      "Request of length 301\n",
      "Request of length 75\n",
      "Request of length 181\n",
      "Request of length 350\n",
      "Request of length 133\n",
      "Request of length 105\n",
      "Request of length 84\n",
      "Request of length 98\n",
      "Request of length 413\n",
      "Request of length 170\n",
      "Request of length 97\n",
      "Request of length 388\n",
      "Request of length 590\n",
      "Processing karaulny_accountant.csv\n"
     ]
    },
    {
     "name": "stderr",
     "output_type": "stream",
     "text": [
      "100%|██████████| 17/17 [00:00<00:00, 120.14it/s]\n"
     ]
    },
    {
     "name": "stdout",
     "output_type": "stream",
     "text": [
      "Request of length 403\n",
      "Request of length 130\n",
      "Processing signals_moex.csv\n"
     ]
    },
    {
     "name": "stderr",
     "output_type": "stream",
     "text": [
      "100%|██████████| 20/20 [00:00<00:00, 279.99it/s]"
     ]
    },
    {
     "name": "stdout",
     "output_type": "stream",
     "text": [
      "Request of length 504\n"
     ]
    },
    {
     "name": "stderr",
     "output_type": "stream",
     "text": [
      "\n"
     ]
    },
    {
     "name": "stdout",
     "output_type": "stream",
     "text": [
      "Request of length 388\n",
      "Request of length 488\n",
      "Request of length 526\n",
      "Request of length 98\n",
      "Request of length 132\n",
      "Request of length 61\n",
      "Request of length 156\n",
      "Request of length 349\n",
      "Request of length 320\n",
      "Request of length 61\n",
      "Request of length 61\n",
      "Request of length 381\n",
      "Request of length 61\n",
      "Request of length 469\n",
      "Request of length 63\n",
      "Request of length 596\n",
      "Request of length 108\n",
      "Request of length 524\n",
      "Request of length 369\n",
      "Processing omyinvestments.csv\n"
     ]
    },
    {
     "name": "stderr",
     "output_type": "stream",
     "text": [
      "100%|██████████| 19/19 [00:00<00:00, 47.47it/s]\n"
     ]
    },
    {
     "name": "stdout",
     "output_type": "stream",
     "text": [
      "Request of length 1655\n",
      "Request of length 1493\n",
      "Request of length 1120\n",
      "Request of length 1234\n",
      "Request of length 1978\n",
      "Request of length 1342\n",
      "Request of length 1492\n",
      "Request of length 832\n",
      "Request of length 1642\n",
      "Request of length 1824\n",
      "Request of length 1387\n",
      "Request of length 1458\n",
      "Request of length 2519\n",
      "Request of length 981\n",
      "Request of length 1455\n",
      "Processing blogbankir.csv\n"
     ]
    },
    {
     "name": "stderr",
     "output_type": "stream",
     "text": [
      "100%|██████████| 19/19 [00:00<00:00, 80.21it/s] \n"
     ]
    },
    {
     "name": "stdout",
     "output_type": "stream",
     "text": [
      "Request of length 1357\n",
      "Request of length 65\n",
      "Request of length 581\n",
      "Request of length 775\n",
      "Request of length 461\n",
      "Request of length 817\n",
      "Request of length 1640\n",
      "Request of length 567\n",
      "Request of length 1934\n",
      "Processing alfa_investments.csv\n"
     ]
    },
    {
     "name": "stderr",
     "output_type": "stream",
     "text": [
      "100%|██████████| 13/13 [00:00<00:00, 68.84it/s]\n"
     ]
    },
    {
     "name": "stdout",
     "output_type": "stream",
     "text": [
      "Request of length 1698\n",
      "Request of length 1446\n",
      "Request of length 848\n",
      "Request of length 765\n",
      "Request of length 1109\n",
      "Request of length 1674\n",
      "Request of length 1451\n",
      "Processing Vlad_pro_dengi.csv\n"
     ]
    },
    {
     "name": "stderr",
     "output_type": "stream",
     "text": [
      "100%|██████████| 652/652 [00:19<00:00, 33.64it/s]\n"
     ]
    },
    {
     "name": "stdout",
     "output_type": "stream",
     "text": [
      "Request of length 1788\n",
      "Request of length 1787\n",
      "Request of length 2419\n",
      "Request of length 1699\n",
      "Request of length 2144\n",
      "Request of length 3074\n",
      "Request of length 3814\n",
      "Request of length 1051\n",
      "Request of length 2174\n",
      "Request of length 3621\n",
      "Request of length 2092\n"
     ]
    },
    {
     "ename": "KeyboardInterrupt",
     "evalue": "",
     "output_type": "error",
     "traceback": [
      "\u001B[0;31m---------------------------------------------------------------------------\u001B[0m",
      "\u001B[0;31mKeyboardInterrupt\u001B[0m                         Traceback (most recent call last)",
      "Cell \u001B[0;32mIn[6], line 28\u001B[0m\n\u001B[1;32m     23\u001B[0m     \u001B[38;5;28;01mcontinue\u001B[39;00m\n\u001B[1;32m     24\u001B[0m generated_dataset \u001B[38;5;241m=\u001B[39m pd\u001B[38;5;241m.\u001B[39mconcat([\n\u001B[1;32m     25\u001B[0m     generated_dataset,\n\u001B[1;32m     26\u001B[0m     pd\u001B[38;5;241m.\u001B[39mDataFrame([[text, eid, start_pos, end_pos, scores[i]]], columns\u001B[38;5;241m=\u001B[39m[\u001B[38;5;124m'\u001B[39m\u001B[38;5;124mtext\u001B[39m\u001B[38;5;124m'\u001B[39m, \u001B[38;5;124m'\u001B[39m\u001B[38;5;124mentity_idx\u001B[39m\u001B[38;5;124m'\u001B[39m, \u001B[38;5;124m'\u001B[39m\u001B[38;5;124mstart_pos\u001B[39m\u001B[38;5;124m'\u001B[39m, \u001B[38;5;124m'\u001B[39m\u001B[38;5;124mend_pos\u001B[39m\u001B[38;5;124m'\u001B[39m, \u001B[38;5;124m'\u001B[39m\u001B[38;5;124mscore\u001B[39m\u001B[38;5;124m'\u001B[39m])\n\u001B[1;32m     27\u001B[0m ])\n\u001B[0;32m---> 28\u001B[0m \u001B[43mgenerated_dataset\u001B[49m\u001B[38;5;241;43m.\u001B[39;49m\u001B[43mto_csv\u001B[49m\u001B[43m(\u001B[49m\u001B[38;5;124;43m'\u001B[39;49m\u001B[38;5;124;43mgenerated_dataset.csv\u001B[39;49m\u001B[38;5;124;43m'\u001B[39;49m\u001B[43m,\u001B[49m\u001B[43m \u001B[49m\u001B[43mindex\u001B[49m\u001B[38;5;241;43m=\u001B[39;49m\u001B[38;5;28;43;01mFalse\u001B[39;49;00m\u001B[43m)\u001B[49m\n",
      "File \u001B[0;32m~/Programming/Hackathons/gagarin_hack/venv/lib/python3.11/site-packages/pandas/core/generic.py:3772\u001B[0m, in \u001B[0;36mNDFrame.to_csv\u001B[0;34m(self, path_or_buf, sep, na_rep, float_format, columns, header, index, index_label, mode, encoding, compression, quoting, quotechar, lineterminator, chunksize, date_format, doublequote, escapechar, decimal, errors, storage_options)\u001B[0m\n\u001B[1;32m   3761\u001B[0m df \u001B[38;5;241m=\u001B[39m \u001B[38;5;28mself\u001B[39m \u001B[38;5;28;01mif\u001B[39;00m \u001B[38;5;28misinstance\u001B[39m(\u001B[38;5;28mself\u001B[39m, ABCDataFrame) \u001B[38;5;28;01melse\u001B[39;00m \u001B[38;5;28mself\u001B[39m\u001B[38;5;241m.\u001B[39mto_frame()\n\u001B[1;32m   3763\u001B[0m formatter \u001B[38;5;241m=\u001B[39m DataFrameFormatter(\n\u001B[1;32m   3764\u001B[0m     frame\u001B[38;5;241m=\u001B[39mdf,\n\u001B[1;32m   3765\u001B[0m     header\u001B[38;5;241m=\u001B[39mheader,\n\u001B[0;32m   (...)\u001B[0m\n\u001B[1;32m   3769\u001B[0m     decimal\u001B[38;5;241m=\u001B[39mdecimal,\n\u001B[1;32m   3770\u001B[0m )\n\u001B[0;32m-> 3772\u001B[0m \u001B[38;5;28;01mreturn\u001B[39;00m \u001B[43mDataFrameRenderer\u001B[49m\u001B[43m(\u001B[49m\u001B[43mformatter\u001B[49m\u001B[43m)\u001B[49m\u001B[38;5;241;43m.\u001B[39;49m\u001B[43mto_csv\u001B[49m\u001B[43m(\u001B[49m\n\u001B[1;32m   3773\u001B[0m \u001B[43m    \u001B[49m\u001B[43mpath_or_buf\u001B[49m\u001B[43m,\u001B[49m\n\u001B[1;32m   3774\u001B[0m \u001B[43m    \u001B[49m\u001B[43mlineterminator\u001B[49m\u001B[38;5;241;43m=\u001B[39;49m\u001B[43mlineterminator\u001B[49m\u001B[43m,\u001B[49m\n\u001B[1;32m   3775\u001B[0m \u001B[43m    \u001B[49m\u001B[43msep\u001B[49m\u001B[38;5;241;43m=\u001B[39;49m\u001B[43msep\u001B[49m\u001B[43m,\u001B[49m\n\u001B[1;32m   3776\u001B[0m \u001B[43m    \u001B[49m\u001B[43mencoding\u001B[49m\u001B[38;5;241;43m=\u001B[39;49m\u001B[43mencoding\u001B[49m\u001B[43m,\u001B[49m\n\u001B[1;32m   3777\u001B[0m \u001B[43m    \u001B[49m\u001B[43merrors\u001B[49m\u001B[38;5;241;43m=\u001B[39;49m\u001B[43merrors\u001B[49m\u001B[43m,\u001B[49m\n\u001B[1;32m   3778\u001B[0m \u001B[43m    \u001B[49m\u001B[43mcompression\u001B[49m\u001B[38;5;241;43m=\u001B[39;49m\u001B[43mcompression\u001B[49m\u001B[43m,\u001B[49m\n\u001B[1;32m   3779\u001B[0m \u001B[43m    \u001B[49m\u001B[43mquoting\u001B[49m\u001B[38;5;241;43m=\u001B[39;49m\u001B[43mquoting\u001B[49m\u001B[43m,\u001B[49m\n\u001B[1;32m   3780\u001B[0m \u001B[43m    \u001B[49m\u001B[43mcolumns\u001B[49m\u001B[38;5;241;43m=\u001B[39;49m\u001B[43mcolumns\u001B[49m\u001B[43m,\u001B[49m\n\u001B[1;32m   3781\u001B[0m \u001B[43m    \u001B[49m\u001B[43mindex_label\u001B[49m\u001B[38;5;241;43m=\u001B[39;49m\u001B[43mindex_label\u001B[49m\u001B[43m,\u001B[49m\n\u001B[1;32m   3782\u001B[0m \u001B[43m    \u001B[49m\u001B[43mmode\u001B[49m\u001B[38;5;241;43m=\u001B[39;49m\u001B[43mmode\u001B[49m\u001B[43m,\u001B[49m\n\u001B[1;32m   3783\u001B[0m \u001B[43m    \u001B[49m\u001B[43mchunksize\u001B[49m\u001B[38;5;241;43m=\u001B[39;49m\u001B[43mchunksize\u001B[49m\u001B[43m,\u001B[49m\n\u001B[1;32m   3784\u001B[0m \u001B[43m    \u001B[49m\u001B[43mquotechar\u001B[49m\u001B[38;5;241;43m=\u001B[39;49m\u001B[43mquotechar\u001B[49m\u001B[43m,\u001B[49m\n\u001B[1;32m   3785\u001B[0m \u001B[43m    \u001B[49m\u001B[43mdate_format\u001B[49m\u001B[38;5;241;43m=\u001B[39;49m\u001B[43mdate_format\u001B[49m\u001B[43m,\u001B[49m\n\u001B[1;32m   3786\u001B[0m \u001B[43m    \u001B[49m\u001B[43mdoublequote\u001B[49m\u001B[38;5;241;43m=\u001B[39;49m\u001B[43mdoublequote\u001B[49m\u001B[43m,\u001B[49m\n\u001B[1;32m   3787\u001B[0m \u001B[43m    \u001B[49m\u001B[43mescapechar\u001B[49m\u001B[38;5;241;43m=\u001B[39;49m\u001B[43mescapechar\u001B[49m\u001B[43m,\u001B[49m\n\u001B[1;32m   3788\u001B[0m \u001B[43m    \u001B[49m\u001B[43mstorage_options\u001B[49m\u001B[38;5;241;43m=\u001B[39;49m\u001B[43mstorage_options\u001B[49m\u001B[43m,\u001B[49m\n\u001B[1;32m   3789\u001B[0m \u001B[43m\u001B[49m\u001B[43m)\u001B[49m\n",
      "File \u001B[0;32m~/Programming/Hackathons/gagarin_hack/venv/lib/python3.11/site-packages/pandas/io/formats/format.py:1186\u001B[0m, in \u001B[0;36mDataFrameRenderer.to_csv\u001B[0;34m(self, path_or_buf, encoding, sep, columns, index_label, mode, compression, quoting, quotechar, lineterminator, chunksize, date_format, doublequote, escapechar, errors, storage_options)\u001B[0m\n\u001B[1;32m   1165\u001B[0m     created_buffer \u001B[38;5;241m=\u001B[39m \u001B[38;5;28;01mFalse\u001B[39;00m\n\u001B[1;32m   1167\u001B[0m csv_formatter \u001B[38;5;241m=\u001B[39m CSVFormatter(\n\u001B[1;32m   1168\u001B[0m     path_or_buf\u001B[38;5;241m=\u001B[39mpath_or_buf,\n\u001B[1;32m   1169\u001B[0m     lineterminator\u001B[38;5;241m=\u001B[39mlineterminator,\n\u001B[0;32m   (...)\u001B[0m\n\u001B[1;32m   1184\u001B[0m     formatter\u001B[38;5;241m=\u001B[39m\u001B[38;5;28mself\u001B[39m\u001B[38;5;241m.\u001B[39mfmt,\n\u001B[1;32m   1185\u001B[0m )\n\u001B[0;32m-> 1186\u001B[0m \u001B[43mcsv_formatter\u001B[49m\u001B[38;5;241;43m.\u001B[39;49m\u001B[43msave\u001B[49m\u001B[43m(\u001B[49m\u001B[43m)\u001B[49m\n\u001B[1;32m   1188\u001B[0m \u001B[38;5;28;01mif\u001B[39;00m created_buffer:\n\u001B[1;32m   1189\u001B[0m     \u001B[38;5;28;01massert\u001B[39;00m \u001B[38;5;28misinstance\u001B[39m(path_or_buf, StringIO)\n",
      "File \u001B[0;32m~/Programming/Hackathons/gagarin_hack/venv/lib/python3.11/site-packages/pandas/io/formats/csvs.py:259\u001B[0m, in \u001B[0;36mCSVFormatter.save\u001B[0;34m(self)\u001B[0m\n\u001B[1;32m    240\u001B[0m \u001B[38;5;28;01mwith\u001B[39;00m get_handle(\n\u001B[1;32m    241\u001B[0m     \u001B[38;5;28mself\u001B[39m\u001B[38;5;241m.\u001B[39mfilepath_or_buffer,\n\u001B[1;32m    242\u001B[0m     \u001B[38;5;28mself\u001B[39m\u001B[38;5;241m.\u001B[39mmode,\n\u001B[0;32m   (...)\u001B[0m\n\u001B[1;32m    247\u001B[0m ) \u001B[38;5;28;01mas\u001B[39;00m handles:\n\u001B[1;32m    248\u001B[0m     \u001B[38;5;66;03m# Note: self.encoding is irrelevant here\u001B[39;00m\n\u001B[1;32m    249\u001B[0m     \u001B[38;5;28mself\u001B[39m\u001B[38;5;241m.\u001B[39mwriter \u001B[38;5;241m=\u001B[39m csvlib\u001B[38;5;241m.\u001B[39mwriter(\n\u001B[1;32m    250\u001B[0m         handles\u001B[38;5;241m.\u001B[39mhandle,\n\u001B[1;32m    251\u001B[0m         lineterminator\u001B[38;5;241m=\u001B[39m\u001B[38;5;28mself\u001B[39m\u001B[38;5;241m.\u001B[39mlineterminator,\n\u001B[0;32m   (...)\u001B[0m\n\u001B[1;32m    256\u001B[0m         quotechar\u001B[38;5;241m=\u001B[39m\u001B[38;5;28mself\u001B[39m\u001B[38;5;241m.\u001B[39mquotechar,\n\u001B[1;32m    257\u001B[0m     )\n\u001B[0;32m--> 259\u001B[0m     \u001B[38;5;28;43mself\u001B[39;49m\u001B[38;5;241;43m.\u001B[39;49m\u001B[43m_save\u001B[49m\u001B[43m(\u001B[49m\u001B[43m)\u001B[49m\n",
      "File \u001B[0;32m~/Programming/Hackathons/gagarin_hack/venv/lib/python3.11/site-packages/pandas/io/formats/csvs.py:264\u001B[0m, in \u001B[0;36mCSVFormatter._save\u001B[0;34m(self)\u001B[0m\n\u001B[1;32m    262\u001B[0m \u001B[38;5;28;01mif\u001B[39;00m \u001B[38;5;28mself\u001B[39m\u001B[38;5;241m.\u001B[39m_need_to_save_header:\n\u001B[1;32m    263\u001B[0m     \u001B[38;5;28mself\u001B[39m\u001B[38;5;241m.\u001B[39m_save_header()\n\u001B[0;32m--> 264\u001B[0m \u001B[38;5;28;43mself\u001B[39;49m\u001B[38;5;241;43m.\u001B[39;49m\u001B[43m_save_body\u001B[49m\u001B[43m(\u001B[49m\u001B[43m)\u001B[49m\n",
      "File \u001B[0;32m~/Programming/Hackathons/gagarin_hack/venv/lib/python3.11/site-packages/pandas/io/formats/csvs.py:302\u001B[0m, in \u001B[0;36mCSVFormatter._save_body\u001B[0;34m(self)\u001B[0m\n\u001B[1;32m    300\u001B[0m \u001B[38;5;28;01mif\u001B[39;00m start_i \u001B[38;5;241m>\u001B[39m\u001B[38;5;241m=\u001B[39m end_i:\n\u001B[1;32m    301\u001B[0m     \u001B[38;5;28;01mbreak\u001B[39;00m\n\u001B[0;32m--> 302\u001B[0m \u001B[38;5;28;43mself\u001B[39;49m\u001B[38;5;241;43m.\u001B[39;49m\u001B[43m_save_chunk\u001B[49m\u001B[43m(\u001B[49m\u001B[43mstart_i\u001B[49m\u001B[43m,\u001B[49m\u001B[43m \u001B[49m\u001B[43mend_i\u001B[49m\u001B[43m)\u001B[49m\n",
      "File \u001B[0;32m~/Programming/Hackathons/gagarin_hack/venv/lib/python3.11/site-packages/pandas/io/formats/csvs.py:313\u001B[0m, in \u001B[0;36mCSVFormatter._save_chunk\u001B[0;34m(self, start_i, end_i)\u001B[0m\n\u001B[1;32m    310\u001B[0m data \u001B[38;5;241m=\u001B[39m [res\u001B[38;5;241m.\u001B[39miget_values(i) \u001B[38;5;28;01mfor\u001B[39;00m i \u001B[38;5;129;01min\u001B[39;00m \u001B[38;5;28mrange\u001B[39m(\u001B[38;5;28mlen\u001B[39m(res\u001B[38;5;241m.\u001B[39mitems))]\n\u001B[1;32m    312\u001B[0m ix \u001B[38;5;241m=\u001B[39m \u001B[38;5;28mself\u001B[39m\u001B[38;5;241m.\u001B[39mdata_index[slicer]\u001B[38;5;241m.\u001B[39m_format_native_types(\u001B[38;5;241m*\u001B[39m\u001B[38;5;241m*\u001B[39m\u001B[38;5;28mself\u001B[39m\u001B[38;5;241m.\u001B[39m_number_format)\n\u001B[0;32m--> 313\u001B[0m \u001B[43mlibwriters\u001B[49m\u001B[38;5;241;43m.\u001B[39;49m\u001B[43mwrite_csv_rows\u001B[49m\u001B[43m(\u001B[49m\n\u001B[1;32m    314\u001B[0m \u001B[43m    \u001B[49m\u001B[43mdata\u001B[49m\u001B[43m,\u001B[49m\n\u001B[1;32m    315\u001B[0m \u001B[43m    \u001B[49m\u001B[43mix\u001B[49m\u001B[43m,\u001B[49m\n\u001B[1;32m    316\u001B[0m \u001B[43m    \u001B[49m\u001B[38;5;28;43mself\u001B[39;49m\u001B[38;5;241;43m.\u001B[39;49m\u001B[43mnlevels\u001B[49m\u001B[43m,\u001B[49m\n\u001B[1;32m    317\u001B[0m \u001B[43m    \u001B[49m\u001B[38;5;28;43mself\u001B[39;49m\u001B[38;5;241;43m.\u001B[39;49m\u001B[43mcols\u001B[49m\u001B[43m,\u001B[49m\n\u001B[1;32m    318\u001B[0m \u001B[43m    \u001B[49m\u001B[38;5;28;43mself\u001B[39;49m\u001B[38;5;241;43m.\u001B[39;49m\u001B[43mwriter\u001B[49m\u001B[43m,\u001B[49m\n\u001B[1;32m    319\u001B[0m \u001B[43m\u001B[49m\u001B[43m)\u001B[49m\n",
      "File \u001B[0;32m~/Programming/Hackathons/gagarin_hack/venv/lib/python3.11/site-packages/pandas/_libs/writers.pyx:72\u001B[0m, in \u001B[0;36mpandas._libs.writers.write_csv_rows\u001B[0;34m()\u001B[0m\n",
      "\u001B[0;31mKeyboardInterrupt\u001B[0m: "
     ]
    }
   ],
   "execution_count": 6
  }
 ],
 "metadata": {
  "kernelspec": {
   "display_name": "Python 3",
   "language": "python",
   "name": "python3"
  },
  "language_info": {
   "codemirror_mode": {
    "name": "ipython",
    "version": 2
   },
   "file_extension": ".py",
   "mimetype": "text/x-python",
   "name": "python",
   "nbconvert_exporter": "python",
   "pygments_lexer": "ipython2",
   "version": "2.7.6"
  }
 },
 "nbformat": 4,
 "nbformat_minor": 5
}
