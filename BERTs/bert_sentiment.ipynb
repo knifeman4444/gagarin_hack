{
 "metadata": {
  "colab": {
   "provenance": [],
   "gpuType": "T4"
  },
  "kernelspec": {
   "name": "python3",
   "display_name": "Python 3",
   "language": "python"
  },
  "language_info": {
   "name": "python",
   "version": "3.10.13",
   "mimetype": "text/x-python",
   "codemirror_mode": {
    "name": "ipython",
    "version": 3
   },
   "pygments_lexer": "ipython3",
   "nbconvert_exporter": "python",
   "file_extension": ".py"
  },
  "accelerator": "GPU"
 },
 "nbformat_minor": 4,
 "nbformat": 4,
 "cells": [
  {
   "cell_type": "code",
   "source": [
    "!pip install transformers -q"
   ],
   "metadata": {
    "id": "SdA5aEygp976",
    "execution": {
     "iopub.status.busy": "2024-04-13T00:25:44.536120Z",
     "iopub.execute_input": "2024-04-13T00:25:44.536521Z",
     "iopub.status.idle": "2024-04-13T00:25:57.191038Z",
     "shell.execute_reply.started": "2024-04-13T00:25:44.536491Z",
     "shell.execute_reply": "2024-04-13T00:25:57.189963Z"
    },
    "trusted": true
   },
   "execution_count": 1,
   "outputs": []
  },
  {
   "cell_type": "code",
   "source": [
    "from transformers import AutoTokenizer, AutoModelForSequenceClassification, BertForSequenceClassification\n",
    "import torch\n",
    "import pandas as pd\n",
    "import numpy as np\n",
    "from sklearn.model_selection import train_test_split\n",
    "from torch.utils.data import Dataset, DataLoader, Subset\n",
    "import matplotlib.pyplot as plt\n",
    "from tqdm import tqdm\n",
    "from sklearn.metrics import accuracy_score, f1_score\n",
    "from IPython.display import clear_output"
   ],
   "metadata": {
    "id": "WdZs8z_fqOld",
    "execution": {
     "iopub.status.busy": "2024-04-13T00:25:57.193371Z",
     "iopub.execute_input": "2024-04-13T00:25:57.193754Z",
     "iopub.status.idle": "2024-04-13T00:26:05.601516Z",
     "shell.execute_reply.started": "2024-04-13T00:25:57.193716Z",
     "shell.execute_reply": "2024-04-13T00:26:05.600508Z"
    },
    "trusted": true
   },
   "execution_count": 2,
   "outputs": []
  },
  {
   "cell_type": "code",
   "source": [
    "device = torch.device(\"cuda\" if torch.cuda.is_available() else \"cpu\")\n",
    "\n",
    "if device == torch.device('cpu'):\n",
    "    print('Using cpu')\n",
    "else:\n",
    "    n_gpu = torch.cuda.device_count()\n",
    "    print('Using {} GPUs'.format(torch.cuda.get_device_name(0)))"
   ],
   "metadata": {
    "colab": {
     "base_uri": "https://localhost:8080/"
    },
    "id": "iAAF8QJ5uV5z",
    "outputId": "2815eb18-ec36-4fd6-8ae6-83986538caa6",
    "execution": {
     "iopub.status.busy": "2024-04-13T00:26:05.602728Z",
     "iopub.execute_input": "2024-04-13T00:26:05.603262Z",
     "iopub.status.idle": "2024-04-13T00:26:05.659814Z",
     "shell.execute_reply.started": "2024-04-13T00:26:05.603223Z",
     "shell.execute_reply": "2024-04-13T00:26:05.658886Z"
    },
    "trusted": true
   },
   "execution_count": 3,
   "outputs": [
    {
     "name": "stdout",
     "text": "Using Tesla P100-PCIE-16GB GPUs\n",
     "output_type": "stream"
    }
   ]
  },
  {
   "cell_type": "markdown",
   "source": [
    "## IDEAS:\n",
    "\n",
    "- M-BERT\n",
    "- https://huggingface.co/sismetanin/xlm_roberta_large-ru-sentiment-rusentiment\n",
    "- other models"
   ],
   "metadata": {}
  },
  {
   "cell_type": "code",
   "source": [
    "model_name = 'DeepPavlov/rubert-base-cased'\n",
    "tokenizer = AutoTokenizer.from_pretrained(model_name)\n",
    "tokenizer"
   ],
   "metadata": {
    "colab": {
     "base_uri": "https://localhost:8080/"
    },
    "id": "ettcjHuRqEf7",
    "outputId": "6ed71662-6f86-4c34-cd78-83b4074d26ad",
    "execution": {
     "iopub.status.busy": "2024-04-13T01:09:35.471056Z",
     "iopub.execute_input": "2024-04-13T01:09:35.471798Z",
     "iopub.status.idle": "2024-04-13T01:09:40.308273Z",
     "shell.execute_reply.started": "2024-04-13T01:09:35.471768Z",
     "shell.execute_reply": "2024-04-13T01:09:40.307330Z"
    },
    "trusted": true
   },
   "execution_count": 51,
   "outputs": [
    {
     "output_type": "display_data",
     "data": {
      "text/plain": "tokenizer_config.json:   0%|          | 0.00/434 [00:00<?, ?B/s]",
      "application/vnd.jupyter.widget-view+json": {
       "version_major": 2,
       "version_minor": 0,
       "model_id": "4594207d304448f9b39d7bd5401c9c5c"
      }
     },
     "metadata": {}
    },
    {
     "output_type": "display_data",
     "data": {
      "text/plain": "config.json:   0%|          | 0.00/1.03k [00:00<?, ?B/s]",
      "application/vnd.jupyter.widget-view+json": {
       "version_major": 2,
       "version_minor": 0,
       "model_id": "b8a235f89521482eb297bf8337d1d17f"
      }
     },
     "metadata": {}
    },
    {
     "output_type": "display_data",
     "data": {
      "text/plain": "sentencepiece.bpe.model:   0%|          | 0.00/5.07M [00:00<?, ?B/s]",
      "application/vnd.jupyter.widget-view+json": {
       "version_major": 2,
       "version_minor": 0,
       "model_id": "b561d7cb313149a9ae71561a6b27fc3a"
      }
     },
     "metadata": {}
    },
    {
     "output_type": "display_data",
     "data": {
      "text/plain": "special_tokens_map.json:   0%|          | 0.00/150 [00:00<?, ?B/s]",
      "application/vnd.jupyter.widget-view+json": {
       "version_major": 2,
       "version_minor": 0,
       "model_id": "889403d14a954a9c9afe1f037134adab"
      }
     },
     "metadata": {}
    },
    {
     "execution_count": 51,
     "output_type": "execute_result",
     "data": {
      "text/plain": "XLMRobertaTokenizerFast(name_or_path='sismetanin/xlm_roberta_large-ru-sentiment-rusentiment', vocab_size=250002, model_max_length=512, is_fast=True, padding_side='right', truncation_side='right', special_tokens={'bos_token': '<s>', 'eos_token': '</s>', 'unk_token': '<unk>', 'sep_token': '</s>', 'pad_token': '<pad>', 'cls_token': '<s>', 'mask_token': '<mask>'}, clean_up_tokenization_spaces=True),  added_tokens_decoder={\n\t0: AddedToken(\"<s>\", rstrip=False, lstrip=False, single_word=False, normalized=False, special=True),\n\t1: AddedToken(\"<pad>\", rstrip=False, lstrip=False, single_word=False, normalized=False, special=True),\n\t2: AddedToken(\"</s>\", rstrip=False, lstrip=False, single_word=False, normalized=False, special=True),\n\t3: AddedToken(\"<unk>\", rstrip=False, lstrip=False, single_word=False, normalized=False, special=True),\n\t250001: AddedToken(\"<mask>\", rstrip=False, lstrip=True, single_word=False, normalized=False, special=True),\n}"
     },
     "metadata": {}
    }
   ]
  },
  {
   "cell_type": "code",
   "source": [
    "from typing import List, Tuple\n",
    "\n",
    "\n",
    "class EntityDataset(Dataset):\n",
    "    def __init__(self,\n",
    "                 texts: List[str],\n",
    "                 labels: List[int],\n",
    "                 entities: List[List[Tuple[int, int, int]]],\n",
    "                 tokenizer,\n",
    "                 max_len: int = 512,  # Органичение на длину входной последовательности\n",
    "                 shifts: int = 256):\n",
    "        \n",
    "        self.samples = []\n",
    "        \n",
    "        for i, text in enumerate(texts):\n",
    "            _, start, end = entities[i]\n",
    "            entity_text = text[start:end]\n",
    "            \n",
    "            # Структура токенизированного ввода: [CLS] + пресложение + [SEP] + сущность + [SEP] + конец предложения + [EOS]\n",
    "            # Для каждой сущности идём shift символов вправо и влево и обрезаем до пробела,\n",
    "            # чтобы окно с сущностью в центре получалось\n",
    "            pre_entity_text = text[:start]\n",
    "            idx_space_begin = pre_entity_text.find(' ', start - shifts)\n",
    "            pre_entity_text = pre_entity_text[idx_space_begin + 1:]\n",
    "            \n",
    "            post_entity_text = text[end:]\n",
    "            idx_space_end = post_entity_text.rfind(' ', 0, shifts)\n",
    "            if idx_space_end == -1:\n",
    "                idx_space_end = len(post_entity_text)\n",
    "            post_entity_text = post_entity_text[:idx_space_end]\n",
    "            \n",
    "            sequence = f\"{pre_entity_text} <pad> {entity_text} <pad> {post_entity_text}\"\n",
    "\n",
    "            tokenized_input = tokenizer.encode_plus(\n",
    "                sequence,\n",
    "                add_special_tokens=True,\n",
    "                max_length=max_len,\n",
    "                truncation=True,\n",
    "                padding=False,\n",
    "                return_tensors=\"pt\"\n",
    "            )\n",
    "\n",
    "            input_ids = tokenized_input['input_ids'].squeeze(0)\n",
    "            token_type_ids = tokenized_input['token_type_ids'].squeeze(0)\n",
    "            attention_mask = tokenized_input['attention_mask'].squeeze(0)\n",
    "\n",
    "            self.samples.append({\n",
    "                \"input_ids\": input_ids,\n",
    "                \"token_type_ids\": token_type_ids,\n",
    "                \"attention_mask\": attention_mask,\n",
    "                \"label\": labels[i],\n",
    "            })\n",
    "\n",
    "    def __len__(self):\n",
    "        return len(self.samples)\n",
    "\n",
    "    def __getitem__(self, index):\n",
    "        return self.samples[index]"
   ],
   "metadata": {
    "execution": {
     "iopub.status.busy": "2024-04-13T01:11:00.641045Z",
     "iopub.execute_input": "2024-04-13T01:11:00.641829Z",
     "iopub.status.idle": "2024-04-13T01:11:00.653108Z",
     "shell.execute_reply.started": "2024-04-13T01:11:00.641793Z",
     "shell.execute_reply": "2024-04-13T01:11:00.652231Z"
    },
    "trusted": true
   },
   "execution_count": 53,
   "outputs": []
  },
  {
   "cell_type": "code",
   "source": [
    "def pad_collate(batch):\n",
    "    \"\"\"Дополняем до максимальной в батче долины\"\"\"\n",
    "    input_ids = [sample[\"input_ids\"] for sample in batch]\n",
    "    token_type_ids = [sample[\"token_type_ids\"] for sample in batch]\n",
    "    attention_mask = [sample[\"attention_mask\"] for sample in batch]\n",
    "    labels = [sample[\"label\"] for sample in batch]\n",
    "\n",
    "    input_ids = torch.nn.utils.rnn.pad_sequence(input_ids, batch_first=True, padding_value=tokenizer.pad_token_id)\n",
    "    token_type_ids = torch.nn.utils.rnn.pad_sequence(token_type_ids, batch_first=True, padding_value=tokenizer.pad_token_type_id)\n",
    "    attention_mask = torch.nn.utils.rnn.pad_sequence(attention_mask, batch_first=True, padding_value=0)\n",
    "    \n",
    "    return {\n",
    "        \"input_ids\": input_ids,\n",
    "        \"token_type_ids\": token_type_ids,\n",
    "        \"attention_mask\": attention_mask,\n",
    "        \"label\": torch.LongTensor(labels),\n",
    "    }"
   ],
   "metadata": {
    "execution": {
     "iopub.status.busy": "2024-04-13T01:11:03.695777Z",
     "iopub.execute_input": "2024-04-13T01:11:03.696396Z",
     "iopub.status.idle": "2024-04-13T01:11:03.703682Z",
     "shell.execute_reply.started": "2024-04-13T01:11:03.696357Z",
     "shell.execute_reply": "2024-04-13T01:11:03.702636Z"
    },
    "trusted": true
   },
   "execution_count": 54,
   "outputs": []
  },
  {
   "cell_type": "code",
   "source": [
    "df = pd.read_csv('/kaggle/input/gagarin-ans-v1/ans_v1.csv')  # Датасет текстов, сущностей в них и сентимента\n",
    "df = df[df.score != 0]\n",
    "df.score -= 1\n",
    "texts = list(df['text'])\n",
    "labels = list(df['score'].astype(int))\n",
    "entities = list(zip(df['entity_idx'], df['start_pos'], df['end_pos']))"
   ],
   "metadata": {
    "execution": {
     "iopub.status.busy": "2024-04-13T00:26:07.553150Z",
     "iopub.execute_input": "2024-04-13T00:26:07.553462Z",
     "iopub.status.idle": "2024-04-13T00:26:07.934640Z",
     "shell.execute_reply.started": "2024-04-13T00:26:07.553437Z",
     "shell.execute_reply": "2024-04-13T00:26:07.933644Z"
    },
    "trusted": true
   },
   "execution_count": 7,
   "outputs": []
  },
  {
   "cell_type": "code",
   "source": [
    "dataset = EntityDataset(texts, labels, entities, tokenizer)\n",
    "\n",
    "dataset_size = len(dataset)\n",
    "indices = list(range(dataset_size))\n",
    "\n",
    "# Разделяем индексы на обучающую и тестовую выборки\n",
    "train_indices, val_indices = train_test_split(indices, test_size=0.2, random_state=42)\n",
    "\n",
    "# Создаем подмножества датасета\n",
    "train_subset = Subset(dataset, train_indices)\n",
    "val_subset = Subset(dataset, val_indices)\n",
    "\n",
    "BATCH_SIZE = 20\n",
    "\n",
    "# Создаем DataLoader для обучающего и тестового наборов\n",
    "train_loader = DataLoader(train_subset, batch_size=BATCH_SIZE, collate_fn=pad_collate, shuffle=True)\n",
    "val_loader = DataLoader(val_subset, batch_size=BATCH_SIZE, collate_fn=pad_collate, shuffle=False)"
   ],
   "metadata": {
    "execution": {
     "iopub.status.busy": "2024-04-13T01:11:07.076887Z",
     "iopub.execute_input": "2024-04-13T01:11:07.077242Z",
     "iopub.status.idle": "2024-04-13T01:11:07.422617Z",
     "shell.execute_reply.started": "2024-04-13T01:11:07.077212Z",
     "shell.execute_reply": "2024-04-13T01:11:07.421367Z"
    },
    "trusted": true
   },
   "execution_count": null,
   "outputs": []
  },
  {
   "cell_type": "code",
   "source": [
    "val_labels = [i['label'] for i in list(val_subset)]"
   ],
   "metadata": {
    "execution": {
     "iopub.status.busy": "2024-04-13T00:52:28.153710Z",
     "iopub.execute_input": "2024-04-13T00:52:28.154497Z",
     "iopub.status.idle": "2024-04-13T00:52:28.164458Z",
     "shell.execute_reply.started": "2024-04-13T00:52:28.154463Z",
     "shell.execute_reply": "2024-04-13T00:52:28.163484Z"
    },
    "trusted": true
   },
   "execution_count": 42,
   "outputs": []
  },
  {
   "cell_type": "code",
   "source": [
    "model = AutoModelForSequenceClassification.from_pretrained(model_name, num_labels=5).to(device)"
   ],
   "metadata": {
    "colab": {
     "base_uri": "https://localhost:8080/"
    },
    "id": "EFhdEi-z70Dx",
    "outputId": "3783912f-a6da-4f0c-c13e-7991977ddf9f",
    "execution": {
     "iopub.status.busy": "2024-04-13T00:52:29.447156Z",
     "iopub.execute_input": "2024-04-13T00:52:29.447520Z",
     "iopub.status.idle": "2024-04-13T00:52:30.449776Z",
     "shell.execute_reply.started": "2024-04-13T00:52:29.447490Z",
     "shell.execute_reply": "2024-04-13T00:52:30.448990Z"
    },
    "trusted": true
   },
   "execution_count": 43,
   "outputs": [
    {
     "name": "stderr",
     "text": "Some weights of BertForSequenceClassification were not initialized from the model checkpoint at DeepPavlov/rubert-base-cased and are newly initialized: ['classifier.bias', 'classifier.weight']\nYou should probably TRAIN this model on a down-stream task to be able to use it for predictions and inference.\n",
     "output_type": "stream"
    }
   ]
  },
  {
   "cell_type": "code",
   "source": [
    "# Какие-то параметры для обучения :D Можно без них попробовать\n",
    "param_optimizer = list(model.named_parameters())\n",
    "no_decay = ['bias', 'gamma', 'beta']\n",
    "optimizer_grouped_parameters = [\n",
    "  {'params': [p for n, p in param_optimizer if not any(nd in n for nd in no_decay)],\n",
    "    'weight_decay_rate': 0.01},\n",
    "  {'params': [p for n, p in param_optimizer if any(nd in n for nd in no_decay)],\n",
    "    'weight_decay_rate': 0.0}\n",
    "]\n",
    "\n",
    "optimizer = torch.optim.AdamW(optimizer_grouped_parameters, lr=2e-5)"
   ],
   "metadata": {
    "id": "pOcavTJg8JHc",
    "execution": {
     "iopub.status.busy": "2024-04-13T00:52:41.786932Z",
     "iopub.execute_input": "2024-04-13T00:52:41.787646Z",
     "iopub.status.idle": "2024-04-13T00:52:41.797171Z",
     "shell.execute_reply.started": "2024-04-13T00:52:41.787612Z",
     "shell.execute_reply": "2024-04-13T00:52:41.796381Z"
    },
    "trusted": true
   },
   "execution_count": 44,
   "outputs": []
  },
  {
   "cell_type": "code",
   "source": [
    "def model_train(epochs=1, cnt_steps_batch=1):\n",
    "    \"\"\"\n",
    "    cnt_steps_batch -- раз во сколько батчей делаем optimizer.step()\n",
    "    (увеличивать batch_size так можно в cnt_steps_batch раз)\n",
    "    \"\"\"\n",
    "    val_acc = []\n",
    "    val_f1 = []\n",
    "    train_loss_set = []\n",
    "\n",
    "    for ep in range(epochs):\n",
    "        model.train()\n",
    "\n",
    "        for step, batch in enumerate(train_loader):\n",
    "            b_input_ids = batch['input_ids'].to(device)\n",
    "            b_token_type_ids = batch['token_type_ids'].to(device)\n",
    "            b_input_mask = batch['attention_mask'].to(device)\n",
    "            b_labels = batch['label'].to(device)\n",
    "\n",
    "            loss = model(b_input_ids, token_type_ids=b_token_type_ids, attention_mask=b_input_mask, labels=b_labels)\n",
    "            train_loss_set.append((loss[0] / len(b_input_ids)).item())\n",
    "\n",
    "            loss_back = loss[0] / cnt_steps_batch\n",
    "            loss_back.backward()\n",
    "\n",
    "            if (step + 1) % cnt_steps_batch == 0:\n",
    "                optimizer.step()\n",
    "                optimizer.zero_grad()\n",
    "\n",
    "            clear_output(True)\n",
    "            plt.plot(train_loss_set)\n",
    "            plt.title(f\"Training loss on epoch {ep + 1}/{epochs}\")\n",
    "            plt.xlabel(\"Batch\")\n",
    "            plt.ylabel(\"Loss\")\n",
    "            plt.show()\n",
    "            print('Эпоха: accuracy, f1')\n",
    "            for i in range(ep):\n",
    "                print(str(i + 1) + '/' + str(epochs) + ': ' + str(val_acc[i]) + ', ' + str(val_f1[i]))\n",
    "\n",
    "        model.eval()\n",
    "\n",
    "        val_preds = []\n",
    "\n",
    "        for batch in val_loader:\n",
    "            b_input_ids = batch['input_ids'].to(device)\n",
    "            b_token_type_ids = batch['token_type_ids'].to(device)\n",
    "            b_input_mask = batch['attention_mask'].to(device)\n",
    "            b_labels = batch['label'].to(device)\n",
    "            \n",
    "            with torch.no_grad():\n",
    "                logits = model(b_input_ids, token_type_ids=b_token_type_ids, attention_mask=b_input_mask, labels=b_labels)\n",
    "            ans = logits[1].detach().to('cpu').numpy()\n",
    "            for i in range(len(ans)):\n",
    "                ans_ind = np.argmax(ans[i]).item()\n",
    "                val_preds.append(ans_ind)\n",
    "\n",
    "        val_acc.append(accuracy_score(val_labels, val_preds))\n",
    "        val_f1.append(f1_score(val_labels, val_preds, average='macro'))\n",
    "        \n",
    "        if val_acc[-1] == max(val_acc):\n",
    "            torch.save(model.state_dict(), f'/kaggle/working/model_{round(max(val_acc), 4)}.pth')\n",
    "\n",
    "        print('Эпоха: accuracy, f1')\n",
    "        for i in range(ep + 1):\n",
    "            print(str(i + 1) + '/' + str(epochs) + ': ' + str(val_acc[i]) + ', ' + str(val_f1[i]))"
   ],
   "metadata": {
    "id": "V40XSOcA8tAk",
    "execution": {
     "iopub.status.busy": "2024-04-13T00:52:45.702517Z",
     "iopub.execute_input": "2024-04-13T00:52:45.703215Z",
     "iopub.status.idle": "2024-04-13T00:52:45.719559Z",
     "shell.execute_reply.started": "2024-04-13T00:52:45.703184Z",
     "shell.execute_reply": "2024-04-13T00:52:45.718590Z"
    },
    "trusted": true,
    "ExecuteTime": {
     "end_time": "2024-04-13T14:21:32.181250306Z",
     "start_time": "2024-04-13T14:21:32.178909308Z"
    }
   },
   "execution_count": 1,
   "outputs": []
  },
  {
   "cell_type": "code",
   "source": [
    "model_train(1)"
   ],
   "metadata": {
    "colab": {
     "base_uri": "https://localhost:8080/",
     "height": 86
    },
    "id": "Yf8DjDWp8tlE",
    "outputId": "91aee028-c962-46a4-c556-3d14b525f592",
    "execution": {
     "iopub.status.busy": "2024-04-13T01:05:27.795469Z",
     "iopub.execute_input": "2024-04-13T01:05:27.796203Z",
     "iopub.status.idle": "2024-04-13T01:09:02.169123Z",
     "shell.execute_reply.started": "2024-04-13T01:05:27.796171Z",
     "shell.execute_reply": "2024-04-13T01:09:02.168077Z"
    },
    "trusted": true
   },
   "execution_count": null,
   "outputs": []
  },
  {
   "cell_type": "markdown",
   "source": [
    "Валидация"
   ],
   "metadata": {
    "collapsed": false
   }
  },
  {
   "cell_type": "code",
   "source": [
    "model.eval()\n",
    "val_preds = []\n",
    "\n",
    "for batch in tqdm(val_loader):\n",
    "    b_input_ids = batch['input_ids'].to(device)\n",
    "    b_token_type_ids = batch['token_type_ids'].to(device)\n",
    "    b_input_mask = batch['attention_mask'].to(device)\n",
    "    b_labels = batch['label'].to(device)\n",
    "\n",
    "    with torch.no_grad():\n",
    "        logits = model(b_input_ids, token_type_ids=b_token_type_ids, attention_mask=b_input_mask, labels=b_labels)\n",
    "    ans = logits[1].detach().to('cpu').numpy()\n",
    "    for i in range(len(ans)):\n",
    "        ans_ind = np.argmax(ans[i]).item()\n",
    "        val_preds.append(ans_ind)"
   ],
   "metadata": {
    "colab": {
     "base_uri": "https://localhost:8080/"
    },
    "id": "KkQYZL7pHPtC",
    "outputId": "d3fd2b38-078f-444b-b1d5-856eed5d628e",
    "execution": {
     "iopub.status.busy": "2024-04-13T01:04:05.333684Z",
     "iopub.execute_input": "2024-04-13T01:04:05.334056Z",
     "iopub.status.idle": "2024-04-13T01:04:10.724140Z",
     "shell.execute_reply.started": "2024-04-13T01:04:05.334024Z",
     "shell.execute_reply": "2024-04-13T01:04:10.723197Z"
    },
    "trusted": true
   },
   "execution_count": 47,
   "outputs": [
    {
     "name": "stderr",
     "text": "100%|██████████| 176/176 [00:05<00:00, 32.73it/s]\n",
     "output_type": "stream"
    }
   ]
  },
  {
   "cell_type": "code",
   "source": [
    "from sklearn.metrics import confusion_matrix\n",
    "import seaborn as sns\n",
    "import matplotlib.pyplot as plt\n",
    "\n",
    "print(\"Accuracy:\", accuracy_score(val_labels, val_preds))\n",
    "print(\"F1:\", f1_score(val_labels, val_preds, average='macro'))\n",
    "conf_mat = confusion_matrix(val_labels, val_preds)\n",
    "fig, ax = plt.subplots(figsize=(10,10))\n",
    "sns.heatmap(conf_mat, annot=True, fmt='d', xticklabels=range(5), yticklabels=range(5))\n",
    "plt.ylabel('Actual')\n",
    "plt.xlabel('Predicted')\n",
    "plt.show()"
   ],
   "metadata": {
    "colab": {
     "base_uri": "https://localhost:8080/",
     "height": 1000
    },
    "id": "o3d_m2lzIBb3",
    "outputId": "5330f4d2-f8fe-4d1d-e605-5c1577fc0342",
    "execution": {
     "iopub.status.busy": "2024-04-13T01:04:46.988129Z",
     "iopub.execute_input": "2024-04-13T01:04:46.988512Z",
     "iopub.status.idle": "2024-04-13T01:04:47.340627Z",
     "shell.execute_reply.started": "2024-04-13T01:04:46.988482Z",
     "shell.execute_reply": "2024-04-13T01:04:47.339709Z"
    },
    "trusted": true
   },
   "execution_count": 49,
   "outputs": [
    {
     "name": "stdout",
     "text": "Accuracy: 0.6881413911060433\nF1: 0.561526979795542\n",
     "output_type": "stream"
    },
    {
     "output_type": "display_data",
     "data": {
      "text/plain": "<Figure size 1000x1000 with 2 Axes>",
      "image/png": "[encoded data removed]"
     },
     "metadata": {}
    }
   ]
  },
  {
   "cell_type": "code",
   "source": [
    "torch.save(model.state_dict(), '/kaggle/working/model_final.pth')"
   ],
   "metadata": {
    "id": "6XsywYgisjVr"
   },
   "execution_count": 22,
   "outputs": []
  }
 ]
}
