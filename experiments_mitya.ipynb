{
 "cells": [
  {
   "cell_type": "code",
   "execution_count": 2,
   "metadata": {
    "collapsed": true,
    "ExecuteTime": {
     "end_time": "2024-04-12T11:27:06.961795279Z",
     "start_time": "2024-04-12T11:27:06.918396753Z"
    }
   },
   "outputs": [],
   "source": [
    "import pandas as pd\n",
    "import pickle"
   ]
  },
  {
   "cell_type": "code",
   "execution_count": 3,
   "outputs": [],
   "source": [
    "with open('data/sentiment_dataset/mentions texts.pickle', 'rb') as file:\n",
    "    # Загрузка объекта из файла\n",
    "    data = pickle.load(file)"
   ],
   "metadata": {
    "collapsed": false,
    "ExecuteTime": {
     "end_time": "2024-04-12T11:28:00.448769427Z",
     "start_time": "2024-04-12T11:28:00.385908412Z"
    }
   }
  },
  {
   "cell_type": "code",
   "execution_count": 7,
   "outputs": [],
   "source": [
    "with open('data/sentiment_dataset/sentiment_texts.pickle', 'rb') as file:\n",
    "    # Загрузка объекта из файла\n",
    "    data_sent = pickle.load(file)"
   ],
   "metadata": {
    "collapsed": false,
    "ExecuteTime": {
     "end_time": "2024-04-12T11:29:39.556957374Z",
     "start_time": "2024-04-12T11:29:39.527523185Z"
    }
   }
  },
  {
   "cell_type": "code",
   "execution_count": 15,
   "outputs": [],
   "source": [
    "df = pd.read_csv('data/sentiment_dataset/mentions.csv')\n",
    "df_sent = pd.read_csv('data/sentiment_dataset/sentiment.csv')"
   ],
   "metadata": {
    "collapsed": false,
    "ExecuteTime": {
     "end_time": "2024-04-12T11:32:26.441896679Z",
     "start_time": "2024-04-12T11:32:26.396706326Z"
    }
   }
  },
  {
   "cell_type": "code",
   "execution_count": 36,
   "outputs": [
    {
     "data": {
      "text/plain": "SentimentScore\n3    4487\n4    4276\n2    1119\n5     787\n0     195\n1      67\nName: count, dtype: int64"
     },
     "execution_count": 36,
     "metadata": {},
     "output_type": "execute_result"
    }
   ],
   "source": [
    "df_sent.SentimentScore.value_counts()"
   ],
   "metadata": {
    "collapsed": false,
    "ExecuteTime": {
     "end_time": "2024-04-12T17:26:46.509086506Z",
     "start_time": "2024-04-12T17:26:46.507021281Z"
    }
   }
  },
  {
   "cell_type": "code",
   "execution_count": 45,
   "outputs": [
    {
     "data": {
      "text/plain": "132"
     },
     "execution_count": 45,
     "metadata": {},
     "output_type": "execute_result"
    }
   ],
   "source": [
    "import numpy as np\n",
    "\n",
    "tickers = 'CBOM ALRS VTBR RUAL ENPG MGNZ AKRN BANE AFKS ALNU APTK AMEZ AFLT BSPB BELU SIBN GAZP GMKN SMLT LSRG GCHE DSKY INGR IRAO KMAZ MVID MGNT MAGN MFON MTLR MTSS MOEX MGTS IRKT UWGN LKOH ROSN NVTK NLMK UNAC PIKK PLZL RASP RSTI RTKM SFIN SBER CHMF FLOT SVAV SNGS TATN TRNFP TRMK URKA HYDR FEES PHOR TRCN CHEP ENRU UPRO SGZH ETLN FIXP GLTR HHRU MAIL MDMG TCS OKEY FIVE QIWI LNTA OZON AGRO POLY YNDX MRKU ABRD BISV OGKB GAZA GTRK FESH EELT ZILL IGST ISKJ KSGR VSMO KOGK KMTZ NMTP RKKE LSNG MSRS MRKK RUGR ROLO RUSP SELG TTLK TGKN TGKA TGKB URKZ LIFE PRFN ELTZ UNKL RNFT MSNG SFTL VEON POSI CIAN WUSH SPBE GLPR ASTR AQUA UGLD ABIO RENI GECO CARM HNFG SVCB EUTR DELI DIAS'\n",
    "len(np.unique(tickers.split()))"
   ],
   "metadata": {
    "collapsed": false,
    "ExecuteTime": {
     "end_time": "2024-04-13T12:53:55.238662510Z",
     "start_time": "2024-04-13T12:53:55.197544257Z"
    }
   }
  },
  {
   "cell_type": "code",
   "execution_count": 40,
   "outputs": [
    {
     "name": "stdout",
     "output_type": "stream",
     "text": [
      "0\n",
      "1\n",
      "3\n",
      "5\n",
      "6\n",
      "8\n",
      "9\n",
      "10\n",
      "13\n",
      "14\n",
      "15\n",
      "16\n",
      "18\n",
      "19\n",
      "20\n",
      "21\n",
      "29\n",
      "30\n",
      "31\n",
      "34\n",
      "37\n",
      "38\n",
      "39\n",
      "40\n",
      "41\n",
      "43\n",
      "45\n",
      "46\n",
      "49\n",
      "50\n",
      "51\n",
      "54\n",
      "55\n",
      "59\n",
      "60\n",
      "63\n",
      "64\n",
      "66\n",
      "68\n",
      "69\n",
      "73\n",
      "75\n",
      "76\n",
      "77\n",
      "78\n",
      "80\n",
      "81\n",
      "82\n",
      "83\n",
      "84\n",
      "85\n",
      "86\n",
      "87\n",
      "92\n",
      "93\n",
      "94\n",
      "95\n",
      "96\n",
      "97\n",
      "98\n",
      "101\n",
      "102\n",
      "105\n",
      "106\n",
      "107\n",
      "113\n",
      "114\n",
      "117\n",
      "119\n",
      "121\n",
      "122\n",
      "123\n",
      "124\n",
      "125\n",
      "130\n",
      "131\n",
      "133\n",
      "134\n",
      "135\n",
      "139\n",
      "140\n",
      "145\n",
      "146\n",
      "147\n",
      "148\n",
      "151\n",
      "154\n",
      "155\n",
      "156\n",
      "159\n",
      "161\n",
      "162\n",
      "167\n",
      "168\n",
      "169\n",
      "170\n",
      "171\n",
      "172\n",
      "173\n",
      "174\n",
      "176\n",
      "178\n",
      "179\n",
      "180\n",
      "181\n",
      "183\n",
      "188\n",
      "189\n",
      "191\n",
      "192\n",
      "193\n",
      "194\n",
      "196\n",
      "198\n",
      "200\n",
      "201\n",
      "202\n",
      "203\n",
      "205\n",
      "206\n",
      "207\n",
      "208\n",
      "210\n",
      "211\n",
      "212\n",
      "213\n",
      "214\n",
      "216\n",
      "217\n",
      "222\n",
      "232\n",
      "233\n",
      "234\n",
      "238\n",
      "239\n",
      "242\n",
      "243\n",
      "244\n",
      "245\n",
      "246\n",
      "247\n",
      "248\n",
      "249\n"
     ]
    }
   ],
   "source": [
    "for i in range(250):\n",
    "    if i not in set(data.issuerid.value_counts().index):\n",
    "        print(i)"
   ],
   "metadata": {
    "collapsed": false,
    "ExecuteTime": {
     "end_time": "2024-04-13T12:33:00.265337149Z",
     "start_time": "2024-04-13T12:33:00.213523364Z"
    }
   }
  },
  {
   "cell_type": "code",
   "execution_count": 47,
   "outputs": [],
   "source": [
    "from transformers import AutoTokenizer, AutoModelForSequenceClassification, BertForSequenceClassification"
   ],
   "metadata": {
    "collapsed": false,
    "ExecuteTime": {
     "end_time": "2024-04-13T23:30:50.335203753Z",
     "start_time": "2024-04-13T23:30:46.500720125Z"
    }
   }
  },
  {
   "cell_type": "code",
   "execution_count": 48,
   "outputs": [
    {
     "data": {
      "text/plain": "tokenizer_config.json:   0%|          | 0.00/398 [00:00<?, ?B/s]",
      "application/vnd.jupyter.widget-view+json": {
       "version_major": 2,
       "version_minor": 0,
       "model_id": "1d3ad0e0c2024b9bba01501020f9716b"
      }
     },
     "metadata": {},
     "output_type": "display_data"
    },
    {
     "data": {
      "text/plain": "tokenizer.json:   0%|          | 0.00/17.1M [00:00<?, ?B/s]",
      "application/vnd.jupyter.widget-view+json": {
       "version_major": 2,
       "version_minor": 0,
       "model_id": "a9c0a20b1c5f4d35923e49e6aa071616"
      }
     },
     "metadata": {},
     "output_type": "display_data"
    },
    {
     "data": {
      "text/plain": "special_tokens_map.json:   0%|          | 0.00/239 [00:00<?, ?B/s]",
      "application/vnd.jupyter.widget-view+json": {
       "version_major": 2,
       "version_minor": 0,
       "model_id": "63477c37c20f4a63a7e13c19ebb405c1"
      }
     },
     "metadata": {},
     "output_type": "display_data"
    },
    {
     "data": {
      "text/plain": "XLMRobertaTokenizerFast(name_or_path='sonnv/MFinBERT', vocab_size=250002, model_max_length=512, is_fast=True, padding_side='right', truncation_side='right', special_tokens={'bos_token': '<s>', 'eos_token': '</s>', 'unk_token': '<unk>', 'sep_token': '</s>', 'pad_token': '<pad>', 'cls_token': '<s>', 'mask_token': '<mask>'}, clean_up_tokenization_spaces=True),  added_tokens_decoder={\n\t0: AddedToken(\"<s>\", rstrip=False, lstrip=False, single_word=False, normalized=False, special=True),\n\t1: AddedToken(\"<pad>\", rstrip=False, lstrip=False, single_word=False, normalized=False, special=True),\n\t2: AddedToken(\"</s>\", rstrip=False, lstrip=False, single_word=False, normalized=False, special=True),\n\t3: AddedToken(\"<unk>\", rstrip=False, lstrip=False, single_word=False, normalized=False, special=True),\n\t250001: AddedToken(\"<mask>\", rstrip=False, lstrip=True, single_word=False, normalized=False, special=True),\n}"
     },
     "execution_count": 48,
     "metadata": {},
     "output_type": "execute_result"
    }
   ],
   "source": [
    "model_name = 'sonnv/MFinBERT'\n",
    "tokenizer = AutoTokenizer.from_pretrained(model_name)\n",
    "tokenizer"
   ],
   "metadata": {
    "collapsed": false,
    "ExecuteTime": {
     "end_time": "2024-04-13T23:30:59.871230135Z",
     "start_time": "2024-04-13T23:30:50.336530188Z"
    }
   }
  },
  {
   "cell_type": "code",
   "execution_count": 58,
   "outputs": [
    {
     "data": {
      "text/plain": "{'input_ids': tensor([[     0,      6, 163514,  38969,      2]]), 'attention_mask': tensor([[1, 1, 1, 1, 1]])}"
     },
     "execution_count": 58,
     "metadata": {},
     "output_type": "execute_result"
    }
   ],
   "source": [
    "tokenizer.encode_plus(\n",
    "    'QIWI',\n",
    "    add_special_tokens=True,\n",
    "    max_length=100,\n",
    "    truncation=True,\n",
    "    padding=False,\n",
    "    return_tensors=\"pt\"\n",
    ")"
   ],
   "metadata": {
    "collapsed": false,
    "ExecuteTime": {
     "end_time": "2024-04-13T23:33:36.171622519Z",
     "start_time": "2024-04-13T23:33:36.166044421Z"
    }
   }
  },
  {
   "cell_type": "code",
   "execution_count": 59,
   "outputs": [],
   "source": [
    "all_data = pd.read_csv('download/all_data.csv')"
   ],
   "metadata": {
    "collapsed": false,
    "ExecuteTime": {
     "end_time": "2024-04-13T23:57:50.509109283Z",
     "start_time": "2024-04-13T23:57:48.133760332Z"
    }
   }
  }
 ],
 "metadata": {
  "kernelspec": {
   "display_name": "Python 3",
   "language": "python",
   "name": "python3"
  },
  "language_info": {
   "codemirror_mode": {
    "name": "ipython",
    "version": 2
   },
   "file_extension": ".py",
   "mimetype": "text/x-python",
   "name": "python",
   "nbconvert_exporter": "python",
   "pygments_lexer": "ipython2",
   "version": "2.7.6"
  }
 },
 "nbformat": 4,
 "nbformat_minor": 0
}
