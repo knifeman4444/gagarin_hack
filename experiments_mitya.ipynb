{
 "cells": [
  {
   "cell_type": "code",
   "execution_count": 2,
   "metadata": {
    "collapsed": true,
    "ExecuteTime": {
     "end_time": "2024-04-12T11:27:06.961795279Z",
     "start_time": "2024-04-12T11:27:06.918396753Z"
    }
   },
   "outputs": [],
   "source": [
    "import pandas as pd\n",
    "import pickle"
   ]
  },
  {
   "cell_type": "code",
   "execution_count": 3,
   "outputs": [],
   "source": [
    "with open('data/sentiment_dataset/mentions texts.pickle', 'rb') as file:\n",
    "    # Загрузка объекта из файла\n",
    "    data = pickle.load(file)"
   ],
   "metadata": {
    "collapsed": false,
    "ExecuteTime": {
     "end_time": "2024-04-12T11:28:00.448769427Z",
     "start_time": "2024-04-12T11:28:00.385908412Z"
    }
   }
  },
  {
   "cell_type": "code",
   "execution_count": 6,
   "outputs": [
    {
     "data": {
      "text/plain": "        ChannelID  messageid  issuerid  MessageID           DateAdded  \\\n0      1197210433       5408        90       5408 2021-02-06 01:42:42   \n1      1203560567      64803        57      64803 2021-02-06 01:47:00   \n2      1197210433      23389       152      23389 2021-07-21 13:46:31   \n3      1066174394        677       112        677 2021-09-21 04:23:59   \n4      1239405989       4486       115       4486 2023-01-20 15:02:22   \n...           ...        ...       ...        ...                 ...   \n19350  1326656811       1758       116       1758 2021-02-06 19:05:52   \n19351  1075101206       6196       218       6196 2021-02-06 01:02:00   \n19352  1203560567     141069       227     141069 2021-06-15 14:30:24   \n19353  1160971567        283       115        283 2021-09-21 04:33:17   \n19354  1203560567     276916        88     276916 2024-02-29 20:24:21   \n\n               DatePosted                                        MessageText  \\\n0     2020-04-29 07:29:01  ?? Фокус недели #ФН  Сегодня ????? ММК опублик...   \n1     2020-01-21 12:51:42  ??#LSRG  ЛСР - операционные результаты (2019г)...   \n2     2021-07-21 11:15:46  #CHMF Северсталь (CHMF) впервые поставила в Бр...   \n3     2016-12-16 10:00:04  \"Версия: Многоходовочка по Роснефти  Роснефтег...   \n4     2023-01-20 13:03:38  🟢 Новости к этому часу   ⚪️ФРС США необходимо ...   \n...                   ...                                                ...   \n19350 2019-07-10 20:01:05  \"#NLMK \"\"Новолипецкий металлургический комбина...   \n19351 2020-10-15 10:48:10  ?? За 2020 год на МосБирже может появиться 10 ...   \n19352 2021-06-04 08:01:55  \"????#FIVE #ритейлеры #россия  СДЕЛКИ \"\"МАГНИТ...   \n19353 2020-02-17 23:11:07                  UPD: ТА Интер РАО UPD: ТА Новатэк   \n19354 2024-02-29 14:48:56  🇷🇺#MVID #отчетность  12 марта - М.Видео - МСФО...   \n\n       IsForward  \n0          False  \n1          False  \n2          False  \n3          False  \n4          False  \n...          ...  \n19350      False  \n19351      False  \n19352      False  \n19353      False  \n19354      False  \n\n[17985 rows x 8 columns]",
      "text/html": "<div>\n<style scoped>\n    .dataframe tbody tr th:only-of-type {\n        vertical-align: middle;\n    }\n\n    .dataframe tbody tr th {\n        vertical-align: top;\n    }\n\n    .dataframe thead th {\n        text-align: right;\n    }\n</style>\n<table border=\"1\" class=\"dataframe\">\n  <thead>\n    <tr style=\"text-align: right;\">\n      <th></th>\n      <th>ChannelID</th>\n      <th>messageid</th>\n      <th>issuerid</th>\n      <th>MessageID</th>\n      <th>DateAdded</th>\n      <th>DatePosted</th>\n      <th>MessageText</th>\n      <th>IsForward</th>\n    </tr>\n  </thead>\n  <tbody>\n    <tr>\n      <th>0</th>\n      <td>1197210433</td>\n      <td>5408</td>\n      <td>90</td>\n      <td>5408</td>\n      <td>2021-02-06 01:42:42</td>\n      <td>2020-04-29 07:29:01</td>\n      <td>?? Фокус недели #ФН  Сегодня ????? ММК опублик...</td>\n      <td>False</td>\n    </tr>\n    <tr>\n      <th>1</th>\n      <td>1203560567</td>\n      <td>64803</td>\n      <td>57</td>\n      <td>64803</td>\n      <td>2021-02-06 01:47:00</td>\n      <td>2020-01-21 12:51:42</td>\n      <td>??#LSRG  ЛСР - операционные результаты (2019г)...</td>\n      <td>False</td>\n    </tr>\n    <tr>\n      <th>2</th>\n      <td>1197210433</td>\n      <td>23389</td>\n      <td>152</td>\n      <td>23389</td>\n      <td>2021-07-21 13:46:31</td>\n      <td>2021-07-21 11:15:46</td>\n      <td>#CHMF Северсталь (CHMF) впервые поставила в Бр...</td>\n      <td>False</td>\n    </tr>\n    <tr>\n      <th>3</th>\n      <td>1066174394</td>\n      <td>677</td>\n      <td>112</td>\n      <td>677</td>\n      <td>2021-09-21 04:23:59</td>\n      <td>2016-12-16 10:00:04</td>\n      <td>\"Версия: Многоходовочка по Роснефти  Роснефтег...</td>\n      <td>False</td>\n    </tr>\n    <tr>\n      <th>4</th>\n      <td>1239405989</td>\n      <td>4486</td>\n      <td>115</td>\n      <td>4486</td>\n      <td>2023-01-20 15:02:22</td>\n      <td>2023-01-20 13:03:38</td>\n      <td>🟢 Новости к этому часу   ⚪️ФРС США необходимо ...</td>\n      <td>False</td>\n    </tr>\n    <tr>\n      <th>...</th>\n      <td>...</td>\n      <td>...</td>\n      <td>...</td>\n      <td>...</td>\n      <td>...</td>\n      <td>...</td>\n      <td>...</td>\n      <td>...</td>\n    </tr>\n    <tr>\n      <th>19350</th>\n      <td>1326656811</td>\n      <td>1758</td>\n      <td>116</td>\n      <td>1758</td>\n      <td>2021-02-06 19:05:52</td>\n      <td>2019-07-10 20:01:05</td>\n      <td>\"#NLMK \"\"Новолипецкий металлургический комбина...</td>\n      <td>False</td>\n    </tr>\n    <tr>\n      <th>19351</th>\n      <td>1075101206</td>\n      <td>6196</td>\n      <td>218</td>\n      <td>6196</td>\n      <td>2021-02-06 01:02:00</td>\n      <td>2020-10-15 10:48:10</td>\n      <td>?? За 2020 год на МосБирже может появиться 10 ...</td>\n      <td>False</td>\n    </tr>\n    <tr>\n      <th>19352</th>\n      <td>1203560567</td>\n      <td>141069</td>\n      <td>227</td>\n      <td>141069</td>\n      <td>2021-06-15 14:30:24</td>\n      <td>2021-06-04 08:01:55</td>\n      <td>\"????#FIVE #ритейлеры #россия  СДЕЛКИ \"\"МАГНИТ...</td>\n      <td>False</td>\n    </tr>\n    <tr>\n      <th>19353</th>\n      <td>1160971567</td>\n      <td>283</td>\n      <td>115</td>\n      <td>283</td>\n      <td>2021-09-21 04:33:17</td>\n      <td>2020-02-17 23:11:07</td>\n      <td>UPD: ТА Интер РАО UPD: ТА Новатэк</td>\n      <td>False</td>\n    </tr>\n    <tr>\n      <th>19354</th>\n      <td>1203560567</td>\n      <td>276916</td>\n      <td>88</td>\n      <td>276916</td>\n      <td>2024-02-29 20:24:21</td>\n      <td>2024-02-29 14:48:56</td>\n      <td>🇷🇺#MVID #отчетность  12 марта - М.Видео - МСФО...</td>\n      <td>False</td>\n    </tr>\n  </tbody>\n</table>\n<p>17985 rows × 8 columns</p>\n</div>"
     },
     "execution_count": 6,
     "metadata": {},
     "output_type": "execute_result"
    }
   ],
   "source": [
    "data[data.IsForward == False]"
   ],
   "metadata": {
    "collapsed": false,
    "ExecuteTime": {
     "end_time": "2024-04-12T11:29:02.933648981Z",
     "start_time": "2024-04-12T11:29:02.924511979Z"
    }
   }
  },
  {
   "cell_type": "code",
   "execution_count": 32,
   "outputs": [
    {
     "name": "stdout",
     "output_type": "stream",
     "text": [
      "\"🇷🇺#PLZL #отчетность  29 августа  - \"\"Полюс\"\" -  МСФО и операционные результаты 1п 2023г\"\n",
      "\n",
      "⛔️🇷🇺#YNDX #делистинг «Яндекс» сообщил, что биржа NASDAQ решила провести делистинг ее акций, компанию уведомили об этом сегодня. «Яндекс» заверил, что решение не повлияет на инвесторов на Мосбирже и работу компании, но все равно будет подавать апелляцию — РБК\n",
      "\n",
      "Главное к открытию среды (20.09): #брифинг  📌 Значение индекса ЖиС: 60 (жадность). Подробнее об индексе здесь.  📍 Курсы валют: 96.7 ₽/$ (-0.1%), 13.2 ₽/¥ (-0.4%).  📍 Мосбиржа (MOEX) c 21 сентября 2023 г. вводит ограничение на максимальное отклонение цен заявок, подаваемых участниками рынка на приобретение акций и депозитарных расписок российских эмитентов, включенных в третий уровень листинга, на уровне не выше 22% от цены закрытия предыдущего торгового дня. 📍 Русснефть (RNFT) сократит добычу в 2023 г. на 5% из-за решений ОПЕК+. Русснефть назвала уровень цен на российскую нефть в $72 за баррель комфортным. 📍 События сегодня: (1) США: решение по процентной ставке 21:00 мск и пресс-конференция Пауэлла 21:30 мск. (2) Запасы сырой нефти в США 17:30 мск. (3) Positive Technologies (POSI): четвертый заключительный раунд выкупа в рамках SPO в акциях.   📈Что влияет на рынки в ближайшие 5 дней?  Доступно членам @RDVPREMIUMbot  @AK47pfl\n",
      "\n",
      "AGRO в моменте 🚀\n",
      "\n",
      "💥🇷🇺#TRMK #дивиденд СД ТМК  -ДИВИДЕНДЫ 1П 2023Г =  13.45 РУБ/АКЦ  дивотсечка - 5 сентября\n",
      "\n"
     ]
    }
   ],
   "source": [
    "for i in range(5, 10):\n",
    "    print(data.iloc[i]['MessageText'])\n",
    "    print()"
   ],
   "metadata": {
    "collapsed": false,
    "ExecuteTime": {
     "end_time": "2024-04-12T14:11:05.589113548Z",
     "start_time": "2024-04-12T14:11:05.585869414Z"
    }
   }
  },
  {
   "cell_type": "code",
   "execution_count": 7,
   "outputs": [],
   "source": [
    "with open('data/sentiment_dataset/sentiment_texts.pickle', 'rb') as file:\n",
    "    # Загрузка объекта из файла\n",
    "    data_sent = pickle.load(file)"
   ],
   "metadata": {
    "collapsed": false,
    "ExecuteTime": {
     "end_time": "2024-04-12T11:29:39.556957374Z",
     "start_time": "2024-04-12T11:29:39.527523185Z"
    }
   }
  },
  {
   "cell_type": "code",
   "execution_count": 8,
   "outputs": [
    {
     "data": {
      "text/plain": "      MessageID   ChannelID  issuerid  SentimentScore           DateAdded  \\\n0        241407  1203560567       153               2 2023-05-12 19:03:20   \n1         33684  1136626166       230               4 2023-02-03 20:56:29   \n2         10090  1063908560       118               4 2023-06-02 19:18:37   \n3         10090  1063908560       220               5 2023-06-02 19:18:37   \n4          9826  1063908560        89               2 2023-04-24 17:51:38   \n...         ...         ...       ...             ...                 ...   \n9284      47482  1197210433       157               4 2023-03-20 14:53:14   \n9285     233829  1203560567       157               4 2023-03-20 14:58:04   \n9286       9789  1063908560       225               3 2023-04-19 17:51:56   \n9287     233867  1203560567       127               3 2023-03-20 14:58:04   \n9288      14315  1075101206       112               5 2023-02-07 14:56:26   \n\n              DatePosted                                        MessageText  \\\n0    2023-05-12 19:02:42  ⚠️🇷🇺#SELG #дивиденд  сд Селигдар: дивиденды 20...   \n1    2023-02-03 16:46:34  Ozon продолжает развивать специализированные ф...   \n2    2023-06-02 18:50:00  ​Фокусы продолжаются🔥Акции и инвестиции  📈ВТБ ...   \n3    2023-06-02 18:50:00  ​Фокусы продолжаются🔥Акции и инвестиции  📈ВТБ ...   \n4    2023-04-24 13:54:00  ​​Windfall Tax — налог на сверхприбыль. Какие ...   \n...                  ...                                                ...   \n9284 2023-03-20 12:15:21  #FLOT #Дивиденды 💰 7% — возможная дивдоходност...   \n9285 2023-03-20 12:05:49  🇷🇺#FLOT #отчетность  ЧИСТАЯ ПРИБЫЛЬ СОВКОМФЛОТ...   \n9286 2023-04-19 15:32:00  ​​Ключевой принцип создания портфеля  🔹Диверси...   \n9287 2023-03-20 14:33:32  \"💥🇷🇺#PLZL #листинг #торги  \"\"Полюс\"\" ведет диа...   \n9288 2023-02-07 14:28:09  Роснефть (ROSN) справедливая цена 425.17 рубля...   \n\n      IsForward  \n0         False  \n1         False  \n2         False  \n3         False  \n4         False  \n...         ...  \n9284      False  \n9285      False  \n9286      False  \n9287      False  \n9288      False  \n\n[9289 rows x 8 columns]",
      "text/html": "<div>\n<style scoped>\n    .dataframe tbody tr th:only-of-type {\n        vertical-align: middle;\n    }\n\n    .dataframe tbody tr th {\n        vertical-align: top;\n    }\n\n    .dataframe thead th {\n        text-align: right;\n    }\n</style>\n<table border=\"1\" class=\"dataframe\">\n  <thead>\n    <tr style=\"text-align: right;\">\n      <th></th>\n      <th>MessageID</th>\n      <th>ChannelID</th>\n      <th>issuerid</th>\n      <th>SentimentScore</th>\n      <th>DateAdded</th>\n      <th>DatePosted</th>\n      <th>MessageText</th>\n      <th>IsForward</th>\n    </tr>\n  </thead>\n  <tbody>\n    <tr>\n      <th>0</th>\n      <td>241407</td>\n      <td>1203560567</td>\n      <td>153</td>\n      <td>2</td>\n      <td>2023-05-12 19:03:20</td>\n      <td>2023-05-12 19:02:42</td>\n      <td>⚠️🇷🇺#SELG #дивиденд  сд Селигдар: дивиденды 20...</td>\n      <td>False</td>\n    </tr>\n    <tr>\n      <th>1</th>\n      <td>33684</td>\n      <td>1136626166</td>\n      <td>230</td>\n      <td>4</td>\n      <td>2023-02-03 20:56:29</td>\n      <td>2023-02-03 16:46:34</td>\n      <td>Ozon продолжает развивать специализированные ф...</td>\n      <td>False</td>\n    </tr>\n    <tr>\n      <th>2</th>\n      <td>10090</td>\n      <td>1063908560</td>\n      <td>118</td>\n      <td>4</td>\n      <td>2023-06-02 19:18:37</td>\n      <td>2023-06-02 18:50:00</td>\n      <td>​Фокусы продолжаются🔥Акции и инвестиции  📈ВТБ ...</td>\n      <td>False</td>\n    </tr>\n    <tr>\n      <th>3</th>\n      <td>10090</td>\n      <td>1063908560</td>\n      <td>220</td>\n      <td>5</td>\n      <td>2023-06-02 19:18:37</td>\n      <td>2023-06-02 18:50:00</td>\n      <td>​Фокусы продолжаются🔥Акции и инвестиции  📈ВТБ ...</td>\n      <td>False</td>\n    </tr>\n    <tr>\n      <th>4</th>\n      <td>9826</td>\n      <td>1063908560</td>\n      <td>89</td>\n      <td>2</td>\n      <td>2023-04-24 17:51:38</td>\n      <td>2023-04-24 13:54:00</td>\n      <td>​​Windfall Tax — налог на сверхприбыль. Какие ...</td>\n      <td>False</td>\n    </tr>\n    <tr>\n      <th>...</th>\n      <td>...</td>\n      <td>...</td>\n      <td>...</td>\n      <td>...</td>\n      <td>...</td>\n      <td>...</td>\n      <td>...</td>\n      <td>...</td>\n    </tr>\n    <tr>\n      <th>9284</th>\n      <td>47482</td>\n      <td>1197210433</td>\n      <td>157</td>\n      <td>4</td>\n      <td>2023-03-20 14:53:14</td>\n      <td>2023-03-20 12:15:21</td>\n      <td>#FLOT #Дивиденды 💰 7% — возможная дивдоходност...</td>\n      <td>False</td>\n    </tr>\n    <tr>\n      <th>9285</th>\n      <td>233829</td>\n      <td>1203560567</td>\n      <td>157</td>\n      <td>4</td>\n      <td>2023-03-20 14:58:04</td>\n      <td>2023-03-20 12:05:49</td>\n      <td>🇷🇺#FLOT #отчетность  ЧИСТАЯ ПРИБЫЛЬ СОВКОМФЛОТ...</td>\n      <td>False</td>\n    </tr>\n    <tr>\n      <th>9286</th>\n      <td>9789</td>\n      <td>1063908560</td>\n      <td>225</td>\n      <td>3</td>\n      <td>2023-04-19 17:51:56</td>\n      <td>2023-04-19 15:32:00</td>\n      <td>​​Ключевой принцип создания портфеля  🔹Диверси...</td>\n      <td>False</td>\n    </tr>\n    <tr>\n      <th>9287</th>\n      <td>233867</td>\n      <td>1203560567</td>\n      <td>127</td>\n      <td>3</td>\n      <td>2023-03-20 14:58:04</td>\n      <td>2023-03-20 14:33:32</td>\n      <td>\"💥🇷🇺#PLZL #листинг #торги  \"\"Полюс\"\" ведет диа...</td>\n      <td>False</td>\n    </tr>\n    <tr>\n      <th>9288</th>\n      <td>14315</td>\n      <td>1075101206</td>\n      <td>112</td>\n      <td>5</td>\n      <td>2023-02-07 14:56:26</td>\n      <td>2023-02-07 14:28:09</td>\n      <td>Роснефть (ROSN) справедливая цена 425.17 рубля...</td>\n      <td>False</td>\n    </tr>\n  </tbody>\n</table>\n<p>9289 rows × 8 columns</p>\n</div>"
     },
     "execution_count": 8,
     "metadata": {},
     "output_type": "execute_result"
    }
   ],
   "source": [
    "data_sent"
   ],
   "metadata": {
    "collapsed": false,
    "ExecuteTime": {
     "end_time": "2024-04-12T11:29:42.792281132Z",
     "start_time": "2024-04-12T11:29:42.789586149Z"
    }
   }
  },
  {
   "cell_type": "code",
   "execution_count": 15,
   "outputs": [],
   "source": [
    "df = pd.read_csv('data/sentiment_dataset/mentions.csv')\n",
    "df_sent = pd.read_csv('data/sentiment_dataset/sentiment.csv')"
   ],
   "metadata": {
    "collapsed": false,
    "ExecuteTime": {
     "end_time": "2024-04-12T11:32:26.441896679Z",
     "start_time": "2024-04-12T11:32:26.396706326Z"
    }
   }
  },
  {
   "cell_type": "code",
   "execution_count": 16,
   "outputs": [
    {
     "data": {
      "text/plain": "   Unnamed: 0   ChannelID  messageid  issuerid\n0           0  1197210433       5408        90",
      "text/html": "<div>\n<style scoped>\n    .dataframe tbody tr th:only-of-type {\n        vertical-align: middle;\n    }\n\n    .dataframe tbody tr th {\n        vertical-align: top;\n    }\n\n    .dataframe thead th {\n        text-align: right;\n    }\n</style>\n<table border=\"1\" class=\"dataframe\">\n  <thead>\n    <tr style=\"text-align: right;\">\n      <th></th>\n      <th>Unnamed: 0</th>\n      <th>ChannelID</th>\n      <th>messageid</th>\n      <th>issuerid</th>\n    </tr>\n  </thead>\n  <tbody>\n    <tr>\n      <th>0</th>\n      <td>0</td>\n      <td>1197210433</td>\n      <td>5408</td>\n      <td>90</td>\n    </tr>\n  </tbody>\n</table>\n</div>"
     },
     "execution_count": 16,
     "metadata": {},
     "output_type": "execute_result"
    }
   ],
   "source": [
    "df[df.messageid == 5408]"
   ],
   "metadata": {
    "collapsed": false,
    "ExecuteTime": {
     "end_time": "2024-04-12T11:32:27.018427675Z",
     "start_time": "2024-04-12T11:32:27.016412643Z"
    }
   }
  },
  {
   "cell_type": "code",
   "execution_count": 22,
   "outputs": [
    {
     "data": {
      "text/plain": "    ChannelID  messageid  issuerid  MessageID           DateAdded  \\\n0  1197210433       5408        90       5408 2021-02-06 01:42:42   \n\n           DatePosted                                        MessageText  \\\n0 2020-04-29 07:29:01  ?? Фокус недели #ФН  Сегодня ????? ММК опублик...   \n\n   IsForward  \n0      False  ",
      "text/html": "<div>\n<style scoped>\n    .dataframe tbody tr th:only-of-type {\n        vertical-align: middle;\n    }\n\n    .dataframe tbody tr th {\n        vertical-align: top;\n    }\n\n    .dataframe thead th {\n        text-align: right;\n    }\n</style>\n<table border=\"1\" class=\"dataframe\">\n  <thead>\n    <tr style=\"text-align: right;\">\n      <th></th>\n      <th>ChannelID</th>\n      <th>messageid</th>\n      <th>issuerid</th>\n      <th>MessageID</th>\n      <th>DateAdded</th>\n      <th>DatePosted</th>\n      <th>MessageText</th>\n      <th>IsForward</th>\n    </tr>\n  </thead>\n  <tbody>\n    <tr>\n      <th>0</th>\n      <td>1197210433</td>\n      <td>5408</td>\n      <td>90</td>\n      <td>5408</td>\n      <td>2021-02-06 01:42:42</td>\n      <td>2020-04-29 07:29:01</td>\n      <td>?? Фокус недели #ФН  Сегодня ????? ММК опублик...</td>\n      <td>False</td>\n    </tr>\n  </tbody>\n</table>\n</div>"
     },
     "execution_count": 22,
     "metadata": {},
     "output_type": "execute_result"
    }
   ],
   "source": [
    "data[data.messageid == 5408]"
   ],
   "metadata": {
    "collapsed": false,
    "ExecuteTime": {
     "end_time": "2024-04-12T11:35:39.027527610Z",
     "start_time": "2024-04-12T11:35:39.019493878Z"
    }
   }
  },
  {
   "cell_type": "code",
   "execution_count": 26,
   "outputs": [
    {
     "data": {
      "text/plain": "'?? фокус недели #фн  сегодня ????? ммк опубликует финансовую отчётность за 1 кв. 2020 #magn #отчетность ?????? магнит представит операционные результаты за 1 кв. 2020 #mgnt #результаты ?????? новатэк опубликует финансовую отчётность за 1 кв. 2020 #nvtk #отчетность ?????? фрс сша представит решение по процентной ставке #фрс #макро ?????? tesla опубликует финансовую отчётность за 1 кв. 2020 #tsla #отчетность  ?????? microsoft опубликует финансовую отчётность за 1 кв. 2020 #msft #отчетность  ?????? facebook опубликует финансовую отчётность за 1 кв. 2020 #fb #отчетность  30 апреля ?????? детский мир опубликует финансовую отчётность по мсфо за 2019 #dsky #отчетность ?????? энел россия опубликует финансовую отчётность по рсбу за 1 кв. #enru #отчетность ????? evraz представит операционные результаты за 1 кв. 2020 #evr #результаты ????? норникель опубликует производственные результаты за 1 кв. 2020 #gmkn #результаты ?????? русгидро представит финансовую отчётность по рсбу за 1 кв. 2020 #hydr #отчетность ????? сд нлмк рассмотрит дивиденды за 1 кв. 2020 #nlmk #дивиденды  ?????? apple опубликует финансовую отчётность за 1 кв. 2020 #aapl #отчетность  ?????? amazon опубликует финансовую отчётность за 1 кв. 2020 #amzn #отчетность  ?????? gilead опубликует финансовую отчётность за 1 кв. 2020 #gild #отчетность  1 мая ?????? торги на мосбирже не проводятся из-за праздников #moex #график ?????? exxon mobil опубликует финансовую отчетность за 1 кв. 2020 #xom #отчетность  ?????? chevron публикует финансовую отчетность за 1 кв. 2020 #cvx #отчетность  4 мая ?????? акции цмт последний день торгуются с дивидендом 0,56 руб. на акцию #wtcm #дивиденды'"
     },
     "execution_count": 26,
     "metadata": {},
     "output_type": "execute_result"
    }
   ],
   "source": [
    "data[data.messageid == 5408]['MessageText'].item().lower()"
   ],
   "metadata": {
    "collapsed": false,
    "ExecuteTime": {
     "end_time": "2024-04-12T11:37:59.783987870Z",
     "start_time": "2024-04-12T11:37:59.781792105Z"
    }
   }
  }
 ],
 "metadata": {
  "kernelspec": {
   "display_name": "Python 3",
   "language": "python",
   "name": "python3"
  },
  "language_info": {
   "codemirror_mode": {
    "name": "ipython",
    "version": 2
   },
   "file_extension": ".py",
   "mimetype": "text/x-python",
   "name": "python",
   "nbconvert_exporter": "python",
   "pygments_lexer": "ipython2",
   "version": "2.7.6"
  }
 },
 "nbformat": 4,
 "nbformat_minor": 0
}
